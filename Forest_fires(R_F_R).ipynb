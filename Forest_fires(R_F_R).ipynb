{
  "cells": [
    {
      "cell_type": "code",
      "execution_count": 99,
      "metadata": {
        "id": "9FvFPC_IoV_t"
      },
      "outputs": [],
      "source": [
        "# Import library for exploring dataset\n",
        "import pandas as pd \n",
        "import numpy as np\n",
        "import matplotlib.pyplot as plt\n",
        "import seaborn as sns"
      ]
    },
    {
      "cell_type": "code",
      "execution_count": 100,
      "metadata": {
        "id": "GIpQNeRh2hi7"
      },
      "outputs": [],
      "source": [
        "df1 = pd.read_csv(\"/content/forest_fires(1).csv\")\n",
        "df2 = pd.read_csv(\"/content/forest_fires(2).csv\")\n",
        "\n"
      ]
    },
    {
      "cell_type": "code",
      "execution_count": 101,
      "metadata": {
        "colab": {
          "base_uri": "https://localhost:8080/",
          "height": 206
        },
        "id": "7-MMq_sj2w8K",
        "outputId": "5546a0aa-ded6-42f7-a24a-a8e17e1ca297"
      },
      "outputs": [
        {
          "output_type": "execute_result",
          "data": {
            "text/plain": [
              "   id  X  Y month  day  FFMC   DMC\n",
              "0   1  7  5   mar  fri  86.2  26.2\n",
              "1   2  7  4   oct  tue  90.6   NaN\n",
              "2   3  7  4   oct  sat  90.6  43.7\n",
              "3   4  8  6   mar  fri  91.7  33.3\n",
              "4   5  8  6   mar    ?  89.3  51.3"
            ],
            "text/html": [
              "\n",
              "  <div id=\"df-5625a4ae-5d0c-4812-ae62-4673e66e3f37\">\n",
              "    <div class=\"colab-df-container\">\n",
              "      <div>\n",
              "<style scoped>\n",
              "    .dataframe tbody tr th:only-of-type {\n",
              "        vertical-align: middle;\n",
              "    }\n",
              "\n",
              "    .dataframe tbody tr th {\n",
              "        vertical-align: top;\n",
              "    }\n",
              "\n",
              "    .dataframe thead th {\n",
              "        text-align: right;\n",
              "    }\n",
              "</style>\n",
              "<table border=\"1\" class=\"dataframe\">\n",
              "  <thead>\n",
              "    <tr style=\"text-align: right;\">\n",
              "      <th></th>\n",
              "      <th>id</th>\n",
              "      <th>X</th>\n",
              "      <th>Y</th>\n",
              "      <th>month</th>\n",
              "      <th>day</th>\n",
              "      <th>FFMC</th>\n",
              "      <th>DMC</th>\n",
              "    </tr>\n",
              "  </thead>\n",
              "  <tbody>\n",
              "    <tr>\n",
              "      <th>0</th>\n",
              "      <td>1</td>\n",
              "      <td>7</td>\n",
              "      <td>5</td>\n",
              "      <td>mar</td>\n",
              "      <td>fri</td>\n",
              "      <td>86.2</td>\n",
              "      <td>26.2</td>\n",
              "    </tr>\n",
              "    <tr>\n",
              "      <th>1</th>\n",
              "      <td>2</td>\n",
              "      <td>7</td>\n",
              "      <td>4</td>\n",
              "      <td>oct</td>\n",
              "      <td>tue</td>\n",
              "      <td>90.6</td>\n",
              "      <td>NaN</td>\n",
              "    </tr>\n",
              "    <tr>\n",
              "      <th>2</th>\n",
              "      <td>3</td>\n",
              "      <td>7</td>\n",
              "      <td>4</td>\n",
              "      <td>oct</td>\n",
              "      <td>sat</td>\n",
              "      <td>90.6</td>\n",
              "      <td>43.7</td>\n",
              "    </tr>\n",
              "    <tr>\n",
              "      <th>3</th>\n",
              "      <td>4</td>\n",
              "      <td>8</td>\n",
              "      <td>6</td>\n",
              "      <td>mar</td>\n",
              "      <td>fri</td>\n",
              "      <td>91.7</td>\n",
              "      <td>33.3</td>\n",
              "    </tr>\n",
              "    <tr>\n",
              "      <th>4</th>\n",
              "      <td>5</td>\n",
              "      <td>8</td>\n",
              "      <td>6</td>\n",
              "      <td>mar</td>\n",
              "      <td>?</td>\n",
              "      <td>89.3</td>\n",
              "      <td>51.3</td>\n",
              "    </tr>\n",
              "  </tbody>\n",
              "</table>\n",
              "</div>\n",
              "      <button class=\"colab-df-convert\" onclick=\"convertToInteractive('df-5625a4ae-5d0c-4812-ae62-4673e66e3f37')\"\n",
              "              title=\"Convert this dataframe to an interactive table.\"\n",
              "              style=\"display:none;\">\n",
              "        \n",
              "  <svg xmlns=\"http://www.w3.org/2000/svg\" height=\"24px\"viewBox=\"0 0 24 24\"\n",
              "       width=\"24px\">\n",
              "    <path d=\"M0 0h24v24H0V0z\" fill=\"none\"/>\n",
              "    <path d=\"M18.56 5.44l.94 2.06.94-2.06 2.06-.94-2.06-.94-.94-2.06-.94 2.06-2.06.94zm-11 1L8.5 8.5l.94-2.06 2.06-.94-2.06-.94L8.5 2.5l-.94 2.06-2.06.94zm10 10l.94 2.06.94-2.06 2.06-.94-2.06-.94-.94-2.06-.94 2.06-2.06.94z\"/><path d=\"M17.41 7.96l-1.37-1.37c-.4-.4-.92-.59-1.43-.59-.52 0-1.04.2-1.43.59L10.3 9.45l-7.72 7.72c-.78.78-.78 2.05 0 2.83L4 21.41c.39.39.9.59 1.41.59.51 0 1.02-.2 1.41-.59l7.78-7.78 2.81-2.81c.8-.78.8-2.07 0-2.86zM5.41 20L4 18.59l7.72-7.72 1.47 1.35L5.41 20z\"/>\n",
              "  </svg>\n",
              "      </button>\n",
              "      \n",
              "  <style>\n",
              "    .colab-df-container {\n",
              "      display:flex;\n",
              "      flex-wrap:wrap;\n",
              "      gap: 12px;\n",
              "    }\n",
              "\n",
              "    .colab-df-convert {\n",
              "      background-color: #E8F0FE;\n",
              "      border: none;\n",
              "      border-radius: 50%;\n",
              "      cursor: pointer;\n",
              "      display: none;\n",
              "      fill: #1967D2;\n",
              "      height: 32px;\n",
              "      padding: 0 0 0 0;\n",
              "      width: 32px;\n",
              "    }\n",
              "\n",
              "    .colab-df-convert:hover {\n",
              "      background-color: #E2EBFA;\n",
              "      box-shadow: 0px 1px 2px rgba(60, 64, 67, 0.3), 0px 1px 3px 1px rgba(60, 64, 67, 0.15);\n",
              "      fill: #174EA6;\n",
              "    }\n",
              "\n",
              "    [theme=dark] .colab-df-convert {\n",
              "      background-color: #3B4455;\n",
              "      fill: #D2E3FC;\n",
              "    }\n",
              "\n",
              "    [theme=dark] .colab-df-convert:hover {\n",
              "      background-color: #434B5C;\n",
              "      box-shadow: 0px 1px 3px 1px rgba(0, 0, 0, 0.15);\n",
              "      filter: drop-shadow(0px 1px 2px rgba(0, 0, 0, 0.3));\n",
              "      fill: #FFFFFF;\n",
              "    }\n",
              "  </style>\n",
              "\n",
              "      <script>\n",
              "        const buttonEl =\n",
              "          document.querySelector('#df-5625a4ae-5d0c-4812-ae62-4673e66e3f37 button.colab-df-convert');\n",
              "        buttonEl.style.display =\n",
              "          google.colab.kernel.accessAllowed ? 'block' : 'none';\n",
              "\n",
              "        async function convertToInteractive(key) {\n",
              "          const element = document.querySelector('#df-5625a4ae-5d0c-4812-ae62-4673e66e3f37');\n",
              "          const dataTable =\n",
              "            await google.colab.kernel.invokeFunction('convertToInteractive',\n",
              "                                                     [key], {});\n",
              "          if (!dataTable) return;\n",
              "\n",
              "          const docLinkHtml = 'Like what you see? Visit the ' +\n",
              "            '<a target=\"_blank\" href=https://colab.research.google.com/notebooks/data_table.ipynb>data table notebook</a>'\n",
              "            + ' to learn more about interactive tables.';\n",
              "          element.innerHTML = '';\n",
              "          dataTable['output_type'] = 'display_data';\n",
              "          await google.colab.output.renderOutput(dataTable, element);\n",
              "          const docLink = document.createElement('div');\n",
              "          docLink.innerHTML = docLinkHtml;\n",
              "          element.appendChild(docLink);\n",
              "        }\n",
              "      </script>\n",
              "    </div>\n",
              "  </div>\n",
              "  "
            ]
          },
          "metadata": {},
          "execution_count": 101
        }
      ],
      "source": [
        "df1.head()"
      ]
    },
    {
      "cell_type": "code",
      "execution_count": 102,
      "metadata": {
        "colab": {
          "base_uri": "https://localhost:8080/",
          "height": 206
        },
        "id": "TBtGy0q5z8W7",
        "outputId": "79133fda-38ed-41ce-9f84-0f8ddc7cb346"
      },
      "outputs": [
        {
          "output_type": "execute_result",
          "data": {
            "text/plain": [
              "   id  X  Y month  day  FFMC   DMC     DC  ISI  temp  RH  wind  rain  area\n",
              "0   1  7  5   mar  fri  86.2  26.2   94.3  5.1   8.2  51   NaN   0.0   0.0\n",
              "1   2  7  4   oct  tue  90.6   NaN  669.1  6.7  18.0  33   NaN   0.0   0.0\n",
              "2   3  7  4   oct  sat  90.6  43.7  686.9  6.7   NaN  33   1.3   0.0   0.0\n",
              "3   4  8  6   mar  fri  91.7  33.3   77.5  9.0   8.3  97   4.0   0.2   0.0\n",
              "4   5  8  6   mar    ?  89.3  51.3  102.2  9.6   NaN  99   NaN   0.0   0.0"
            ],
            "text/html": [
              "\n",
              "  <div id=\"df-595d427f-9c3d-4382-ba74-1f6301b0f1b9\">\n",
              "    <div class=\"colab-df-container\">\n",
              "      <div>\n",
              "<style scoped>\n",
              "    .dataframe tbody tr th:only-of-type {\n",
              "        vertical-align: middle;\n",
              "    }\n",
              "\n",
              "    .dataframe tbody tr th {\n",
              "        vertical-align: top;\n",
              "    }\n",
              "\n",
              "    .dataframe thead th {\n",
              "        text-align: right;\n",
              "    }\n",
              "</style>\n",
              "<table border=\"1\" class=\"dataframe\">\n",
              "  <thead>\n",
              "    <tr style=\"text-align: right;\">\n",
              "      <th></th>\n",
              "      <th>id</th>\n",
              "      <th>X</th>\n",
              "      <th>Y</th>\n",
              "      <th>month</th>\n",
              "      <th>day</th>\n",
              "      <th>FFMC</th>\n",
              "      <th>DMC</th>\n",
              "      <th>DC</th>\n",
              "      <th>ISI</th>\n",
              "      <th>temp</th>\n",
              "      <th>RH</th>\n",
              "      <th>wind</th>\n",
              "      <th>rain</th>\n",
              "      <th>area</th>\n",
              "    </tr>\n",
              "  </thead>\n",
              "  <tbody>\n",
              "    <tr>\n",
              "      <th>0</th>\n",
              "      <td>1</td>\n",
              "      <td>7</td>\n",
              "      <td>5</td>\n",
              "      <td>mar</td>\n",
              "      <td>fri</td>\n",
              "      <td>86.2</td>\n",
              "      <td>26.2</td>\n",
              "      <td>94.3</td>\n",
              "      <td>5.1</td>\n",
              "      <td>8.2</td>\n",
              "      <td>51</td>\n",
              "      <td>NaN</td>\n",
              "      <td>0.0</td>\n",
              "      <td>0.0</td>\n",
              "    </tr>\n",
              "    <tr>\n",
              "      <th>1</th>\n",
              "      <td>2</td>\n",
              "      <td>7</td>\n",
              "      <td>4</td>\n",
              "      <td>oct</td>\n",
              "      <td>tue</td>\n",
              "      <td>90.6</td>\n",
              "      <td>NaN</td>\n",
              "      <td>669.1</td>\n",
              "      <td>6.7</td>\n",
              "      <td>18.0</td>\n",
              "      <td>33</td>\n",
              "      <td>NaN</td>\n",
              "      <td>0.0</td>\n",
              "      <td>0.0</td>\n",
              "    </tr>\n",
              "    <tr>\n",
              "      <th>2</th>\n",
              "      <td>3</td>\n",
              "      <td>7</td>\n",
              "      <td>4</td>\n",
              "      <td>oct</td>\n",
              "      <td>sat</td>\n",
              "      <td>90.6</td>\n",
              "      <td>43.7</td>\n",
              "      <td>686.9</td>\n",
              "      <td>6.7</td>\n",
              "      <td>NaN</td>\n",
              "      <td>33</td>\n",
              "      <td>1.3</td>\n",
              "      <td>0.0</td>\n",
              "      <td>0.0</td>\n",
              "    </tr>\n",
              "    <tr>\n",
              "      <th>3</th>\n",
              "      <td>4</td>\n",
              "      <td>8</td>\n",
              "      <td>6</td>\n",
              "      <td>mar</td>\n",
              "      <td>fri</td>\n",
              "      <td>91.7</td>\n",
              "      <td>33.3</td>\n",
              "      <td>77.5</td>\n",
              "      <td>9.0</td>\n",
              "      <td>8.3</td>\n",
              "      <td>97</td>\n",
              "      <td>4.0</td>\n",
              "      <td>0.2</td>\n",
              "      <td>0.0</td>\n",
              "    </tr>\n",
              "    <tr>\n",
              "      <th>4</th>\n",
              "      <td>5</td>\n",
              "      <td>8</td>\n",
              "      <td>6</td>\n",
              "      <td>mar</td>\n",
              "      <td>?</td>\n",
              "      <td>89.3</td>\n",
              "      <td>51.3</td>\n",
              "      <td>102.2</td>\n",
              "      <td>9.6</td>\n",
              "      <td>NaN</td>\n",
              "      <td>99</td>\n",
              "      <td>NaN</td>\n",
              "      <td>0.0</td>\n",
              "      <td>0.0</td>\n",
              "    </tr>\n",
              "  </tbody>\n",
              "</table>\n",
              "</div>\n",
              "      <button class=\"colab-df-convert\" onclick=\"convertToInteractive('df-595d427f-9c3d-4382-ba74-1f6301b0f1b9')\"\n",
              "              title=\"Convert this dataframe to an interactive table.\"\n",
              "              style=\"display:none;\">\n",
              "        \n",
              "  <svg xmlns=\"http://www.w3.org/2000/svg\" height=\"24px\"viewBox=\"0 0 24 24\"\n",
              "       width=\"24px\">\n",
              "    <path d=\"M0 0h24v24H0V0z\" fill=\"none\"/>\n",
              "    <path d=\"M18.56 5.44l.94 2.06.94-2.06 2.06-.94-2.06-.94-.94-2.06-.94 2.06-2.06.94zm-11 1L8.5 8.5l.94-2.06 2.06-.94-2.06-.94L8.5 2.5l-.94 2.06-2.06.94zm10 10l.94 2.06.94-2.06 2.06-.94-2.06-.94-.94-2.06-.94 2.06-2.06.94z\"/><path d=\"M17.41 7.96l-1.37-1.37c-.4-.4-.92-.59-1.43-.59-.52 0-1.04.2-1.43.59L10.3 9.45l-7.72 7.72c-.78.78-.78 2.05 0 2.83L4 21.41c.39.39.9.59 1.41.59.51 0 1.02-.2 1.41-.59l7.78-7.78 2.81-2.81c.8-.78.8-2.07 0-2.86zM5.41 20L4 18.59l7.72-7.72 1.47 1.35L5.41 20z\"/>\n",
              "  </svg>\n",
              "      </button>\n",
              "      \n",
              "  <style>\n",
              "    .colab-df-container {\n",
              "      display:flex;\n",
              "      flex-wrap:wrap;\n",
              "      gap: 12px;\n",
              "    }\n",
              "\n",
              "    .colab-df-convert {\n",
              "      background-color: #E8F0FE;\n",
              "      border: none;\n",
              "      border-radius: 50%;\n",
              "      cursor: pointer;\n",
              "      display: none;\n",
              "      fill: #1967D2;\n",
              "      height: 32px;\n",
              "      padding: 0 0 0 0;\n",
              "      width: 32px;\n",
              "    }\n",
              "\n",
              "    .colab-df-convert:hover {\n",
              "      background-color: #E2EBFA;\n",
              "      box-shadow: 0px 1px 2px rgba(60, 64, 67, 0.3), 0px 1px 3px 1px rgba(60, 64, 67, 0.15);\n",
              "      fill: #174EA6;\n",
              "    }\n",
              "\n",
              "    [theme=dark] .colab-df-convert {\n",
              "      background-color: #3B4455;\n",
              "      fill: #D2E3FC;\n",
              "    }\n",
              "\n",
              "    [theme=dark] .colab-df-convert:hover {\n",
              "      background-color: #434B5C;\n",
              "      box-shadow: 0px 1px 3px 1px rgba(0, 0, 0, 0.15);\n",
              "      filter: drop-shadow(0px 1px 2px rgba(0, 0, 0, 0.3));\n",
              "      fill: #FFFFFF;\n",
              "    }\n",
              "  </style>\n",
              "\n",
              "      <script>\n",
              "        const buttonEl =\n",
              "          document.querySelector('#df-595d427f-9c3d-4382-ba74-1f6301b0f1b9 button.colab-df-convert');\n",
              "        buttonEl.style.display =\n",
              "          google.colab.kernel.accessAllowed ? 'block' : 'none';\n",
              "\n",
              "        async function convertToInteractive(key) {\n",
              "          const element = document.querySelector('#df-595d427f-9c3d-4382-ba74-1f6301b0f1b9');\n",
              "          const dataTable =\n",
              "            await google.colab.kernel.invokeFunction('convertToInteractive',\n",
              "                                                     [key], {});\n",
              "          if (!dataTable) return;\n",
              "\n",
              "          const docLinkHtml = 'Like what you see? Visit the ' +\n",
              "            '<a target=\"_blank\" href=https://colab.research.google.com/notebooks/data_table.ipynb>data table notebook</a>'\n",
              "            + ' to learn more about interactive tables.';\n",
              "          element.innerHTML = '';\n",
              "          dataTable['output_type'] = 'display_data';\n",
              "          await google.colab.output.renderOutput(dataTable, element);\n",
              "          const docLink = document.createElement('div');\n",
              "          docLink.innerHTML = docLinkHtml;\n",
              "          element.appendChild(docLink);\n",
              "        }\n",
              "      </script>\n",
              "    </div>\n",
              "  </div>\n",
              "  "
            ]
          },
          "metadata": {},
          "execution_count": 102
        }
      ],
      "source": [
        "df2.head()"
      ]
    },
    {
      "cell_type": "code",
      "execution_count": 103,
      "metadata": {
        "colab": {
          "base_uri": "https://localhost:8080/"
        },
        "id": "3cmQj6yhz-8P",
        "outputId": "475669f8-0b4f-47b3-9bd9-334ccb18d693"
      },
      "outputs": [
        {
          "output_type": "stream",
          "name": "stdout",
          "text": [
            "      id  X  Y month  day  FFMC   DMC     DC   ISI  temp  RH  wind  rain  \\\n",
            "0      1  7  5   mar  fri  86.2  26.2   94.3   5.1   8.2  51   NaN   0.0   \n",
            "1      2  7  4   oct  tue  90.6   NaN  669.1   6.7  18.0  33   NaN   0.0   \n",
            "2      3  7  4   oct  sat  90.6  43.7  686.9   6.7   NaN  33   1.3   0.0   \n",
            "3      4  8  6   mar  fri  91.7  33.3   77.5   9.0   8.3  97   4.0   0.2   \n",
            "4      5  8  6   mar  NaN  89.3  51.3  102.2   9.6   NaN  99   NaN   0.0   \n",
            "..   ... .. ..   ...  ...   ...   ...    ...   ...   ...  ..   ...   ...   \n",
            "512  513  4  3   aug  NaN  81.6   NaN  665.6   1.9  27.8  32   2.7   0.0   \n",
            "513  514  2  4   aug  sun  81.6  56.7  665.6   1.9  21.9  71   5.8   0.0   \n",
            "514  515  7  4   aug  NaN  81.6  56.7  665.6   1.9  21.2  70   6.7   0.0   \n",
            "515  516  1  4   aug  NaN  94.4   NaN  614.7  11.3  25.6  42   NaN   0.0   \n",
            "516  517  6  3   nov  NaN  79.5   NaN  106.7   1.1  11.8  31   4.5   0.0   \n",
            "\n",
            "      area  \n",
            "0     0.00  \n",
            "1     0.00  \n",
            "2     0.00  \n",
            "3     0.00  \n",
            "4     0.00  \n",
            "..     ...  \n",
            "512   6.44  \n",
            "513  54.29  \n",
            "514  11.16  \n",
            "515   0.00  \n",
            "516   0.00  \n",
            "\n",
            "[517 rows x 14 columns]\n"
          ]
        }
      ],
      "source": [
        "common_column = 'id','X','Y','month','day','FFMC','DMC'\n",
        "\n",
        "# Merge the two datasets on a common column\n",
        "df = pd.merge(df1, df2, on=common_column)\n",
        "df.replace(['?', '/', '#'], np.nan, inplace=True)\n",
        "\n",
        "# Print the merged dataset\n",
        "print(df)"
      ]
    },
    {
      "cell_type": "code",
      "execution_count": 104,
      "metadata": {
        "colab": {
          "base_uri": "https://localhost:8080/"
        },
        "id": "ICnnwYzT20mo",
        "outputId": "c5f0a07f-89e4-496e-b92a-3e05de804faa"
      },
      "outputs": [
        {
          "output_type": "execute_result",
          "data": {
            "text/plain": [
              "(517, 14)"
            ]
          },
          "metadata": {},
          "execution_count": 104
        }
      ],
      "source": [
        "df.shape"
      ]
    },
    {
      "cell_type": "code",
      "execution_count": 105,
      "metadata": {
        "colab": {
          "base_uri": "https://localhost:8080/"
        },
        "id": "p5y7AETX3OMA",
        "outputId": "a05f2359-9d7a-465b-8188-6a3aa4be7eb9"
      },
      "outputs": [
        {
          "output_type": "execute_result",
          "data": {
            "text/plain": [
              "Index(['id', 'X', 'Y', 'month', 'day', 'FFMC', 'DMC', 'DC', 'ISI', 'temp',\n",
              "       'RH', 'wind', 'rain', 'area'],\n",
              "      dtype='object')"
            ]
          },
          "metadata": {},
          "execution_count": 105
        }
      ],
      "source": [
        "df.columns"
      ]
    },
    {
      "cell_type": "code",
      "execution_count": 106,
      "metadata": {
        "colab": {
          "base_uri": "https://localhost:8080/",
          "height": 364
        },
        "id": "Ydc5dN0C39Li",
        "outputId": "aae835fb-686b-4eee-8abe-e13e4fec1d30"
      },
      "outputs": [
        {
          "output_type": "execute_result",
          "data": {
            "text/plain": [
              "               id           X           Y        FFMC         DMC          DC  \\\n",
              "count  517.000000  517.000000  517.000000  517.000000  387.000000  517.000000   \n",
              "mean   259.000000    4.669246    4.299807   90.644681  110.722997  547.940039   \n",
              "std    149.389312    2.313778    1.229900    5.520111   64.253808  248.066192   \n",
              "min      1.000000    1.000000    2.000000   18.700000    1.100000    7.900000   \n",
              "25%    130.000000    3.000000    4.000000   90.200000   69.150000  437.700000   \n",
              "50%    259.000000    4.000000    4.000000   91.600000  108.000000  664.200000   \n",
              "75%    388.000000    7.000000    5.000000   92.900000  142.400000  713.900000   \n",
              "max    517.000000    9.000000    9.000000   96.200000  291.300000  860.600000   \n",
              "\n",
              "              ISI        temp          RH        wind        rain         area  \n",
              "count  517.000000  417.000000  517.000000  308.000000  517.000000   517.000000  \n",
              "mean     9.021663   18.936211   44.288201    3.995130    0.021663    12.847292  \n",
              "std      4.559477    5.931578   16.317469    1.707888    0.295959    63.655818  \n",
              "min      0.000000    2.200000   15.000000    0.900000    0.000000     0.000000  \n",
              "25%      6.500000   15.700000   33.000000    2.700000    0.000000     0.000000  \n",
              "50%      8.400000   19.400000   42.000000    4.000000    0.000000     0.520000  \n",
              "75%     10.800000   23.000000   53.000000    4.900000    0.000000     6.570000  \n",
              "max     56.100000   33.300000  100.000000    9.400000    6.400000  1090.840000  "
            ],
            "text/html": [
              "\n",
              "  <div id=\"df-b9e67224-e788-4570-907d-137a200f73c0\">\n",
              "    <div class=\"colab-df-container\">\n",
              "      <div>\n",
              "<style scoped>\n",
              "    .dataframe tbody tr th:only-of-type {\n",
              "        vertical-align: middle;\n",
              "    }\n",
              "\n",
              "    .dataframe tbody tr th {\n",
              "        vertical-align: top;\n",
              "    }\n",
              "\n",
              "    .dataframe thead th {\n",
              "        text-align: right;\n",
              "    }\n",
              "</style>\n",
              "<table border=\"1\" class=\"dataframe\">\n",
              "  <thead>\n",
              "    <tr style=\"text-align: right;\">\n",
              "      <th></th>\n",
              "      <th>id</th>\n",
              "      <th>X</th>\n",
              "      <th>Y</th>\n",
              "      <th>FFMC</th>\n",
              "      <th>DMC</th>\n",
              "      <th>DC</th>\n",
              "      <th>ISI</th>\n",
              "      <th>temp</th>\n",
              "      <th>RH</th>\n",
              "      <th>wind</th>\n",
              "      <th>rain</th>\n",
              "      <th>area</th>\n",
              "    </tr>\n",
              "  </thead>\n",
              "  <tbody>\n",
              "    <tr>\n",
              "      <th>count</th>\n",
              "      <td>517.000000</td>\n",
              "      <td>517.000000</td>\n",
              "      <td>517.000000</td>\n",
              "      <td>517.000000</td>\n",
              "      <td>387.000000</td>\n",
              "      <td>517.000000</td>\n",
              "      <td>517.000000</td>\n",
              "      <td>417.000000</td>\n",
              "      <td>517.000000</td>\n",
              "      <td>308.000000</td>\n",
              "      <td>517.000000</td>\n",
              "      <td>517.000000</td>\n",
              "    </tr>\n",
              "    <tr>\n",
              "      <th>mean</th>\n",
              "      <td>259.000000</td>\n",
              "      <td>4.669246</td>\n",
              "      <td>4.299807</td>\n",
              "      <td>90.644681</td>\n",
              "      <td>110.722997</td>\n",
              "      <td>547.940039</td>\n",
              "      <td>9.021663</td>\n",
              "      <td>18.936211</td>\n",
              "      <td>44.288201</td>\n",
              "      <td>3.995130</td>\n",
              "      <td>0.021663</td>\n",
              "      <td>12.847292</td>\n",
              "    </tr>\n",
              "    <tr>\n",
              "      <th>std</th>\n",
              "      <td>149.389312</td>\n",
              "      <td>2.313778</td>\n",
              "      <td>1.229900</td>\n",
              "      <td>5.520111</td>\n",
              "      <td>64.253808</td>\n",
              "      <td>248.066192</td>\n",
              "      <td>4.559477</td>\n",
              "      <td>5.931578</td>\n",
              "      <td>16.317469</td>\n",
              "      <td>1.707888</td>\n",
              "      <td>0.295959</td>\n",
              "      <td>63.655818</td>\n",
              "    </tr>\n",
              "    <tr>\n",
              "      <th>min</th>\n",
              "      <td>1.000000</td>\n",
              "      <td>1.000000</td>\n",
              "      <td>2.000000</td>\n",
              "      <td>18.700000</td>\n",
              "      <td>1.100000</td>\n",
              "      <td>7.900000</td>\n",
              "      <td>0.000000</td>\n",
              "      <td>2.200000</td>\n",
              "      <td>15.000000</td>\n",
              "      <td>0.900000</td>\n",
              "      <td>0.000000</td>\n",
              "      <td>0.000000</td>\n",
              "    </tr>\n",
              "    <tr>\n",
              "      <th>25%</th>\n",
              "      <td>130.000000</td>\n",
              "      <td>3.000000</td>\n",
              "      <td>4.000000</td>\n",
              "      <td>90.200000</td>\n",
              "      <td>69.150000</td>\n",
              "      <td>437.700000</td>\n",
              "      <td>6.500000</td>\n",
              "      <td>15.700000</td>\n",
              "      <td>33.000000</td>\n",
              "      <td>2.700000</td>\n",
              "      <td>0.000000</td>\n",
              "      <td>0.000000</td>\n",
              "    </tr>\n",
              "    <tr>\n",
              "      <th>50%</th>\n",
              "      <td>259.000000</td>\n",
              "      <td>4.000000</td>\n",
              "      <td>4.000000</td>\n",
              "      <td>91.600000</td>\n",
              "      <td>108.000000</td>\n",
              "      <td>664.200000</td>\n",
              "      <td>8.400000</td>\n",
              "      <td>19.400000</td>\n",
              "      <td>42.000000</td>\n",
              "      <td>4.000000</td>\n",
              "      <td>0.000000</td>\n",
              "      <td>0.520000</td>\n",
              "    </tr>\n",
              "    <tr>\n",
              "      <th>75%</th>\n",
              "      <td>388.000000</td>\n",
              "      <td>7.000000</td>\n",
              "      <td>5.000000</td>\n",
              "      <td>92.900000</td>\n",
              "      <td>142.400000</td>\n",
              "      <td>713.900000</td>\n",
              "      <td>10.800000</td>\n",
              "      <td>23.000000</td>\n",
              "      <td>53.000000</td>\n",
              "      <td>4.900000</td>\n",
              "      <td>0.000000</td>\n",
              "      <td>6.570000</td>\n",
              "    </tr>\n",
              "    <tr>\n",
              "      <th>max</th>\n",
              "      <td>517.000000</td>\n",
              "      <td>9.000000</td>\n",
              "      <td>9.000000</td>\n",
              "      <td>96.200000</td>\n",
              "      <td>291.300000</td>\n",
              "      <td>860.600000</td>\n",
              "      <td>56.100000</td>\n",
              "      <td>33.300000</td>\n",
              "      <td>100.000000</td>\n",
              "      <td>9.400000</td>\n",
              "      <td>6.400000</td>\n",
              "      <td>1090.840000</td>\n",
              "    </tr>\n",
              "  </tbody>\n",
              "</table>\n",
              "</div>\n",
              "      <button class=\"colab-df-convert\" onclick=\"convertToInteractive('df-b9e67224-e788-4570-907d-137a200f73c0')\"\n",
              "              title=\"Convert this dataframe to an interactive table.\"\n",
              "              style=\"display:none;\">\n",
              "        \n",
              "  <svg xmlns=\"http://www.w3.org/2000/svg\" height=\"24px\"viewBox=\"0 0 24 24\"\n",
              "       width=\"24px\">\n",
              "    <path d=\"M0 0h24v24H0V0z\" fill=\"none\"/>\n",
              "    <path d=\"M18.56 5.44l.94 2.06.94-2.06 2.06-.94-2.06-.94-.94-2.06-.94 2.06-2.06.94zm-11 1L8.5 8.5l.94-2.06 2.06-.94-2.06-.94L8.5 2.5l-.94 2.06-2.06.94zm10 10l.94 2.06.94-2.06 2.06-.94-2.06-.94-.94-2.06-.94 2.06-2.06.94z\"/><path d=\"M17.41 7.96l-1.37-1.37c-.4-.4-.92-.59-1.43-.59-.52 0-1.04.2-1.43.59L10.3 9.45l-7.72 7.72c-.78.78-.78 2.05 0 2.83L4 21.41c.39.39.9.59 1.41.59.51 0 1.02-.2 1.41-.59l7.78-7.78 2.81-2.81c.8-.78.8-2.07 0-2.86zM5.41 20L4 18.59l7.72-7.72 1.47 1.35L5.41 20z\"/>\n",
              "  </svg>\n",
              "      </button>\n",
              "      \n",
              "  <style>\n",
              "    .colab-df-container {\n",
              "      display:flex;\n",
              "      flex-wrap:wrap;\n",
              "      gap: 12px;\n",
              "    }\n",
              "\n",
              "    .colab-df-convert {\n",
              "      background-color: #E8F0FE;\n",
              "      border: none;\n",
              "      border-radius: 50%;\n",
              "      cursor: pointer;\n",
              "      display: none;\n",
              "      fill: #1967D2;\n",
              "      height: 32px;\n",
              "      padding: 0 0 0 0;\n",
              "      width: 32px;\n",
              "    }\n",
              "\n",
              "    .colab-df-convert:hover {\n",
              "      background-color: #E2EBFA;\n",
              "      box-shadow: 0px 1px 2px rgba(60, 64, 67, 0.3), 0px 1px 3px 1px rgba(60, 64, 67, 0.15);\n",
              "      fill: #174EA6;\n",
              "    }\n",
              "\n",
              "    [theme=dark] .colab-df-convert {\n",
              "      background-color: #3B4455;\n",
              "      fill: #D2E3FC;\n",
              "    }\n",
              "\n",
              "    [theme=dark] .colab-df-convert:hover {\n",
              "      background-color: #434B5C;\n",
              "      box-shadow: 0px 1px 3px 1px rgba(0, 0, 0, 0.15);\n",
              "      filter: drop-shadow(0px 1px 2px rgba(0, 0, 0, 0.3));\n",
              "      fill: #FFFFFF;\n",
              "    }\n",
              "  </style>\n",
              "\n",
              "      <script>\n",
              "        const buttonEl =\n",
              "          document.querySelector('#df-b9e67224-e788-4570-907d-137a200f73c0 button.colab-df-convert');\n",
              "        buttonEl.style.display =\n",
              "          google.colab.kernel.accessAllowed ? 'block' : 'none';\n",
              "\n",
              "        async function convertToInteractive(key) {\n",
              "          const element = document.querySelector('#df-b9e67224-e788-4570-907d-137a200f73c0');\n",
              "          const dataTable =\n",
              "            await google.colab.kernel.invokeFunction('convertToInteractive',\n",
              "                                                     [key], {});\n",
              "          if (!dataTable) return;\n",
              "\n",
              "          const docLinkHtml = 'Like what you see? Visit the ' +\n",
              "            '<a target=\"_blank\" href=https://colab.research.google.com/notebooks/data_table.ipynb>data table notebook</a>'\n",
              "            + ' to learn more about interactive tables.';\n",
              "          element.innerHTML = '';\n",
              "          dataTable['output_type'] = 'display_data';\n",
              "          await google.colab.output.renderOutput(dataTable, element);\n",
              "          const docLink = document.createElement('div');\n",
              "          docLink.innerHTML = docLinkHtml;\n",
              "          element.appendChild(docLink);\n",
              "        }\n",
              "      </script>\n",
              "    </div>\n",
              "  </div>\n",
              "  "
            ]
          },
          "metadata": {},
          "execution_count": 106
        }
      ],
      "source": [
        "df.describe()"
      ]
    },
    {
      "cell_type": "code",
      "execution_count": 107,
      "metadata": {
        "colab": {
          "base_uri": "https://localhost:8080/"
        },
        "id": "pJxbNihG43gn",
        "outputId": "fc73cdb7-fe32-4b0a-97bb-f99173b02f73"
      },
      "outputs": [
        {
          "output_type": "execute_result",
          "data": {
            "text/plain": [
              "id         0\n",
              "X          0\n",
              "Y          0\n",
              "month      0\n",
              "day      200\n",
              "FFMC       0\n",
              "DMC      130\n",
              "DC         0\n",
              "ISI        0\n",
              "temp     100\n",
              "RH         0\n",
              "wind     209\n",
              "rain       0\n",
              "area       0\n",
              "dtype: int64"
            ]
          },
          "metadata": {},
          "execution_count": 107
        }
      ],
      "source": [
        "df.isnull().sum()"
      ]
    },
    {
      "cell_type": "code",
      "execution_count": 108,
      "metadata": {
        "colab": {
          "base_uri": "https://localhost:8080/"
        },
        "id": "u-bFVl__5CQ3",
        "outputId": "d902710c-d77e-45b4-fb87-3806b5599f91"
      },
      "outputs": [
        {
          "output_type": "execute_result",
          "data": {
            "text/plain": [
              "sun    58\n",
              "sat    56\n",
              "fri    54\n",
              "mon    46\n",
              "thu    40\n",
              "wed    32\n",
              "tue    31\n",
              "Name: day, dtype: int64"
            ]
          },
          "metadata": {},
          "execution_count": 108
        }
      ],
      "source": [
        "df['day'].value_counts()"
      ]
    },
    {
      "cell_type": "code",
      "execution_count": 109,
      "metadata": {
        "id": "9nCMYZiCIY06"
      },
      "outputs": [],
      "source": [
        "# Calculate the mode\n",
        "mode_val = df['day'].mode()[0]\n",
        "\n",
        "# Fill the null values\n",
        "df['day'].fillna(mode_val, inplace=True)"
      ]
    },
    {
      "cell_type": "code",
      "execution_count": 110,
      "metadata": {
        "colab": {
          "base_uri": "https://localhost:8080/"
        },
        "id": "F8U_nq7XI0xW",
        "outputId": "40fae0b8-6165-46fb-d0fb-944d66db241b"
      },
      "outputs": [
        {
          "output_type": "execute_result",
          "data": {
            "text/plain": [
              "99.0     7\n",
              "35.8     7\n",
              "231.1    6\n",
              "142.4    6\n",
              "117.9    6\n",
              "        ..\n",
              "127.1    1\n",
              "90.4     1\n",
              "53.3     1\n",
              "32.8     1\n",
              "26.2     1\n",
              "Name: DMC, Length: 187, dtype: int64"
            ]
          },
          "metadata": {},
          "execution_count": 110
        }
      ],
      "source": [
        "df['DMC'].value_counts()"
      ]
    },
    {
      "cell_type": "code",
      "execution_count": 111,
      "metadata": {
        "id": "skrdNPrCJFOB"
      },
      "outputs": [],
      "source": [
        "# Calculate the mode\n",
        "median_val = df['DMC'].median()\n",
        "\n",
        "# Fill the null values\n",
        "df['DMC'].fillna(median_val, inplace=True)"
      ]
    },
    {
      "cell_type": "code",
      "execution_count": 112,
      "metadata": {
        "colab": {
          "base_uri": "https://localhost:8080/"
        },
        "id": "KUA4PHSBJXlr",
        "outputId": "c37475ae-5c2d-4548-ec27-870eb687792f"
      },
      "outputs": [
        {
          "output_type": "execute_result",
          "data": {
            "text/plain": [
              "17.4    7\n",
              "20.6    7\n",
              "19.1    6\n",
              "4.6     6\n",
              "23.4    6\n",
              "       ..\n",
              "28.6    1\n",
              "29.6    1\n",
              "13.2    1\n",
              "27.4    1\n",
              "25.6    1\n",
              "Name: temp, Length: 172, dtype: int64"
            ]
          },
          "metadata": {},
          "execution_count": 112
        }
      ],
      "source": [
        "df['temp'].value_counts()"
      ]
    },
    {
      "cell_type": "code",
      "execution_count": 113,
      "metadata": {
        "id": "LogHvqneJgim"
      },
      "outputs": [],
      "source": [
        "# Calculate the mode\n",
        "median_val = df['temp'].median()\n",
        "\n",
        "# Fill the null values\n",
        "df['temp'].fillna(median_val, inplace=True)"
      ]
    },
    {
      "cell_type": "code",
      "execution_count": 114,
      "metadata": {
        "colab": {
          "base_uri": "https://localhost:8080/"
        },
        "id": "v5YdLNHWJ8kn",
        "outputId": "9c519d97-1151-47f8-8775-73b42ddedf47"
      },
      "outputs": [
        {
          "output_type": "execute_result",
          "data": {
            "text/plain": [
              "2.2    38\n",
              "4.0    33\n",
              "4.9    31\n",
              "3.1    28\n",
              "5.4    26\n",
              "3.6    26\n",
              "2.7    25\n",
              "4.5    24\n",
              "1.8    15\n",
              "6.3    14\n",
              "5.8    11\n",
              "1.3    10\n",
              "7.6     9\n",
              "0.9     5\n",
              "6.7     4\n",
              "8.0     3\n",
              "8.5     3\n",
              "8.9     1\n",
              "7.2     1\n",
              "9.4     1\n",
              "Name: wind, dtype: int64"
            ]
          },
          "metadata": {},
          "execution_count": 114
        }
      ],
      "source": [
        "df['wind'].value_counts()"
      ]
    },
    {
      "cell_type": "code",
      "execution_count": 115,
      "metadata": {
        "id": "yxLjzBcYKFNu"
      },
      "outputs": [],
      "source": [
        "# Calculate the mode\n",
        "median_val = df['wind'].median()\n",
        "\n",
        "# Fill the null values\n",
        "df['wind'].fillna(median_val, inplace=True)"
      ]
    },
    {
      "cell_type": "code",
      "execution_count": 116,
      "metadata": {
        "colab": {
          "base_uri": "https://localhost:8080/"
        },
        "id": "-DiRMPviJ0fc",
        "outputId": "47a40325-7f4f-4154-ad81-330a59487d9e"
      },
      "outputs": [
        {
          "output_type": "execute_result",
          "data": {
            "text/plain": [
              "id       False\n",
              "X        False\n",
              "Y        False\n",
              "month    False\n",
              "day      False\n",
              "FFMC     False\n",
              "DMC      False\n",
              "DC       False\n",
              "ISI      False\n",
              "temp     False\n",
              "RH       False\n",
              "wind     False\n",
              "rain     False\n",
              "area     False\n",
              "dtype: bool"
            ]
          },
          "metadata": {},
          "execution_count": 116
        }
      ],
      "source": [
        "df.isnull().any()"
      ]
    },
    {
      "cell_type": "code",
      "execution_count": 117,
      "metadata": {
        "colab": {
          "base_uri": "https://localhost:8080/"
        },
        "id": "23af1YE3J33y",
        "outputId": "4e433bdf-a6d4-4ff9-ed41-5c4547571420"
      },
      "outputs": [
        {
          "output_type": "stream",
          "name": "stdout",
          "text": [
            "<class 'pandas.core.frame.DataFrame'>\n",
            "Int64Index: 517 entries, 0 to 516\n",
            "Data columns (total 14 columns):\n",
            " #   Column  Non-Null Count  Dtype  \n",
            "---  ------  --------------  -----  \n",
            " 0   id      517 non-null    int64  \n",
            " 1   X       517 non-null    int64  \n",
            " 2   Y       517 non-null    int64  \n",
            " 3   month   517 non-null    object \n",
            " 4   day     517 non-null    object \n",
            " 5   FFMC    517 non-null    float64\n",
            " 6   DMC     517 non-null    float64\n",
            " 7   DC      517 non-null    float64\n",
            " 8   ISI     517 non-null    float64\n",
            " 9   temp    517 non-null    float64\n",
            " 10  RH      517 non-null    int64  \n",
            " 11  wind    517 non-null    float64\n",
            " 12  rain    517 non-null    float64\n",
            " 13  area    517 non-null    float64\n",
            "dtypes: float64(8), int64(4), object(2)\n",
            "memory usage: 60.6+ KB\n"
          ]
        }
      ],
      "source": [
        "df.info()"
      ]
    },
    {
      "cell_type": "code",
      "execution_count": 118,
      "metadata": {
        "colab": {
          "base_uri": "https://localhost:8080/",
          "height": 223
        },
        "id": "8UeSdOMA2sNk",
        "outputId": "c554b5a2-7312-47b2-e6b9-2271cd4d42f2"
      },
      "outputs": [
        {
          "output_type": "stream",
          "name": "stdout",
          "text": [
            "Number of numerical variables:  12\n"
          ]
        },
        {
          "output_type": "execute_result",
          "data": {
            "text/plain": [
              "   id  X  Y  FFMC    DMC     DC  ISI  temp  RH  wind  rain  area\n",
              "0   1  7  5  86.2   26.2   94.3  5.1   8.2  51   4.0   0.0   0.0\n",
              "1   2  7  4  90.6  108.0  669.1  6.7  18.0  33   4.0   0.0   0.0\n",
              "2   3  7  4  90.6   43.7  686.9  6.7  19.4  33   1.3   0.0   0.0\n",
              "3   4  8  6  91.7   33.3   77.5  9.0   8.3  97   4.0   0.2   0.0\n",
              "4   5  8  6  89.3   51.3  102.2  9.6  19.4  99   4.0   0.0   0.0"
            ],
            "text/html": [
              "\n",
              "  <div id=\"df-d5d48ea3-f2a5-44f8-a062-1ec6ac4c4076\">\n",
              "    <div class=\"colab-df-container\">\n",
              "      <div>\n",
              "<style scoped>\n",
              "    .dataframe tbody tr th:only-of-type {\n",
              "        vertical-align: middle;\n",
              "    }\n",
              "\n",
              "    .dataframe tbody tr th {\n",
              "        vertical-align: top;\n",
              "    }\n",
              "\n",
              "    .dataframe thead th {\n",
              "        text-align: right;\n",
              "    }\n",
              "</style>\n",
              "<table border=\"1\" class=\"dataframe\">\n",
              "  <thead>\n",
              "    <tr style=\"text-align: right;\">\n",
              "      <th></th>\n",
              "      <th>id</th>\n",
              "      <th>X</th>\n",
              "      <th>Y</th>\n",
              "      <th>FFMC</th>\n",
              "      <th>DMC</th>\n",
              "      <th>DC</th>\n",
              "      <th>ISI</th>\n",
              "      <th>temp</th>\n",
              "      <th>RH</th>\n",
              "      <th>wind</th>\n",
              "      <th>rain</th>\n",
              "      <th>area</th>\n",
              "    </tr>\n",
              "  </thead>\n",
              "  <tbody>\n",
              "    <tr>\n",
              "      <th>0</th>\n",
              "      <td>1</td>\n",
              "      <td>7</td>\n",
              "      <td>5</td>\n",
              "      <td>86.2</td>\n",
              "      <td>26.2</td>\n",
              "      <td>94.3</td>\n",
              "      <td>5.1</td>\n",
              "      <td>8.2</td>\n",
              "      <td>51</td>\n",
              "      <td>4.0</td>\n",
              "      <td>0.0</td>\n",
              "      <td>0.0</td>\n",
              "    </tr>\n",
              "    <tr>\n",
              "      <th>1</th>\n",
              "      <td>2</td>\n",
              "      <td>7</td>\n",
              "      <td>4</td>\n",
              "      <td>90.6</td>\n",
              "      <td>108.0</td>\n",
              "      <td>669.1</td>\n",
              "      <td>6.7</td>\n",
              "      <td>18.0</td>\n",
              "      <td>33</td>\n",
              "      <td>4.0</td>\n",
              "      <td>0.0</td>\n",
              "      <td>0.0</td>\n",
              "    </tr>\n",
              "    <tr>\n",
              "      <th>2</th>\n",
              "      <td>3</td>\n",
              "      <td>7</td>\n",
              "      <td>4</td>\n",
              "      <td>90.6</td>\n",
              "      <td>43.7</td>\n",
              "      <td>686.9</td>\n",
              "      <td>6.7</td>\n",
              "      <td>19.4</td>\n",
              "      <td>33</td>\n",
              "      <td>1.3</td>\n",
              "      <td>0.0</td>\n",
              "      <td>0.0</td>\n",
              "    </tr>\n",
              "    <tr>\n",
              "      <th>3</th>\n",
              "      <td>4</td>\n",
              "      <td>8</td>\n",
              "      <td>6</td>\n",
              "      <td>91.7</td>\n",
              "      <td>33.3</td>\n",
              "      <td>77.5</td>\n",
              "      <td>9.0</td>\n",
              "      <td>8.3</td>\n",
              "      <td>97</td>\n",
              "      <td>4.0</td>\n",
              "      <td>0.2</td>\n",
              "      <td>0.0</td>\n",
              "    </tr>\n",
              "    <tr>\n",
              "      <th>4</th>\n",
              "      <td>5</td>\n",
              "      <td>8</td>\n",
              "      <td>6</td>\n",
              "      <td>89.3</td>\n",
              "      <td>51.3</td>\n",
              "      <td>102.2</td>\n",
              "      <td>9.6</td>\n",
              "      <td>19.4</td>\n",
              "      <td>99</td>\n",
              "      <td>4.0</td>\n",
              "      <td>0.0</td>\n",
              "      <td>0.0</td>\n",
              "    </tr>\n",
              "  </tbody>\n",
              "</table>\n",
              "</div>\n",
              "      <button class=\"colab-df-convert\" onclick=\"convertToInteractive('df-d5d48ea3-f2a5-44f8-a062-1ec6ac4c4076')\"\n",
              "              title=\"Convert this dataframe to an interactive table.\"\n",
              "              style=\"display:none;\">\n",
              "        \n",
              "  <svg xmlns=\"http://www.w3.org/2000/svg\" height=\"24px\"viewBox=\"0 0 24 24\"\n",
              "       width=\"24px\">\n",
              "    <path d=\"M0 0h24v24H0V0z\" fill=\"none\"/>\n",
              "    <path d=\"M18.56 5.44l.94 2.06.94-2.06 2.06-.94-2.06-.94-.94-2.06-.94 2.06-2.06.94zm-11 1L8.5 8.5l.94-2.06 2.06-.94-2.06-.94L8.5 2.5l-.94 2.06-2.06.94zm10 10l.94 2.06.94-2.06 2.06-.94-2.06-.94-.94-2.06-.94 2.06-2.06.94z\"/><path d=\"M17.41 7.96l-1.37-1.37c-.4-.4-.92-.59-1.43-.59-.52 0-1.04.2-1.43.59L10.3 9.45l-7.72 7.72c-.78.78-.78 2.05 0 2.83L4 21.41c.39.39.9.59 1.41.59.51 0 1.02-.2 1.41-.59l7.78-7.78 2.81-2.81c.8-.78.8-2.07 0-2.86zM5.41 20L4 18.59l7.72-7.72 1.47 1.35L5.41 20z\"/>\n",
              "  </svg>\n",
              "      </button>\n",
              "      \n",
              "  <style>\n",
              "    .colab-df-container {\n",
              "      display:flex;\n",
              "      flex-wrap:wrap;\n",
              "      gap: 12px;\n",
              "    }\n",
              "\n",
              "    .colab-df-convert {\n",
              "      background-color: #E8F0FE;\n",
              "      border: none;\n",
              "      border-radius: 50%;\n",
              "      cursor: pointer;\n",
              "      display: none;\n",
              "      fill: #1967D2;\n",
              "      height: 32px;\n",
              "      padding: 0 0 0 0;\n",
              "      width: 32px;\n",
              "    }\n",
              "\n",
              "    .colab-df-convert:hover {\n",
              "      background-color: #E2EBFA;\n",
              "      box-shadow: 0px 1px 2px rgba(60, 64, 67, 0.3), 0px 1px 3px 1px rgba(60, 64, 67, 0.15);\n",
              "      fill: #174EA6;\n",
              "    }\n",
              "\n",
              "    [theme=dark] .colab-df-convert {\n",
              "      background-color: #3B4455;\n",
              "      fill: #D2E3FC;\n",
              "    }\n",
              "\n",
              "    [theme=dark] .colab-df-convert:hover {\n",
              "      background-color: #434B5C;\n",
              "      box-shadow: 0px 1px 3px 1px rgba(0, 0, 0, 0.15);\n",
              "      filter: drop-shadow(0px 1px 2px rgba(0, 0, 0, 0.3));\n",
              "      fill: #FFFFFF;\n",
              "    }\n",
              "  </style>\n",
              "\n",
              "      <script>\n",
              "        const buttonEl =\n",
              "          document.querySelector('#df-d5d48ea3-f2a5-44f8-a062-1ec6ac4c4076 button.colab-df-convert');\n",
              "        buttonEl.style.display =\n",
              "          google.colab.kernel.accessAllowed ? 'block' : 'none';\n",
              "\n",
              "        async function convertToInteractive(key) {\n",
              "          const element = document.querySelector('#df-d5d48ea3-f2a5-44f8-a062-1ec6ac4c4076');\n",
              "          const dataTable =\n",
              "            await google.colab.kernel.invokeFunction('convertToInteractive',\n",
              "                                                     [key], {});\n",
              "          if (!dataTable) return;\n",
              "\n",
              "          const docLinkHtml = 'Like what you see? Visit the ' +\n",
              "            '<a target=\"_blank\" href=https://colab.research.google.com/notebooks/data_table.ipynb>data table notebook</a>'\n",
              "            + ' to learn more about interactive tables.';\n",
              "          element.innerHTML = '';\n",
              "          dataTable['output_type'] = 'display_data';\n",
              "          await google.colab.output.renderOutput(dataTable, element);\n",
              "          const docLink = document.createElement('div');\n",
              "          docLink.innerHTML = docLinkHtml;\n",
              "          element.appendChild(docLink);\n",
              "        }\n",
              "      </script>\n",
              "    </div>\n",
              "  </div>\n",
              "  "
            ]
          },
          "metadata": {},
          "execution_count": 118
        }
      ],
      "source": [
        "# list of numerical variables\n",
        "numerical_features = [feature for feature in df.columns if df[feature].dtypes != 'O']\n",
        "\n",
        "print('Number of numerical variables: ', len(numerical_features))\n",
        "\n",
        "# visualisizing the numerical variables\n",
        "df[numerical_features].head()"
      ]
    },
    {
      "cell_type": "code",
      "execution_count": 119,
      "metadata": {
        "colab": {
          "base_uri": "https://localhost:8080/"
        },
        "id": "BI5CHEgg2wh_",
        "outputId": "142981fb-e3fe-437a-b9c9-c936c05727f0"
      },
      "outputs": [
        {
          "output_type": "stream",
          "name": "stdout",
          "text": [
            "Discrete Variables Count: 4\n"
          ]
        },
        {
          "output_type": "execute_result",
          "data": {
            "text/plain": [
              "['X', 'Y', 'wind', 'rain']"
            ]
          },
          "metadata": {},
          "execution_count": 119
        }
      ],
      "source": [
        "discrete_feature=[feature for feature in numerical_features if len(df[feature].unique())<25]\n",
        "print(\"Discrete Variables Count: {}\".format(len(discrete_feature)))\n",
        "\n",
        "discrete_feature"
      ]
    },
    {
      "cell_type": "code",
      "execution_count": 120,
      "metadata": {
        "colab": {
          "base_uri": "https://localhost:8080/"
        },
        "id": "nt2caqy-20xP",
        "outputId": "65704e24-ba51-41c8-c537-f9e84680d261"
      },
      "outputs": [
        {
          "output_type": "stream",
          "name": "stdout",
          "text": [
            "Continuous feature Count 8\n"
          ]
        },
        {
          "output_type": "execute_result",
          "data": {
            "text/plain": [
              "['id', 'FFMC', 'DMC', 'DC', 'ISI', 'temp', 'RH', 'area']"
            ]
          },
          "metadata": {},
          "execution_count": 120
        }
      ],
      "source": [
        "continuous_feature=[feature for feature in numerical_features if feature not in discrete_feature]\n",
        "print(\"Continuous feature Count {}\".format(len(continuous_feature)))\n",
        "\n",
        "continuous_feature"
      ]
    },
    {
      "cell_type": "code",
      "execution_count": 121,
      "metadata": {
        "colab": {
          "base_uri": "https://localhost:8080/",
          "height": 364
        },
        "id": "8OIVVan7KVkn",
        "outputId": "c3ea6174-5b62-4b54-aae7-c7d192760aa4"
      },
      "outputs": [
        {
          "output_type": "execute_result",
          "data": {
            "text/plain": [
              "               id           X           Y        FFMC         DMC          DC  \\\n",
              "count  517.000000  517.000000  517.000000  517.000000  517.000000  517.000000   \n",
              "mean   259.000000    4.669246    4.299807   90.644681  110.038298  547.940039   \n",
              "std    149.389312    2.313778    1.229900    5.520111   55.586070  248.066192   \n",
              "min      1.000000    1.000000    2.000000   18.700000    1.100000    7.900000   \n",
              "25%    130.000000    3.000000    4.000000   90.200000   88.200000  437.700000   \n",
              "50%    259.000000    4.000000    4.000000   91.600000  108.000000  664.200000   \n",
              "75%    388.000000    7.000000    5.000000   92.900000  130.300000  713.900000   \n",
              "max    517.000000    9.000000    9.000000   96.200000  291.300000  860.600000   \n",
              "\n",
              "              ISI        temp          RH        wind        rain         area  \n",
              "count  517.000000  517.000000  517.000000  517.000000  517.000000   517.000000  \n",
              "mean     9.021663   19.025919   44.288201    3.997099    0.021663    12.847292  \n",
              "std      4.559477    5.329044   16.317469    1.317360    0.295959    63.655818  \n",
              "min      0.000000    2.200000   15.000000    0.900000    0.000000     0.000000  \n",
              "25%      6.500000   16.800000   33.000000    3.600000    0.000000     0.000000  \n",
              "50%      8.400000   19.400000   42.000000    4.000000    0.000000     0.520000  \n",
              "75%     10.800000   21.900000   53.000000    4.000000    0.000000     6.570000  \n",
              "max     56.100000   33.300000  100.000000    9.400000    6.400000  1090.840000  "
            ],
            "text/html": [
              "\n",
              "  <div id=\"df-5d51d219-1c0e-43bd-821f-dc5167833856\">\n",
              "    <div class=\"colab-df-container\">\n",
              "      <div>\n",
              "<style scoped>\n",
              "    .dataframe tbody tr th:only-of-type {\n",
              "        vertical-align: middle;\n",
              "    }\n",
              "\n",
              "    .dataframe tbody tr th {\n",
              "        vertical-align: top;\n",
              "    }\n",
              "\n",
              "    .dataframe thead th {\n",
              "        text-align: right;\n",
              "    }\n",
              "</style>\n",
              "<table border=\"1\" class=\"dataframe\">\n",
              "  <thead>\n",
              "    <tr style=\"text-align: right;\">\n",
              "      <th></th>\n",
              "      <th>id</th>\n",
              "      <th>X</th>\n",
              "      <th>Y</th>\n",
              "      <th>FFMC</th>\n",
              "      <th>DMC</th>\n",
              "      <th>DC</th>\n",
              "      <th>ISI</th>\n",
              "      <th>temp</th>\n",
              "      <th>RH</th>\n",
              "      <th>wind</th>\n",
              "      <th>rain</th>\n",
              "      <th>area</th>\n",
              "    </tr>\n",
              "  </thead>\n",
              "  <tbody>\n",
              "    <tr>\n",
              "      <th>count</th>\n",
              "      <td>517.000000</td>\n",
              "      <td>517.000000</td>\n",
              "      <td>517.000000</td>\n",
              "      <td>517.000000</td>\n",
              "      <td>517.000000</td>\n",
              "      <td>517.000000</td>\n",
              "      <td>517.000000</td>\n",
              "      <td>517.000000</td>\n",
              "      <td>517.000000</td>\n",
              "      <td>517.000000</td>\n",
              "      <td>517.000000</td>\n",
              "      <td>517.000000</td>\n",
              "    </tr>\n",
              "    <tr>\n",
              "      <th>mean</th>\n",
              "      <td>259.000000</td>\n",
              "      <td>4.669246</td>\n",
              "      <td>4.299807</td>\n",
              "      <td>90.644681</td>\n",
              "      <td>110.038298</td>\n",
              "      <td>547.940039</td>\n",
              "      <td>9.021663</td>\n",
              "      <td>19.025919</td>\n",
              "      <td>44.288201</td>\n",
              "      <td>3.997099</td>\n",
              "      <td>0.021663</td>\n",
              "      <td>12.847292</td>\n",
              "    </tr>\n",
              "    <tr>\n",
              "      <th>std</th>\n",
              "      <td>149.389312</td>\n",
              "      <td>2.313778</td>\n",
              "      <td>1.229900</td>\n",
              "      <td>5.520111</td>\n",
              "      <td>55.586070</td>\n",
              "      <td>248.066192</td>\n",
              "      <td>4.559477</td>\n",
              "      <td>5.329044</td>\n",
              "      <td>16.317469</td>\n",
              "      <td>1.317360</td>\n",
              "      <td>0.295959</td>\n",
              "      <td>63.655818</td>\n",
              "    </tr>\n",
              "    <tr>\n",
              "      <th>min</th>\n",
              "      <td>1.000000</td>\n",
              "      <td>1.000000</td>\n",
              "      <td>2.000000</td>\n",
              "      <td>18.700000</td>\n",
              "      <td>1.100000</td>\n",
              "      <td>7.900000</td>\n",
              "      <td>0.000000</td>\n",
              "      <td>2.200000</td>\n",
              "      <td>15.000000</td>\n",
              "      <td>0.900000</td>\n",
              "      <td>0.000000</td>\n",
              "      <td>0.000000</td>\n",
              "    </tr>\n",
              "    <tr>\n",
              "      <th>25%</th>\n",
              "      <td>130.000000</td>\n",
              "      <td>3.000000</td>\n",
              "      <td>4.000000</td>\n",
              "      <td>90.200000</td>\n",
              "      <td>88.200000</td>\n",
              "      <td>437.700000</td>\n",
              "      <td>6.500000</td>\n",
              "      <td>16.800000</td>\n",
              "      <td>33.000000</td>\n",
              "      <td>3.600000</td>\n",
              "      <td>0.000000</td>\n",
              "      <td>0.000000</td>\n",
              "    </tr>\n",
              "    <tr>\n",
              "      <th>50%</th>\n",
              "      <td>259.000000</td>\n",
              "      <td>4.000000</td>\n",
              "      <td>4.000000</td>\n",
              "      <td>91.600000</td>\n",
              "      <td>108.000000</td>\n",
              "      <td>664.200000</td>\n",
              "      <td>8.400000</td>\n",
              "      <td>19.400000</td>\n",
              "      <td>42.000000</td>\n",
              "      <td>4.000000</td>\n",
              "      <td>0.000000</td>\n",
              "      <td>0.520000</td>\n",
              "    </tr>\n",
              "    <tr>\n",
              "      <th>75%</th>\n",
              "      <td>388.000000</td>\n",
              "      <td>7.000000</td>\n",
              "      <td>5.000000</td>\n",
              "      <td>92.900000</td>\n",
              "      <td>130.300000</td>\n",
              "      <td>713.900000</td>\n",
              "      <td>10.800000</td>\n",
              "      <td>21.900000</td>\n",
              "      <td>53.000000</td>\n",
              "      <td>4.000000</td>\n",
              "      <td>0.000000</td>\n",
              "      <td>6.570000</td>\n",
              "    </tr>\n",
              "    <tr>\n",
              "      <th>max</th>\n",
              "      <td>517.000000</td>\n",
              "      <td>9.000000</td>\n",
              "      <td>9.000000</td>\n",
              "      <td>96.200000</td>\n",
              "      <td>291.300000</td>\n",
              "      <td>860.600000</td>\n",
              "      <td>56.100000</td>\n",
              "      <td>33.300000</td>\n",
              "      <td>100.000000</td>\n",
              "      <td>9.400000</td>\n",
              "      <td>6.400000</td>\n",
              "      <td>1090.840000</td>\n",
              "    </tr>\n",
              "  </tbody>\n",
              "</table>\n",
              "</div>\n",
              "      <button class=\"colab-df-convert\" onclick=\"convertToInteractive('df-5d51d219-1c0e-43bd-821f-dc5167833856')\"\n",
              "              title=\"Convert this dataframe to an interactive table.\"\n",
              "              style=\"display:none;\">\n",
              "        \n",
              "  <svg xmlns=\"http://www.w3.org/2000/svg\" height=\"24px\"viewBox=\"0 0 24 24\"\n",
              "       width=\"24px\">\n",
              "    <path d=\"M0 0h24v24H0V0z\" fill=\"none\"/>\n",
              "    <path d=\"M18.56 5.44l.94 2.06.94-2.06 2.06-.94-2.06-.94-.94-2.06-.94 2.06-2.06.94zm-11 1L8.5 8.5l.94-2.06 2.06-.94-2.06-.94L8.5 2.5l-.94 2.06-2.06.94zm10 10l.94 2.06.94-2.06 2.06-.94-2.06-.94-.94-2.06-.94 2.06-2.06.94z\"/><path d=\"M17.41 7.96l-1.37-1.37c-.4-.4-.92-.59-1.43-.59-.52 0-1.04.2-1.43.59L10.3 9.45l-7.72 7.72c-.78.78-.78 2.05 0 2.83L4 21.41c.39.39.9.59 1.41.59.51 0 1.02-.2 1.41-.59l7.78-7.78 2.81-2.81c.8-.78.8-2.07 0-2.86zM5.41 20L4 18.59l7.72-7.72 1.47 1.35L5.41 20z\"/>\n",
              "  </svg>\n",
              "      </button>\n",
              "      \n",
              "  <style>\n",
              "    .colab-df-container {\n",
              "      display:flex;\n",
              "      flex-wrap:wrap;\n",
              "      gap: 12px;\n",
              "    }\n",
              "\n",
              "    .colab-df-convert {\n",
              "      background-color: #E8F0FE;\n",
              "      border: none;\n",
              "      border-radius: 50%;\n",
              "      cursor: pointer;\n",
              "      display: none;\n",
              "      fill: #1967D2;\n",
              "      height: 32px;\n",
              "      padding: 0 0 0 0;\n",
              "      width: 32px;\n",
              "    }\n",
              "\n",
              "    .colab-df-convert:hover {\n",
              "      background-color: #E2EBFA;\n",
              "      box-shadow: 0px 1px 2px rgba(60, 64, 67, 0.3), 0px 1px 3px 1px rgba(60, 64, 67, 0.15);\n",
              "      fill: #174EA6;\n",
              "    }\n",
              "\n",
              "    [theme=dark] .colab-df-convert {\n",
              "      background-color: #3B4455;\n",
              "      fill: #D2E3FC;\n",
              "    }\n",
              "\n",
              "    [theme=dark] .colab-df-convert:hover {\n",
              "      background-color: #434B5C;\n",
              "      box-shadow: 0px 1px 3px 1px rgba(0, 0, 0, 0.15);\n",
              "      filter: drop-shadow(0px 1px 2px rgba(0, 0, 0, 0.3));\n",
              "      fill: #FFFFFF;\n",
              "    }\n",
              "  </style>\n",
              "\n",
              "      <script>\n",
              "        const buttonEl =\n",
              "          document.querySelector('#df-5d51d219-1c0e-43bd-821f-dc5167833856 button.colab-df-convert');\n",
              "        buttonEl.style.display =\n",
              "          google.colab.kernel.accessAllowed ? 'block' : 'none';\n",
              "\n",
              "        async function convertToInteractive(key) {\n",
              "          const element = document.querySelector('#df-5d51d219-1c0e-43bd-821f-dc5167833856');\n",
              "          const dataTable =\n",
              "            await google.colab.kernel.invokeFunction('convertToInteractive',\n",
              "                                                     [key], {});\n",
              "          if (!dataTable) return;\n",
              "\n",
              "          const docLinkHtml = 'Like what you see? Visit the ' +\n",
              "            '<a target=\"_blank\" href=https://colab.research.google.com/notebooks/data_table.ipynb>data table notebook</a>'\n",
              "            + ' to learn more about interactive tables.';\n",
              "          element.innerHTML = '';\n",
              "          dataTable['output_type'] = 'display_data';\n",
              "          await google.colab.output.renderOutput(dataTable, element);\n",
              "          const docLink = document.createElement('div');\n",
              "          docLink.innerHTML = docLinkHtml;\n",
              "          element.appendChild(docLink);\n",
              "        }\n",
              "      </script>\n",
              "    </div>\n",
              "  </div>\n",
              "  "
            ]
          },
          "metadata": {},
          "execution_count": 121
        }
      ],
      "source": [
        "df.describe()"
      ]
    },
    {
      "cell_type": "code",
      "execution_count": 122,
      "metadata": {
        "colab": {
          "base_uri": "https://localhost:8080/",
          "height": 175
        },
        "id": "BmEx2ex1Ka-H",
        "outputId": "5690c129-35ee-486b-a1f5-02b18355bbd3"
      },
      "outputs": [
        {
          "output_type": "execute_result",
          "data": {
            "text/plain": [
              "       month  day\n",
              "count    517  517\n",
              "unique    12    7\n",
              "top      aug  sun\n",
              "freq     184  258"
            ],
            "text/html": [
              "\n",
              "  <div id=\"df-fd18929a-2696-4a6d-9192-3f92206125ed\">\n",
              "    <div class=\"colab-df-container\">\n",
              "      <div>\n",
              "<style scoped>\n",
              "    .dataframe tbody tr th:only-of-type {\n",
              "        vertical-align: middle;\n",
              "    }\n",
              "\n",
              "    .dataframe tbody tr th {\n",
              "        vertical-align: top;\n",
              "    }\n",
              "\n",
              "    .dataframe thead th {\n",
              "        text-align: right;\n",
              "    }\n",
              "</style>\n",
              "<table border=\"1\" class=\"dataframe\">\n",
              "  <thead>\n",
              "    <tr style=\"text-align: right;\">\n",
              "      <th></th>\n",
              "      <th>month</th>\n",
              "      <th>day</th>\n",
              "    </tr>\n",
              "  </thead>\n",
              "  <tbody>\n",
              "    <tr>\n",
              "      <th>count</th>\n",
              "      <td>517</td>\n",
              "      <td>517</td>\n",
              "    </tr>\n",
              "    <tr>\n",
              "      <th>unique</th>\n",
              "      <td>12</td>\n",
              "      <td>7</td>\n",
              "    </tr>\n",
              "    <tr>\n",
              "      <th>top</th>\n",
              "      <td>aug</td>\n",
              "      <td>sun</td>\n",
              "    </tr>\n",
              "    <tr>\n",
              "      <th>freq</th>\n",
              "      <td>184</td>\n",
              "      <td>258</td>\n",
              "    </tr>\n",
              "  </tbody>\n",
              "</table>\n",
              "</div>\n",
              "      <button class=\"colab-df-convert\" onclick=\"convertToInteractive('df-fd18929a-2696-4a6d-9192-3f92206125ed')\"\n",
              "              title=\"Convert this dataframe to an interactive table.\"\n",
              "              style=\"display:none;\">\n",
              "        \n",
              "  <svg xmlns=\"http://www.w3.org/2000/svg\" height=\"24px\"viewBox=\"0 0 24 24\"\n",
              "       width=\"24px\">\n",
              "    <path d=\"M0 0h24v24H0V0z\" fill=\"none\"/>\n",
              "    <path d=\"M18.56 5.44l.94 2.06.94-2.06 2.06-.94-2.06-.94-.94-2.06-.94 2.06-2.06.94zm-11 1L8.5 8.5l.94-2.06 2.06-.94-2.06-.94L8.5 2.5l-.94 2.06-2.06.94zm10 10l.94 2.06.94-2.06 2.06-.94-2.06-.94-.94-2.06-.94 2.06-2.06.94z\"/><path d=\"M17.41 7.96l-1.37-1.37c-.4-.4-.92-.59-1.43-.59-.52 0-1.04.2-1.43.59L10.3 9.45l-7.72 7.72c-.78.78-.78 2.05 0 2.83L4 21.41c.39.39.9.59 1.41.59.51 0 1.02-.2 1.41-.59l7.78-7.78 2.81-2.81c.8-.78.8-2.07 0-2.86zM5.41 20L4 18.59l7.72-7.72 1.47 1.35L5.41 20z\"/>\n",
              "  </svg>\n",
              "      </button>\n",
              "      \n",
              "  <style>\n",
              "    .colab-df-container {\n",
              "      display:flex;\n",
              "      flex-wrap:wrap;\n",
              "      gap: 12px;\n",
              "    }\n",
              "\n",
              "    .colab-df-convert {\n",
              "      background-color: #E8F0FE;\n",
              "      border: none;\n",
              "      border-radius: 50%;\n",
              "      cursor: pointer;\n",
              "      display: none;\n",
              "      fill: #1967D2;\n",
              "      height: 32px;\n",
              "      padding: 0 0 0 0;\n",
              "      width: 32px;\n",
              "    }\n",
              "\n",
              "    .colab-df-convert:hover {\n",
              "      background-color: #E2EBFA;\n",
              "      box-shadow: 0px 1px 2px rgba(60, 64, 67, 0.3), 0px 1px 3px 1px rgba(60, 64, 67, 0.15);\n",
              "      fill: #174EA6;\n",
              "    }\n",
              "\n",
              "    [theme=dark] .colab-df-convert {\n",
              "      background-color: #3B4455;\n",
              "      fill: #D2E3FC;\n",
              "    }\n",
              "\n",
              "    [theme=dark] .colab-df-convert:hover {\n",
              "      background-color: #434B5C;\n",
              "      box-shadow: 0px 1px 3px 1px rgba(0, 0, 0, 0.15);\n",
              "      filter: drop-shadow(0px 1px 2px rgba(0, 0, 0, 0.3));\n",
              "      fill: #FFFFFF;\n",
              "    }\n",
              "  </style>\n",
              "\n",
              "      <script>\n",
              "        const buttonEl =\n",
              "          document.querySelector('#df-fd18929a-2696-4a6d-9192-3f92206125ed button.colab-df-convert');\n",
              "        buttonEl.style.display =\n",
              "          google.colab.kernel.accessAllowed ? 'block' : 'none';\n",
              "\n",
              "        async function convertToInteractive(key) {\n",
              "          const element = document.querySelector('#df-fd18929a-2696-4a6d-9192-3f92206125ed');\n",
              "          const dataTable =\n",
              "            await google.colab.kernel.invokeFunction('convertToInteractive',\n",
              "                                                     [key], {});\n",
              "          if (!dataTable) return;\n",
              "\n",
              "          const docLinkHtml = 'Like what you see? Visit the ' +\n",
              "            '<a target=\"_blank\" href=https://colab.research.google.com/notebooks/data_table.ipynb>data table notebook</a>'\n",
              "            + ' to learn more about interactive tables.';\n",
              "          element.innerHTML = '';\n",
              "          dataTable['output_type'] = 'display_data';\n",
              "          await google.colab.output.renderOutput(dataTable, element);\n",
              "          const docLink = document.createElement('div');\n",
              "          docLink.innerHTML = docLinkHtml;\n",
              "          element.appendChild(docLink);\n",
              "        }\n",
              "      </script>\n",
              "    </div>\n",
              "  </div>\n",
              "  "
            ]
          },
          "metadata": {},
          "execution_count": 122
        }
      ],
      "source": [
        "# describe categorical features\n",
        "\n",
        "df.describe(include=\"O\")"
      ]
    },
    {
      "cell_type": "code",
      "execution_count": 123,
      "metadata": {
        "colab": {
          "base_uri": "https://localhost:8080/",
          "height": 1000
        },
        "id": "q_fjnKs0Kpep",
        "outputId": "002716b4-fd77-483e-f6c5-d79df11c47e9"
      },
      "outputs": [
        {
          "output_type": "display_data",
          "data": {
            "text/plain": [
              "<Figure size 1080x1440 with 10 Axes>"
            ],
            "image/png": "[encoded data removed]"
          },
          "metadata": {}
        }
      ],
      "source": [
        "\n",
        "num_cols = df.select_dtypes(include='number').columns\n",
        "\n",
        "fig, axs =  plt.subplots(nrows=5, ncols=2, figsize=(15,20))\n",
        "axs = np.ravel(axs)\n",
        "\n",
        "for i, col in enumerate(num_cols[2:]):\n",
        "    plt.sca(axs[i])\n",
        "    sns.histplot(data=df, x=col, kde=True, line_kws={'linewidth':2, 'linestyle':'--'}, color='orange')\n",
        "    \n",
        "plt.tight_layout()\n",
        "plt.show()"
      ]
    },
    {
      "cell_type": "code",
      "execution_count": 124,
      "metadata": {
        "colab": {
          "base_uri": "https://localhost:8080/",
          "height": 295
        },
        "id": "VT1Lq7MgG048",
        "outputId": "7fb2c5de-9fde-4ab7-8089-cddb18c17505"
      },
      "outputs": [
        {
          "output_type": "display_data",
          "data": {
            "text/plain": [
              "<Figure size 432x288 with 1 Axes>"
            ],
            "image/png": "[encoded data removed]"
          },
          "metadata": {}
        }
      ],
      "source": [
        "# Distribution of target feature\n",
        "sns.histplot(df['area'], kde=True, color='red')\n",
        "plt.title(\"area Distribution - df.csv\")\n",
        "plt.xlabel(\"area\")\n",
        "plt.ylabel(\"Count\")\n",
        "plt.show()"
      ]
    },
    {
      "cell_type": "code",
      "execution_count": 125,
      "metadata": {
        "colab": {
          "base_uri": "https://localhost:8080/"
        },
        "id": "aSFjv9HcLkHB",
        "outputId": "90427d8e-ebfa-4920-ae49-80db6485d41c"
      },
      "outputs": [
        {
          "output_type": "stream",
          "name": "stdout",
          "text": [
            "<class 'pandas.core.frame.DataFrame'>\n",
            "Int64Index: 517 entries, 0 to 516\n",
            "Data columns (total 14 columns):\n",
            " #   Column  Non-Null Count  Dtype  \n",
            "---  ------  --------------  -----  \n",
            " 0   id      517 non-null    int64  \n",
            " 1   X       517 non-null    int64  \n",
            " 2   Y       517 non-null    int64  \n",
            " 3   month   517 non-null    object \n",
            " 4   day     517 non-null    object \n",
            " 5   FFMC    517 non-null    float64\n",
            " 6   DMC     517 non-null    float64\n",
            " 7   DC      517 non-null    float64\n",
            " 8   ISI     517 non-null    float64\n",
            " 9   temp    517 non-null    float64\n",
            " 10  RH      517 non-null    int64  \n",
            " 11  wind    517 non-null    float64\n",
            " 12  rain    517 non-null    float64\n",
            " 13  area    517 non-null    float64\n",
            "dtypes: float64(8), int64(4), object(2)\n",
            "memory usage: 76.8+ KB\n"
          ]
        }
      ],
      "source": [
        "df.info()"
      ]
    },
    {
      "cell_type": "code",
      "execution_count": 126,
      "metadata": {
        "colab": {
          "base_uri": "https://localhost:8080/",
          "height": 867
        },
        "id": "3P6xfByGykCd",
        "outputId": "87e53430-7bf3-4d9e-db8c-f6c46e167a3e"
      },
      "outputs": [
        {
          "output_type": "display_data",
          "data": {
            "text/plain": [
              "<Figure size 1080x1080 with 2 Axes>"
            ],
            "image/png": "[encoded data removed]"
          },
          "metadata": {}
        }
      ],
      "source": [
        "# Plotting the heatmap of correlation between features\n",
        "plt.figure(figsize=(15,15))\n",
        "sns.heatmap(df.corr(),annot=True);"
      ]
    },
    {
      "cell_type": "code",
      "execution_count": 127,
      "metadata": {
        "colab": {
          "base_uri": "https://localhost:8080/",
          "height": 425
        },
        "id": "BijrOnrFyewr",
        "outputId": "dfa8f774-052e-4828-9f09-b32f74f2b504"
      },
      "outputs": [
        {
          "output_type": "execute_result",
          "data": {
            "text/plain": [
              "            id         X         Y      FFMC       DMC        DC       ISI  \\\n",
              "id    1.000000  0.002007  0.048288  0.054135  0.300741  0.142278  0.052542   \n",
              "X     0.002007  1.000000  0.539548 -0.021039 -0.069574 -0.085916  0.006210   \n",
              "Y     0.048288  0.539548  1.000000 -0.046308 -0.033956 -0.101178 -0.024488   \n",
              "FFMC  0.054135 -0.021039 -0.046308  1.000000  0.310259  0.330512  0.531805   \n",
              "DMC   0.300741 -0.069574 -0.033956  0.310259  1.000000  0.602905  0.260754   \n",
              "DC    0.142278 -0.085916 -0.101178  0.330512  0.602905  1.000000  0.229154   \n",
              "ISI   0.052542  0.006210 -0.024488  0.531805  0.260754  0.229154  1.000000   \n",
              "temp  0.177994 -0.067972 -0.057516  0.420024  0.375960  0.451388  0.368080   \n",
              "RH    0.116645  0.085223  0.062221 -0.300995  0.046485 -0.039192 -0.132517   \n",
              "wind -0.047372  0.008014 -0.045274 -0.039677 -0.050538 -0.110354  0.043884   \n",
              "rain  0.101648  0.065387  0.033234  0.056702  0.057552  0.035861  0.067668   \n",
              "area  0.077550  0.063385  0.044873  0.040122  0.078204  0.049383  0.008258   \n",
              "\n",
              "          temp        RH      wind      rain      area  \n",
              "id    0.177994  0.116645 -0.047372  0.101648  0.077550  \n",
              "X    -0.067972  0.085223  0.008014  0.065387  0.063385  \n",
              "Y    -0.057516  0.062221 -0.045274  0.033234  0.044873  \n",
              "FFMC  0.420024 -0.300995 -0.039677  0.056702  0.040122  \n",
              "DMC   0.375960  0.046485 -0.050538  0.057552  0.078204  \n",
              "DC    0.451388 -0.039192 -0.110354  0.035861  0.049383  \n",
              "ISI   0.368080 -0.132517  0.043884  0.067668  0.008258  \n",
              "temp  1.000000 -0.471475 -0.198832  0.072583  0.030318  \n",
              "RH   -0.471475  1.000000  0.117007  0.099751 -0.075519  \n",
              "wind -0.198832  0.117007  1.000000  0.037740 -0.011479  \n",
              "rain  0.072583  0.099751  0.037740  1.000000 -0.007366  \n",
              "area  0.030318 -0.075519 -0.011479 -0.007366  1.000000  "
            ],
            "text/html": [
              "\n",
              "  <div id=\"df-a3e6988c-24ef-4d9e-bec8-fca578e3d8c6\">\n",
              "    <div class=\"colab-df-container\">\n",
              "      <div>\n",
              "<style scoped>\n",
              "    .dataframe tbody tr th:only-of-type {\n",
              "        vertical-align: middle;\n",
              "    }\n",
              "\n",
              "    .dataframe tbody tr th {\n",
              "        vertical-align: top;\n",
              "    }\n",
              "\n",
              "    .dataframe thead th {\n",
              "        text-align: right;\n",
              "    }\n",
              "</style>\n",
              "<table border=\"1\" class=\"dataframe\">\n",
              "  <thead>\n",
              "    <tr style=\"text-align: right;\">\n",
              "      <th></th>\n",
              "      <th>id</th>\n",
              "      <th>X</th>\n",
              "      <th>Y</th>\n",
              "      <th>FFMC</th>\n",
              "      <th>DMC</th>\n",
              "      <th>DC</th>\n",
              "      <th>ISI</th>\n",
              "      <th>temp</th>\n",
              "      <th>RH</th>\n",
              "      <th>wind</th>\n",
              "      <th>rain</th>\n",
              "      <th>area</th>\n",
              "    </tr>\n",
              "  </thead>\n",
              "  <tbody>\n",
              "    <tr>\n",
              "      <th>id</th>\n",
              "      <td>1.000000</td>\n",
              "      <td>0.002007</td>\n",
              "      <td>0.048288</td>\n",
              "      <td>0.054135</td>\n",
              "      <td>0.300741</td>\n",
              "      <td>0.142278</td>\n",
              "      <td>0.052542</td>\n",
              "      <td>0.177994</td>\n",
              "      <td>0.116645</td>\n",
              "      <td>-0.047372</td>\n",
              "      <td>0.101648</td>\n",
              "      <td>0.077550</td>\n",
              "    </tr>\n",
              "    <tr>\n",
              "      <th>X</th>\n",
              "      <td>0.002007</td>\n",
              "      <td>1.000000</td>\n",
              "      <td>0.539548</td>\n",
              "      <td>-0.021039</td>\n",
              "      <td>-0.069574</td>\n",
              "      <td>-0.085916</td>\n",
              "      <td>0.006210</td>\n",
              "      <td>-0.067972</td>\n",
              "      <td>0.085223</td>\n",
              "      <td>0.008014</td>\n",
              "      <td>0.065387</td>\n",
              "      <td>0.063385</td>\n",
              "    </tr>\n",
              "    <tr>\n",
              "      <th>Y</th>\n",
              "      <td>0.048288</td>\n",
              "      <td>0.539548</td>\n",
              "      <td>1.000000</td>\n",
              "      <td>-0.046308</td>\n",
              "      <td>-0.033956</td>\n",
              "      <td>-0.101178</td>\n",
              "      <td>-0.024488</td>\n",
              "      <td>-0.057516</td>\n",
              "      <td>0.062221</td>\n",
              "      <td>-0.045274</td>\n",
              "      <td>0.033234</td>\n",
              "      <td>0.044873</td>\n",
              "    </tr>\n",
              "    <tr>\n",
              "      <th>FFMC</th>\n",
              "      <td>0.054135</td>\n",
              "      <td>-0.021039</td>\n",
              "      <td>-0.046308</td>\n",
              "      <td>1.000000</td>\n",
              "      <td>0.310259</td>\n",
              "      <td>0.330512</td>\n",
              "      <td>0.531805</td>\n",
              "      <td>0.420024</td>\n",
              "      <td>-0.300995</td>\n",
              "      <td>-0.039677</td>\n",
              "      <td>0.056702</td>\n",
              "      <td>0.040122</td>\n",
              "    </tr>\n",
              "    <tr>\n",
              "      <th>DMC</th>\n",
              "      <td>0.300741</td>\n",
              "      <td>-0.069574</td>\n",
              "      <td>-0.033956</td>\n",
              "      <td>0.310259</td>\n",
              "      <td>1.000000</td>\n",
              "      <td>0.602905</td>\n",
              "      <td>0.260754</td>\n",
              "      <td>0.375960</td>\n",
              "      <td>0.046485</td>\n",
              "      <td>-0.050538</td>\n",
              "      <td>0.057552</td>\n",
              "      <td>0.078204</td>\n",
              "    </tr>\n",
              "    <tr>\n",
              "      <th>DC</th>\n",
              "      <td>0.142278</td>\n",
              "      <td>-0.085916</td>\n",
              "      <td>-0.101178</td>\n",
              "      <td>0.330512</td>\n",
              "      <td>0.602905</td>\n",
              "      <td>1.000000</td>\n",
              "      <td>0.229154</td>\n",
              "      <td>0.451388</td>\n",
              "      <td>-0.039192</td>\n",
              "      <td>-0.110354</td>\n",
              "      <td>0.035861</td>\n",
              "      <td>0.049383</td>\n",
              "    </tr>\n",
              "    <tr>\n",
              "      <th>ISI</th>\n",
              "      <td>0.052542</td>\n",
              "      <td>0.006210</td>\n",
              "      <td>-0.024488</td>\n",
              "      <td>0.531805</td>\n",
              "      <td>0.260754</td>\n",
              "      <td>0.229154</td>\n",
              "      <td>1.000000</td>\n",
              "      <td>0.368080</td>\n",
              "      <td>-0.132517</td>\n",
              "      <td>0.043884</td>\n",
              "      <td>0.067668</td>\n",
              "      <td>0.008258</td>\n",
              "    </tr>\n",
              "    <tr>\n",
              "      <th>temp</th>\n",
              "      <td>0.177994</td>\n",
              "      <td>-0.067972</td>\n",
              "      <td>-0.057516</td>\n",
              "      <td>0.420024</td>\n",
              "      <td>0.375960</td>\n",
              "      <td>0.451388</td>\n",
              "      <td>0.368080</td>\n",
              "      <td>1.000000</td>\n",
              "      <td>-0.471475</td>\n",
              "      <td>-0.198832</td>\n",
              "      <td>0.072583</td>\n",
              "      <td>0.030318</td>\n",
              "    </tr>\n",
              "    <tr>\n",
              "      <th>RH</th>\n",
              "      <td>0.116645</td>\n",
              "      <td>0.085223</td>\n",
              "      <td>0.062221</td>\n",
              "      <td>-0.300995</td>\n",
              "      <td>0.046485</td>\n",
              "      <td>-0.039192</td>\n",
              "      <td>-0.132517</td>\n",
              "      <td>-0.471475</td>\n",
              "      <td>1.000000</td>\n",
              "      <td>0.117007</td>\n",
              "      <td>0.099751</td>\n",
              "      <td>-0.075519</td>\n",
              "    </tr>\n",
              "    <tr>\n",
              "      <th>wind</th>\n",
              "      <td>-0.047372</td>\n",
              "      <td>0.008014</td>\n",
              "      <td>-0.045274</td>\n",
              "      <td>-0.039677</td>\n",
              "      <td>-0.050538</td>\n",
              "      <td>-0.110354</td>\n",
              "      <td>0.043884</td>\n",
              "      <td>-0.198832</td>\n",
              "      <td>0.117007</td>\n",
              "      <td>1.000000</td>\n",
              "      <td>0.037740</td>\n",
              "      <td>-0.011479</td>\n",
              "    </tr>\n",
              "    <tr>\n",
              "      <th>rain</th>\n",
              "      <td>0.101648</td>\n",
              "      <td>0.065387</td>\n",
              "      <td>0.033234</td>\n",
              "      <td>0.056702</td>\n",
              "      <td>0.057552</td>\n",
              "      <td>0.035861</td>\n",
              "      <td>0.067668</td>\n",
              "      <td>0.072583</td>\n",
              "      <td>0.099751</td>\n",
              "      <td>0.037740</td>\n",
              "      <td>1.000000</td>\n",
              "      <td>-0.007366</td>\n",
              "    </tr>\n",
              "    <tr>\n",
              "      <th>area</th>\n",
              "      <td>0.077550</td>\n",
              "      <td>0.063385</td>\n",
              "      <td>0.044873</td>\n",
              "      <td>0.040122</td>\n",
              "      <td>0.078204</td>\n",
              "      <td>0.049383</td>\n",
              "      <td>0.008258</td>\n",
              "      <td>0.030318</td>\n",
              "      <td>-0.075519</td>\n",
              "      <td>-0.011479</td>\n",
              "      <td>-0.007366</td>\n",
              "      <td>1.000000</td>\n",
              "    </tr>\n",
              "  </tbody>\n",
              "</table>\n",
              "</div>\n",
              "      <button class=\"colab-df-convert\" onclick=\"convertToInteractive('df-a3e6988c-24ef-4d9e-bec8-fca578e3d8c6')\"\n",
              "              title=\"Convert this dataframe to an interactive table.\"\n",
              "              style=\"display:none;\">\n",
              "        \n",
              "  <svg xmlns=\"http://www.w3.org/2000/svg\" height=\"24px\"viewBox=\"0 0 24 24\"\n",
              "       width=\"24px\">\n",
              "    <path d=\"M0 0h24v24H0V0z\" fill=\"none\"/>\n",
              "    <path d=\"M18.56 5.44l.94 2.06.94-2.06 2.06-.94-2.06-.94-.94-2.06-.94 2.06-2.06.94zm-11 1L8.5 8.5l.94-2.06 2.06-.94-2.06-.94L8.5 2.5l-.94 2.06-2.06.94zm10 10l.94 2.06.94-2.06 2.06-.94-2.06-.94-.94-2.06-.94 2.06-2.06.94z\"/><path d=\"M17.41 7.96l-1.37-1.37c-.4-.4-.92-.59-1.43-.59-.52 0-1.04.2-1.43.59L10.3 9.45l-7.72 7.72c-.78.78-.78 2.05 0 2.83L4 21.41c.39.39.9.59 1.41.59.51 0 1.02-.2 1.41-.59l7.78-7.78 2.81-2.81c.8-.78.8-2.07 0-2.86zM5.41 20L4 18.59l7.72-7.72 1.47 1.35L5.41 20z\"/>\n",
              "  </svg>\n",
              "      </button>\n",
              "      \n",
              "  <style>\n",
              "    .colab-df-container {\n",
              "      display:flex;\n",
              "      flex-wrap:wrap;\n",
              "      gap: 12px;\n",
              "    }\n",
              "\n",
              "    .colab-df-convert {\n",
              "      background-color: #E8F0FE;\n",
              "      border: none;\n",
              "      border-radius: 50%;\n",
              "      cursor: pointer;\n",
              "      display: none;\n",
              "      fill: #1967D2;\n",
              "      height: 32px;\n",
              "      padding: 0 0 0 0;\n",
              "      width: 32px;\n",
              "    }\n",
              "\n",
              "    .colab-df-convert:hover {\n",
              "      background-color: #E2EBFA;\n",
              "      box-shadow: 0px 1px 2px rgba(60, 64, 67, 0.3), 0px 1px 3px 1px rgba(60, 64, 67, 0.15);\n",
              "      fill: #174EA6;\n",
              "    }\n",
              "\n",
              "    [theme=dark] .colab-df-convert {\n",
              "      background-color: #3B4455;\n",
              "      fill: #D2E3FC;\n",
              "    }\n",
              "\n",
              "    [theme=dark] .colab-df-convert:hover {\n",
              "      background-color: #434B5C;\n",
              "      box-shadow: 0px 1px 3px 1px rgba(0, 0, 0, 0.15);\n",
              "      filter: drop-shadow(0px 1px 2px rgba(0, 0, 0, 0.3));\n",
              "      fill: #FFFFFF;\n",
              "    }\n",
              "  </style>\n",
              "\n",
              "      <script>\n",
              "        const buttonEl =\n",
              "          document.querySelector('#df-a3e6988c-24ef-4d9e-bec8-fca578e3d8c6 button.colab-df-convert');\n",
              "        buttonEl.style.display =\n",
              "          google.colab.kernel.accessAllowed ? 'block' : 'none';\n",
              "\n",
              "        async function convertToInteractive(key) {\n",
              "          const element = document.querySelector('#df-a3e6988c-24ef-4d9e-bec8-fca578e3d8c6');\n",
              "          const dataTable =\n",
              "            await google.colab.kernel.invokeFunction('convertToInteractive',\n",
              "                                                     [key], {});\n",
              "          if (!dataTable) return;\n",
              "\n",
              "          const docLinkHtml = 'Like what you see? Visit the ' +\n",
              "            '<a target=\"_blank\" href=https://colab.research.google.com/notebooks/data_table.ipynb>data table notebook</a>'\n",
              "            + ' to learn more about interactive tables.';\n",
              "          element.innerHTML = '';\n",
              "          dataTable['output_type'] = 'display_data';\n",
              "          await google.colab.output.renderOutput(dataTable, element);\n",
              "          const docLink = document.createElement('div');\n",
              "          docLink.innerHTML = docLinkHtml;\n",
              "          element.appendChild(docLink);\n",
              "        }\n",
              "      </script>\n",
              "    </div>\n",
              "  </div>\n",
              "  "
            ]
          },
          "metadata": {},
          "execution_count": 127
        }
      ],
      "source": [
        "df.corr() # the correlation between the columns"
      ]
    },
    {
      "cell_type": "code",
      "execution_count": 128,
      "metadata": {
        "colab": {
          "base_uri": "https://localhost:8080/"
        },
        "id": "1WD5rVfHLEfN",
        "outputId": "98bac954-bb59-4dde-fb34-fce6facbfb50"
      },
      "outputs": [
        {
          "output_type": "execute_result",
          "data": {
            "text/plain": [
              "aug    184\n",
              "sep    172\n",
              "mar     54\n",
              "jul     32\n",
              "feb     20\n",
              "jun     17\n",
              "oct     15\n",
              "apr      9\n",
              "dec      9\n",
              "jan      2\n",
              "may      2\n",
              "nov      1\n",
              "Name: month, dtype: int64"
            ]
          },
          "metadata": {},
          "execution_count": 128
        }
      ],
      "source": [
        "df.month.value_counts()"
      ]
    },
    {
      "cell_type": "code",
      "execution_count": 129,
      "metadata": {
        "colab": {
          "base_uri": "https://localhost:8080/"
        },
        "id": "EwPesHOQLUA3",
        "outputId": "1424d0f9-f25f-4060-d1e9-83a43373836f"
      },
      "outputs": [
        {
          "output_type": "execute_result",
          "data": {
            "text/plain": [
              "sun    258\n",
              "sat     56\n",
              "fri     54\n",
              "mon     46\n",
              "thu     40\n",
              "wed     32\n",
              "tue     31\n",
              "Name: day, dtype: int64"
            ]
          },
          "metadata": {},
          "execution_count": 129
        }
      ],
      "source": [
        "df.day.value_counts()"
      ]
    },
    {
      "cell_type": "code",
      "execution_count": 130,
      "metadata": {
        "id": "Uy7TZrznLZu3"
      },
      "outputs": [],
      "source": [
        "## Data mapping of categorical features\n",
        "\n",
        "month_map = {'jan':1, 'feb':2, 'mar':3, \n",
        "             'apr':4, 'may':5, 'jun':6, \n",
        "             'jul':7, 'aug':8, 'sep':9, \n",
        "             'oct':10, 'nov':11, 'dec':12}\n",
        "\n",
        "day_map = {'mon':1, 'tue':2, 'wed':3,\n",
        "          'thu':4, 'fri':5, 'sat':6, 'sun':7}\n",
        "\n",
        "df.month = df.month.map(month_map)\n",
        "df.day = df.day.map(day_map)"
      ]
    },
    {
      "cell_type": "code",
      "execution_count": 131,
      "metadata": {
        "colab": {
          "base_uri": "https://localhost:8080/",
          "height": 206
        },
        "id": "uy_x2VEKLfqy",
        "outputId": "a7db2547-9c75-408f-e199-e39fc97266d0"
      },
      "outputs": [
        {
          "output_type": "execute_result",
          "data": {
            "text/plain": [
              "   id  X  Y  month  day  FFMC    DMC     DC  ISI  temp  RH  wind  rain  area\n",
              "0   1  7  5      3    5  86.2   26.2   94.3  5.1   8.2  51   4.0   0.0   0.0\n",
              "1   2  7  4     10    2  90.6  108.0  669.1  6.7  18.0  33   4.0   0.0   0.0\n",
              "2   3  7  4     10    6  90.6   43.7  686.9  6.7  19.4  33   1.3   0.0   0.0\n",
              "3   4  8  6      3    5  91.7   33.3   77.5  9.0   8.3  97   4.0   0.2   0.0\n",
              "4   5  8  6      3    7  89.3   51.3  102.2  9.6  19.4  99   4.0   0.0   0.0"
            ],
            "text/html": [
              "\n",
              "  <div id=\"df-5ee662c2-af40-41c1-bec3-8e364f86f038\">\n",
              "    <div class=\"colab-df-container\">\n",
              "      <div>\n",
              "<style scoped>\n",
              "    .dataframe tbody tr th:only-of-type {\n",
              "        vertical-align: middle;\n",
              "    }\n",
              "\n",
              "    .dataframe tbody tr th {\n",
              "        vertical-align: top;\n",
              "    }\n",
              "\n",
              "    .dataframe thead th {\n",
              "        text-align: right;\n",
              "    }\n",
              "</style>\n",
              "<table border=\"1\" class=\"dataframe\">\n",
              "  <thead>\n",
              "    <tr style=\"text-align: right;\">\n",
              "      <th></th>\n",
              "      <th>id</th>\n",
              "      <th>X</th>\n",
              "      <th>Y</th>\n",
              "      <th>month</th>\n",
              "      <th>day</th>\n",
              "      <th>FFMC</th>\n",
              "      <th>DMC</th>\n",
              "      <th>DC</th>\n",
              "      <th>ISI</th>\n",
              "      <th>temp</th>\n",
              "      <th>RH</th>\n",
              "      <th>wind</th>\n",
              "      <th>rain</th>\n",
              "      <th>area</th>\n",
              "    </tr>\n",
              "  </thead>\n",
              "  <tbody>\n",
              "    <tr>\n",
              "      <th>0</th>\n",
              "      <td>1</td>\n",
              "      <td>7</td>\n",
              "      <td>5</td>\n",
              "      <td>3</td>\n",
              "      <td>5</td>\n",
              "      <td>86.2</td>\n",
              "      <td>26.2</td>\n",
              "      <td>94.3</td>\n",
              "      <td>5.1</td>\n",
              "      <td>8.2</td>\n",
              "      <td>51</td>\n",
              "      <td>4.0</td>\n",
              "      <td>0.0</td>\n",
              "      <td>0.0</td>\n",
              "    </tr>\n",
              "    <tr>\n",
              "      <th>1</th>\n",
              "      <td>2</td>\n",
              "      <td>7</td>\n",
              "      <td>4</td>\n",
              "      <td>10</td>\n",
              "      <td>2</td>\n",
              "      <td>90.6</td>\n",
              "      <td>108.0</td>\n",
              "      <td>669.1</td>\n",
              "      <td>6.7</td>\n",
              "      <td>18.0</td>\n",
              "      <td>33</td>\n",
              "      <td>4.0</td>\n",
              "      <td>0.0</td>\n",
              "      <td>0.0</td>\n",
              "    </tr>\n",
              "    <tr>\n",
              "      <th>2</th>\n",
              "      <td>3</td>\n",
              "      <td>7</td>\n",
              "      <td>4</td>\n",
              "      <td>10</td>\n",
              "      <td>6</td>\n",
              "      <td>90.6</td>\n",
              "      <td>43.7</td>\n",
              "      <td>686.9</td>\n",
              "      <td>6.7</td>\n",
              "      <td>19.4</td>\n",
              "      <td>33</td>\n",
              "      <td>1.3</td>\n",
              "      <td>0.0</td>\n",
              "      <td>0.0</td>\n",
              "    </tr>\n",
              "    <tr>\n",
              "      <th>3</th>\n",
              "      <td>4</td>\n",
              "      <td>8</td>\n",
              "      <td>6</td>\n",
              "      <td>3</td>\n",
              "      <td>5</td>\n",
              "      <td>91.7</td>\n",
              "      <td>33.3</td>\n",
              "      <td>77.5</td>\n",
              "      <td>9.0</td>\n",
              "      <td>8.3</td>\n",
              "      <td>97</td>\n",
              "      <td>4.0</td>\n",
              "      <td>0.2</td>\n",
              "      <td>0.0</td>\n",
              "    </tr>\n",
              "    <tr>\n",
              "      <th>4</th>\n",
              "      <td>5</td>\n",
              "      <td>8</td>\n",
              "      <td>6</td>\n",
              "      <td>3</td>\n",
              "      <td>7</td>\n",
              "      <td>89.3</td>\n",
              "      <td>51.3</td>\n",
              "      <td>102.2</td>\n",
              "      <td>9.6</td>\n",
              "      <td>19.4</td>\n",
              "      <td>99</td>\n",
              "      <td>4.0</td>\n",
              "      <td>0.0</td>\n",
              "      <td>0.0</td>\n",
              "    </tr>\n",
              "  </tbody>\n",
              "</table>\n",
              "</div>\n",
              "      <button class=\"colab-df-convert\" onclick=\"convertToInteractive('df-5ee662c2-af40-41c1-bec3-8e364f86f038')\"\n",
              "              title=\"Convert this dataframe to an interactive table.\"\n",
              "              style=\"display:none;\">\n",
              "        \n",
              "  <svg xmlns=\"http://www.w3.org/2000/svg\" height=\"24px\"viewBox=\"0 0 24 24\"\n",
              "       width=\"24px\">\n",
              "    <path d=\"M0 0h24v24H0V0z\" fill=\"none\"/>\n",
              "    <path d=\"M18.56 5.44l.94 2.06.94-2.06 2.06-.94-2.06-.94-.94-2.06-.94 2.06-2.06.94zm-11 1L8.5 8.5l.94-2.06 2.06-.94-2.06-.94L8.5 2.5l-.94 2.06-2.06.94zm10 10l.94 2.06.94-2.06 2.06-.94-2.06-.94-.94-2.06-.94 2.06-2.06.94z\"/><path d=\"M17.41 7.96l-1.37-1.37c-.4-.4-.92-.59-1.43-.59-.52 0-1.04.2-1.43.59L10.3 9.45l-7.72 7.72c-.78.78-.78 2.05 0 2.83L4 21.41c.39.39.9.59 1.41.59.51 0 1.02-.2 1.41-.59l7.78-7.78 2.81-2.81c.8-.78.8-2.07 0-2.86zM5.41 20L4 18.59l7.72-7.72 1.47 1.35L5.41 20z\"/>\n",
              "  </svg>\n",
              "      </button>\n",
              "      \n",
              "  <style>\n",
              "    .colab-df-container {\n",
              "      display:flex;\n",
              "      flex-wrap:wrap;\n",
              "      gap: 12px;\n",
              "    }\n",
              "\n",
              "    .colab-df-convert {\n",
              "      background-color: #E8F0FE;\n",
              "      border: none;\n",
              "      border-radius: 50%;\n",
              "      cursor: pointer;\n",
              "      display: none;\n",
              "      fill: #1967D2;\n",
              "      height: 32px;\n",
              "      padding: 0 0 0 0;\n",
              "      width: 32px;\n",
              "    }\n",
              "\n",
              "    .colab-df-convert:hover {\n",
              "      background-color: #E2EBFA;\n",
              "      box-shadow: 0px 1px 2px rgba(60, 64, 67, 0.3), 0px 1px 3px 1px rgba(60, 64, 67, 0.15);\n",
              "      fill: #174EA6;\n",
              "    }\n",
              "\n",
              "    [theme=dark] .colab-df-convert {\n",
              "      background-color: #3B4455;\n",
              "      fill: #D2E3FC;\n",
              "    }\n",
              "\n",
              "    [theme=dark] .colab-df-convert:hover {\n",
              "      background-color: #434B5C;\n",
              "      box-shadow: 0px 1px 3px 1px rgba(0, 0, 0, 0.15);\n",
              "      filter: drop-shadow(0px 1px 2px rgba(0, 0, 0, 0.3));\n",
              "      fill: #FFFFFF;\n",
              "    }\n",
              "  </style>\n",
              "\n",
              "      <script>\n",
              "        const buttonEl =\n",
              "          document.querySelector('#df-5ee662c2-af40-41c1-bec3-8e364f86f038 button.colab-df-convert');\n",
              "        buttonEl.style.display =\n",
              "          google.colab.kernel.accessAllowed ? 'block' : 'none';\n",
              "\n",
              "        async function convertToInteractive(key) {\n",
              "          const element = document.querySelector('#df-5ee662c2-af40-41c1-bec3-8e364f86f038');\n",
              "          const dataTable =\n",
              "            await google.colab.kernel.invokeFunction('convertToInteractive',\n",
              "                                                     [key], {});\n",
              "          if (!dataTable) return;\n",
              "\n",
              "          const docLinkHtml = 'Like what you see? Visit the ' +\n",
              "            '<a target=\"_blank\" href=https://colab.research.google.com/notebooks/data_table.ipynb>data table notebook</a>'\n",
              "            + ' to learn more about interactive tables.';\n",
              "          element.innerHTML = '';\n",
              "          dataTable['output_type'] = 'display_data';\n",
              "          await google.colab.output.renderOutput(dataTable, element);\n",
              "          const docLink = document.createElement('div');\n",
              "          docLink.innerHTML = docLinkHtml;\n",
              "          element.appendChild(docLink);\n",
              "        }\n",
              "      </script>\n",
              "    </div>\n",
              "  </div>\n",
              "  "
            ]
          },
          "metadata": {},
          "execution_count": 131
        }
      ],
      "source": [
        "df.head()"
      ]
    },
    {
      "cell_type": "code",
      "execution_count": 132,
      "metadata": {
        "colab": {
          "base_uri": "https://localhost:8080/"
        },
        "id": "IqvCSYbvoBD4",
        "outputId": "37d11ebd-6dcb-4a60-b209-60a4f5a9e6e9"
      },
      "outputs": [
        {
          "output_type": "execute_result",
          "data": {
            "text/plain": [
              "id       0\n",
              "X        0\n",
              "Y        0\n",
              "month    0\n",
              "day      0\n",
              "FFMC     0\n",
              "DMC      0\n",
              "DC       0\n",
              "ISI      0\n",
              "temp     0\n",
              "RH       0\n",
              "wind     0\n",
              "rain     0\n",
              "area     0\n",
              "dtype: int64"
            ]
          },
          "metadata": {},
          "execution_count": 132
        }
      ],
      "source": [
        "df.isnull().sum()"
      ]
    },
    {
      "cell_type": "code",
      "execution_count": 133,
      "metadata": {
        "colab": {
          "base_uri": "https://localhost:8080/",
          "height": 623
        },
        "id": "MbO9hFIlE4jX",
        "outputId": "93d8fdb2-2db9-41ba-aebc-6c463c7c7a3e"
      },
      "outputs": [
        {
          "output_type": "execute_result",
          "data": {
            "text/plain": [
              "<AxesSubplot:xlabel='day', ylabel='count'>"
            ]
          },
          "metadata": {},
          "execution_count": 133
        },
        {
          "output_type": "display_data",
          "data": {
            "text/plain": [
              "<Figure size 720x720 with 1 Axes>"
            ],
            "image/png": "[encoded data removed]"
          },
          "metadata": {}
        }
      ],
      "source": [
        "fig, ax = plt.subplots(figsize=(10, 10))\n",
        "sns.set_style('whitegrid')\n",
        "sns.countplot(x='day',data=df,ax=ax)"
      ]
    },
    {
      "cell_type": "code",
      "execution_count": 134,
      "metadata": {
        "colab": {
          "base_uri": "https://localhost:8080/",
          "height": 623
        },
        "id": "yhNAXka0Ezuz",
        "outputId": "f42f2795-d031-4639-fe70-7fa528915a71"
      },
      "outputs": [
        {
          "output_type": "execute_result",
          "data": {
            "text/plain": [
              "<AxesSubplot:xlabel='month', ylabel='count'>"
            ]
          },
          "metadata": {},
          "execution_count": 134
        },
        {
          "output_type": "display_data",
          "data": {
            "text/plain": [
              "<Figure size 720x720 with 1 Axes>"
            ],
            "image/png": "[encoded data removed]"
          },
          "metadata": {}
        }
      ],
      "source": [
        "fig, ax = plt.subplots(figsize=(10, 10))\n",
        "sns.set_style('whitegrid')\n",
        "sns.countplot(x='month',data=df,ax=ax)"
      ]
    },
    {
      "cell_type": "code",
      "execution_count": 135,
      "metadata": {
        "id": "68u_6D9tfSDI"
      },
      "outputs": [],
      "source": [
        "df = df.drop('id', axis=1)"
      ]
    },
    {
      "cell_type": "code",
      "execution_count": 136,
      "metadata": {
        "colab": {
          "base_uri": "https://localhost:8080/",
          "height": 623
        },
        "id": "Sv6M6FL5Dd6p",
        "outputId": "825058ea-39c2-4b71-be51-706f2fb31c72"
      },
      "outputs": [
        {
          "output_type": "execute_result",
          "data": {
            "text/plain": [
              "<AxesSubplot:xlabel='wind', ylabel='count'>"
            ]
          },
          "metadata": {},
          "execution_count": 136
        },
        {
          "output_type": "display_data",
          "data": {
            "text/plain": [
              "<Figure size 720x720 with 1 Axes>"
            ],
            "image/png": "[encoded data removed]"
          },
          "metadata": {}
        }
      ],
      "source": [
        "fig, ax = plt.subplots(figsize=(10, 10))\n",
        "sns.set_style('whitegrid')\n",
        "sns.countplot(x='wind',data=df,ax=ax)"
      ]
    },
    {
      "cell_type": "code",
      "execution_count": 137,
      "metadata": {
        "colab": {
          "base_uri": "https://localhost:8080/",
          "height": 696
        },
        "id": "FAkcaTv4FEUw",
        "outputId": "2412762b-09a9-482a-d721-da3bcec7468c"
      },
      "outputs": [
        {
          "output_type": "execute_result",
          "data": {
            "text/plain": [
              "<AxesSubplot:xlabel='FFMC', ylabel='count'>"
            ]
          },
          "metadata": {},
          "execution_count": 137
        },
        {
          "output_type": "display_data",
          "data": {
            "text/plain": [
              "<Figure size 1800x1080 with 1 Axes>"
            ],
            "image/png": "[encoded data removed]"
          },
          "metadata": {}
        }
      ],
      "source": [
        "fig, ax = plt.subplots(figsize=(25, 15))\n",
        "sns.set_style('whitegrid')\n",
        "sns.countplot(x='FFMC',data=df,ax=ax)"
      ]
    },
    {
      "cell_type": "code",
      "execution_count": 138,
      "metadata": {
        "colab": {
          "base_uri": "https://localhost:8080/",
          "height": 623
        },
        "id": "1AQS0fsKFlRH",
        "outputId": "053429b0-9db6-4db3-cd11-0abf823ff3d8"
      },
      "outputs": [
        {
          "output_type": "execute_result",
          "data": {
            "text/plain": [
              "<AxesSubplot:xlabel='rain', ylabel='count'>"
            ]
          },
          "metadata": {},
          "execution_count": 138
        },
        {
          "output_type": "display_data",
          "data": {
            "text/plain": [
              "<Figure size 720x720 with 1 Axes>"
            ],
            "image/png": "[encoded data removed]"
          },
          "metadata": {}
        }
      ],
      "source": [
        "fig, ax = plt.subplots(figsize=(10, 10))\n",
        "sns.set_style('whitegrid')\n",
        "sns.countplot(x='rain',data=df,ax=ax)"
      ]
    },
    {
      "cell_type": "code",
      "execution_count": 139,
      "metadata": {
        "colab": {
          "base_uri": "https://localhost:8080/",
          "height": 1000
        },
        "id": "F3Mn0Pzrysfh",
        "outputId": "0a1809f1-67eb-403c-9c4b-64fd1b507b09"
      },
      "outputs": [
        {
          "output_type": "stream",
          "name": "stderr",
          "text": [
            "/usr/local/lib/python3.9/dist-packages/seaborn/_decorators.py:36: FutureWarning: Pass the following variable as a keyword arg: x. From version 0.12, the only valid positional argument will be `data`, and passing other arguments without an explicit keyword will result in an error or misinterpretation.\n",
            "  warnings.warn(\n"
          ]
        },
        {
          "output_type": "display_data",
          "data": {
            "text/plain": [
              "<Figure size 432x288 with 1 Axes>"
            ],
            "image/png": "[encoded data removed]"
          },
          "metadata": {}
        },
        {
          "output_type": "stream",
          "name": "stderr",
          "text": [
            "/usr/local/lib/python3.9/dist-packages/seaborn/_decorators.py:36: FutureWarning: Pass the following variable as a keyword arg: x. From version 0.12, the only valid positional argument will be `data`, and passing other arguments without an explicit keyword will result in an error or misinterpretation.\n",
            "  warnings.warn(\n"
          ]
        },
        {
          "output_type": "display_data",
          "data": {
            "text/plain": [
              "<Figure size 432x288 with 1 Axes>"
            ],
            "image/png": "[encoded data removed]"
          },
          "metadata": {}
        },
        {
          "output_type": "stream",
          "name": "stderr",
          "text": [
            "/usr/local/lib/python3.9/dist-packages/seaborn/_decorators.py:36: FutureWarning: Pass the following variable as a keyword arg: x. From version 0.12, the only valid positional argument will be `data`, and passing other arguments without an explicit keyword will result in an error or misinterpretation.\n",
            "  warnings.warn(\n"
          ]
        },
        {
          "output_type": "display_data",
          "data": {
            "text/plain": [
              "<Figure size 432x288 with 1 Axes>"
            ],
            "image/png": "[encoded data removed]"
          },
          "metadata": {}
        },
        {
          "output_type": "stream",
          "name": "stderr",
          "text": [
            "/usr/local/lib/python3.9/dist-packages/seaborn/_decorators.py:36: FutureWarning: Pass the following variable as a keyword arg: x. From version 0.12, the only valid positional argument will be `data`, and passing other arguments without an explicit keyword will result in an error or misinterpretation.\n",
            "  warnings.warn(\n"
          ]
        },
        {
          "output_type": "display_data",
          "data": {
            "text/plain": [
              "<Figure size 432x288 with 1 Axes>"
            ],
            "image/png": "[encoded data removed]"
          },
          "metadata": {}
        },
        {
          "output_type": "stream",
          "name": "stderr",
          "text": [
            "/usr/local/lib/python3.9/dist-packages/seaborn/_decorators.py:36: FutureWarning: Pass the following variable as a keyword arg: x. From version 0.12, the only valid positional argument will be `data`, and passing other arguments without an explicit keyword will result in an error or misinterpretation.\n",
            "  warnings.warn(\n"
          ]
        },
        {
          "output_type": "display_data",
          "data": {
            "text/plain": [
              "<Figure size 432x288 with 1 Axes>"
            ],
            "image/png": "[encoded data removed]"
          },
          "metadata": {}
        },
        {
          "output_type": "stream",
          "name": "stderr",
          "text": [
            "/usr/local/lib/python3.9/dist-packages/seaborn/_decorators.py:36: FutureWarning: Pass the following variable as a keyword arg: x. From version 0.12, the only valid positional argument will be `data`, and passing other arguments without an explicit keyword will result in an error or misinterpretation.\n",
            "  warnings.warn(\n"
          ]
        },
        {
          "output_type": "display_data",
          "data": {
            "text/plain": [
              "<Figure size 432x288 with 1 Axes>"
            ],
            "image/png": "[encoded data removed]"
          },
          "metadata": {}
        },
        {
          "output_type": "stream",
          "name": "stderr",
          "text": [
            "/usr/local/lib/python3.9/dist-packages/seaborn/_decorators.py:36: FutureWarning: Pass the following variable as a keyword arg: x. From version 0.12, the only valid positional argument will be `data`, and passing other arguments without an explicit keyword will result in an error or misinterpretation.\n",
            "  warnings.warn(\n"
          ]
        },
        {
          "output_type": "display_data",
          "data": {
            "text/plain": [
              "<Figure size 432x288 with 1 Axes>"
            ],
            "image/png": "[encoded data removed]"
          },
          "metadata": {}
        },
        {
          "output_type": "stream",
          "name": "stderr",
          "text": [
            "/usr/local/lib/python3.9/dist-packages/seaborn/_decorators.py:36: FutureWarning: Pass the following variable as a keyword arg: x. From version 0.12, the only valid positional argument will be `data`, and passing other arguments without an explicit keyword will result in an error or misinterpretation.\n",
            "  warnings.warn(\n"
          ]
        },
        {
          "output_type": "display_data",
          "data": {
            "text/plain": [
              "<Figure size 432x288 with 1 Axes>"
            ],
            "image/png": "[encoded data removed]"
          },
          "metadata": {}
        },
        {
          "output_type": "stream",
          "name": "stderr",
          "text": [
            "/usr/local/lib/python3.9/dist-packages/seaborn/_decorators.py:36: FutureWarning: Pass the following variable as a keyword arg: x. From version 0.12, the only valid positional argument will be `data`, and passing other arguments without an explicit keyword will result in an error or misinterpretation.\n",
            "  warnings.warn(\n"
          ]
        },
        {
          "output_type": "display_data",
          "data": {
            "text/plain": [
              "<Figure size 432x288 with 1 Axes>"
            ],
            "image/png": "[encoded data removed]"
          },
          "metadata": {}
        },
        {
          "output_type": "stream",
          "name": "stderr",
          "text": [
            "/usr/local/lib/python3.9/dist-packages/seaborn/_decorators.py:36: FutureWarning: Pass the following variable as a keyword arg: x. From version 0.12, the only valid positional argument will be `data`, and passing other arguments without an explicit keyword will result in an error or misinterpretation.\n",
            "  warnings.warn(\n"
          ]
        },
        {
          "output_type": "display_data",
          "data": {
            "text/plain": [
              "<Figure size 432x288 with 1 Axes>"
            ],
            "image/png": "[encoded data removed]"
          },
          "metadata": {}
        },
        {
          "output_type": "stream",
          "name": "stderr",
          "text": [
            "/usr/local/lib/python3.9/dist-packages/seaborn/_decorators.py:36: FutureWarning: Pass the following variable as a keyword arg: x. From version 0.12, the only valid positional argument will be `data`, and passing other arguments without an explicit keyword will result in an error or misinterpretation.\n",
            "  warnings.warn(\n"
          ]
        },
        {
          "output_type": "display_data",
          "data": {
            "text/plain": [
              "<Figure size 432x288 with 1 Axes>"
            ],
            "image/png": "[encoded data removed]"
          },
          "metadata": {}
        },
        {
          "output_type": "stream",
          "name": "stderr",
          "text": [
            "/usr/local/lib/python3.9/dist-packages/seaborn/_decorators.py:36: FutureWarning: Pass the following variable as a keyword arg: x. From version 0.12, the only valid positional argument will be `data`, and passing other arguments without an explicit keyword will result in an error or misinterpretation.\n",
            "  warnings.warn(\n"
          ]
        },
        {
          "output_type": "display_data",
          "data": {
            "text/plain": [
              "<Figure size 432x288 with 1 Axes>"
            ],
            "image/png": "[encoded data removed]"
          },
          "metadata": {}
        },
        {
          "output_type": "stream",
          "name": "stderr",
          "text": [
            "/usr/local/lib/python3.9/dist-packages/seaborn/_decorators.py:36: FutureWarning: Pass the following variable as a keyword arg: x. From version 0.12, the only valid positional argument will be `data`, and passing other arguments without an explicit keyword will result in an error or misinterpretation.\n",
            "  warnings.warn(\n"
          ]
        },
        {
          "output_type": "display_data",
          "data": {
            "text/plain": [
              "<Figure size 432x288 with 1 Axes>"
            ],
            "image/png": "[encoded data removed]"
          },
          "metadata": {}
        }
      ],
      "source": [
        "# Boxplots of each feature\n",
        "for feature in df.columns:\n",
        "  sns.boxplot(df[feature])\n",
        "  plt.title(feature)\n",
        "  plt.show()\n",
        "  "
      ]
    },
    {
      "cell_type": "code",
      "execution_count": 140,
      "metadata": {
        "id": "_FXGlPa0yyiq"
      },
      "outputs": [],
      "source": [
        "\n",
        "# Identify the columns with potential outliers\n",
        "outlier_cols = [ 'month', 'FFMC', 'DMC', 'DC', 'ISI', 'temp',\n",
        "       'RH', 'wind', 'rain','area']\n",
        "\n",
        "# Replace outliers with the upper and lower bounds\n",
        "for col in outlier_cols:\n",
        "    q1 = df[col].quantile(0.25)\n",
        "    q3 = df[col].quantile(0.75)\n",
        "    iqr = q3 - q1\n",
        "    upper_bound = q3 + 1.5*iqr\n",
        "    lower_bound = q1 - 1.5*iqr\n",
        "    df[col] = np.where(df[col] > upper_bound, upper_bound, df[col])\n",
        "    df[col] = np.where(df[col] < lower_bound, lower_bound, df[col])"
      ]
    },
    {
      "cell_type": "code",
      "execution_count": 141,
      "metadata": {
        "colab": {
          "base_uri": "https://localhost:8080/",
          "height": 1000
        },
        "id": "fcA2MCuFzPqN",
        "outputId": "098b398d-3743-4073-d43a-4e01eb323e13"
      },
      "outputs": [
        {
          "output_type": "stream",
          "name": "stderr",
          "text": [
            "/usr/local/lib/python3.9/dist-packages/seaborn/_decorators.py:36: FutureWarning: Pass the following variable as a keyword arg: x. From version 0.12, the only valid positional argument will be `data`, and passing other arguments without an explicit keyword will result in an error or misinterpretation.\n",
            "  warnings.warn(\n"
          ]
        },
        {
          "output_type": "display_data",
          "data": {
            "text/plain": [
              "<Figure size 432x288 with 1 Axes>"
            ],
            "image/png": "[encoded data removed]"
          },
          "metadata": {}
        },
        {
          "output_type": "stream",
          "name": "stderr",
          "text": [
            "/usr/local/lib/python3.9/dist-packages/seaborn/_decorators.py:36: FutureWarning: Pass the following variable as a keyword arg: x. From version 0.12, the only valid positional argument will be `data`, and passing other arguments without an explicit keyword will result in an error or misinterpretation.\n",
            "  warnings.warn(\n"
          ]
        },
        {
          "output_type": "display_data",
          "data": {
            "text/plain": [
              "<Figure size 432x288 with 1 Axes>"
            ],
            "image/png": "[encoded data removed]"
          },
          "metadata": {}
        },
        {
          "output_type": "stream",
          "name": "stderr",
          "text": [
            "/usr/local/lib/python3.9/dist-packages/seaborn/_decorators.py:36: FutureWarning: Pass the following variable as a keyword arg: x. From version 0.12, the only valid positional argument will be `data`, and passing other arguments without an explicit keyword will result in an error or misinterpretation.\n",
            "  warnings.warn(\n"
          ]
        },
        {
          "output_type": "display_data",
          "data": {
            "text/plain": [
              "<Figure size 432x288 with 1 Axes>"
            ],
            "image/png": "[encoded data removed]"
          },
          "metadata": {}
        },
        {
          "output_type": "stream",
          "name": "stderr",
          "text": [
            "/usr/local/lib/python3.9/dist-packages/seaborn/_decorators.py:36: FutureWarning: Pass the following variable as a keyword arg: x. From version 0.12, the only valid positional argument will be `data`, and passing other arguments without an explicit keyword will result in an error or misinterpretation.\n",
            "  warnings.warn(\n"
          ]
        },
        {
          "output_type": "display_data",
          "data": {
            "text/plain": [
              "<Figure size 432x288 with 1 Axes>"
            ],
            "image/png": "[encoded data removed]"
          },
          "metadata": {}
        },
        {
          "output_type": "stream",
          "name": "stderr",
          "text": [
            "/usr/local/lib/python3.9/dist-packages/seaborn/_decorators.py:36: FutureWarning: Pass the following variable as a keyword arg: x. From version 0.12, the only valid positional argument will be `data`, and passing other arguments without an explicit keyword will result in an error or misinterpretation.\n",
            "  warnings.warn(\n"
          ]
        },
        {
          "output_type": "display_data",
          "data": {
            "text/plain": [
              "<Figure size 432x288 with 1 Axes>"
            ],
            "image/png": "[encoded data removed]"
          },
          "metadata": {}
        },
        {
          "output_type": "stream",
          "name": "stderr",
          "text": [
            "/usr/local/lib/python3.9/dist-packages/seaborn/_decorators.py:36: FutureWarning: Pass the following variable as a keyword arg: x. From version 0.12, the only valid positional argument will be `data`, and passing other arguments without an explicit keyword will result in an error or misinterpretation.\n",
            "  warnings.warn(\n"
          ]
        },
        {
          "output_type": "display_data",
          "data": {
            "text/plain": [
              "<Figure size 432x288 with 1 Axes>"
            ],
            "image/png": "[encoded data removed]"
          },
          "metadata": {}
        },
        {
          "output_type": "stream",
          "name": "stderr",
          "text": [
            "/usr/local/lib/python3.9/dist-packages/seaborn/_decorators.py:36: FutureWarning: Pass the following variable as a keyword arg: x. From version 0.12, the only valid positional argument will be `data`, and passing other arguments without an explicit keyword will result in an error or misinterpretation.\n",
            "  warnings.warn(\n"
          ]
        },
        {
          "output_type": "display_data",
          "data": {
            "text/plain": [
              "<Figure size 432x288 with 1 Axes>"
            ],
            "image/png": "[encoded data removed]"
          },
          "metadata": {}
        },
        {
          "output_type": "stream",
          "name": "stderr",
          "text": [
            "/usr/local/lib/python3.9/dist-packages/seaborn/_decorators.py:36: FutureWarning: Pass the following variable as a keyword arg: x. From version 0.12, the only valid positional argument will be `data`, and passing other arguments without an explicit keyword will result in an error or misinterpretation.\n",
            "  warnings.warn(\n"
          ]
        },
        {
          "output_type": "display_data",
          "data": {
            "text/plain": [
              "<Figure size 432x288 with 1 Axes>"
            ],
            "image/png": "[encoded data removed]"
          },
          "metadata": {}
        },
        {
          "output_type": "stream",
          "name": "stderr",
          "text": [
            "/usr/local/lib/python3.9/dist-packages/seaborn/_decorators.py:36: FutureWarning: Pass the following variable as a keyword arg: x. From version 0.12, the only valid positional argument will be `data`, and passing other arguments without an explicit keyword will result in an error or misinterpretation.\n",
            "  warnings.warn(\n"
          ]
        },
        {
          "output_type": "display_data",
          "data": {
            "text/plain": [
              "<Figure size 432x288 with 1 Axes>"
            ],
            "image/png": "[encoded data removed]"
          },
          "metadata": {}
        },
        {
          "output_type": "stream",
          "name": "stderr",
          "text": [
            "/usr/local/lib/python3.9/dist-packages/seaborn/_decorators.py:36: FutureWarning: Pass the following variable as a keyword arg: x. From version 0.12, the only valid positional argument will be `data`, and passing other arguments without an explicit keyword will result in an error or misinterpretation.\n",
            "  warnings.warn(\n"
          ]
        },
        {
          "output_type": "display_data",
          "data": {
            "text/plain": [
              "<Figure size 432x288 with 1 Axes>"
            ],
            "image/png": "[encoded data removed]"
          },
          "metadata": {}
        },
        {
          "output_type": "stream",
          "name": "stderr",
          "text": [
            "/usr/local/lib/python3.9/dist-packages/seaborn/_decorators.py:36: FutureWarning: Pass the following variable as a keyword arg: x. From version 0.12, the only valid positional argument will be `data`, and passing other arguments without an explicit keyword will result in an error or misinterpretation.\n",
            "  warnings.warn(\n"
          ]
        },
        {
          "output_type": "display_data",
          "data": {
            "text/plain": [
              "<Figure size 432x288 with 1 Axes>"
            ],
            "image/png": "[encoded data removed]"
          },
          "metadata": {}
        },
        {
          "output_type": "stream",
          "name": "stderr",
          "text": [
            "/usr/local/lib/python3.9/dist-packages/seaborn/_decorators.py:36: FutureWarning: Pass the following variable as a keyword arg: x. From version 0.12, the only valid positional argument will be `data`, and passing other arguments without an explicit keyword will result in an error or misinterpretation.\n",
            "  warnings.warn(\n"
          ]
        },
        {
          "output_type": "display_data",
          "data": {
            "text/plain": [
              "<Figure size 432x288 with 1 Axes>"
            ],
            "image/png": "[encoded data removed]"
          },
          "metadata": {}
        },
        {
          "output_type": "stream",
          "name": "stderr",
          "text": [
            "/usr/local/lib/python3.9/dist-packages/seaborn/_decorators.py:36: FutureWarning: Pass the following variable as a keyword arg: x. From version 0.12, the only valid positional argument will be `data`, and passing other arguments without an explicit keyword will result in an error or misinterpretation.\n",
            "  warnings.warn(\n"
          ]
        },
        {
          "output_type": "display_data",
          "data": {
            "text/plain": [
              "<Figure size 432x288 with 1 Axes>"
            ],
            "image/png": "[encoded data removed]"
          },
          "metadata": {}
        }
      ],
      "source": [
        "# Boxplots of each feature\n",
        "for feature in df.columns:\n",
        "  sns.boxplot(df[feature])\n",
        "  plt.title(feature)\n",
        "  plt.show()"
      ]
    },
    {
      "cell_type": "code",
      "execution_count": 142,
      "metadata": {
        "colab": {
          "base_uri": "https://localhost:8080/"
        },
        "id": "99aNni1uN7Bm",
        "outputId": "d8bc3423-4d85-4643-8e72-28a0c1383209"
      },
      "outputs": [
        {
          "output_type": "stream",
          "name": "stderr",
          "text": [
            "<ipython-input-142-5962a726cd1c>:6: FutureWarning: In a future version of pandas all arguments of DataFrame.drop except for the argument 'labels' will be keyword-only.\n",
            "  X = df.drop('area', 1).values\n"
          ]
        }
      ],
      "source": [
        "# Scale the numerical features using min-max scaling\n",
        "from sklearn.preprocessing import MinMaxScaler\n",
        "scaler = MinMaxScaler()\n",
        "df[['FFMC', 'DMC', 'DC', 'ISI', 'temp', 'RH', 'wind', 'rain']] = scaler.fit_transform(df[['FFMC', 'DMC', 'DC', 'ISI', 'temp', 'RH', 'wind', 'rain']])\n",
        "\n",
        "X = df.drop('area', 1).values\n",
        "y = df['area'].values"
      ]
    },
    {
      "cell_type": "code",
      "execution_count": 143,
      "metadata": {
        "id": "Xu6KovdZ0wFD"
      },
      "outputs": [],
      "source": [
        "import random\n",
        "\n",
        "def train_test_split(X, y, test_size=0.2, random_state=None):\n",
        "    if random_state:\n",
        "        random.seed(random_state)\n",
        "    \n",
        "    n = len(X)\n",
        "    test_data = set(random.sample(range(n), int(n * test_size)))\n",
        "    train_data = set(range(n)) - test_data\n",
        "    X_train = [X[i] for i in train_data]\n",
        "    X_train=np.array(X_train)\n",
        "    X_test = [X[i] for i in test_data]\n",
        "    X_test=np.array(X_test)\n",
        "    y_train = [y[i] for i in train_data]\n",
        "    y_train=np.array(y_train)\n",
        "    y_test = [y[i] for i in test_data]\n",
        "    y_test=np.array(y_test)\n",
        "    return X_train, X_test, y_train, y_test\n",
        "    \n",
        "X_train, X_test, y_train, y_test = train_test_split(X, y, test_size=.2, random_state=41)"
      ]
    },
    {
      "cell_type": "code",
      "execution_count": 144,
      "metadata": {
        "id": "BXsaAZP4L1ZM"
      },
      "outputs": [],
      "source": [
        "import numpy as np\n",
        "\n",
        "class DecisionTreeRegressor:\n",
        "    def __init__(self, max_depth=None, min_samples_split=2):\n",
        "        self.max_depth = max_depth\n",
        "        self.min_samples_split = min_samples_split\n",
        "        self.tree = None\n",
        "\n",
        "    def mean_squared_error(self, y):\n",
        "        return np.mean((y - np.mean(y)) ** 2)\n",
        "\n",
        "    def split_data(self, X, y, feature_idx, threshold):\n",
        "        left_mask = X[:, feature_idx] <= threshold\n",
        "        right_mask = X[:, feature_idx] > threshold\n",
        "        X_left, y_left = X[left_mask], y[left_mask]\n",
        "        X_right, y_right = X[right_mask], y[right_mask]\n",
        "        return X_left, y_left, X_right, y_right\n",
        "\n",
        "    def find_best_split(self, X, y):\n",
        "        best_feature_idx, best_threshold, best_mse = None, None, np.inf\n",
        "        for feature_idx in range(X.shape[1]):\n",
        "            for threshold in np.unique(X[:, feature_idx]):\n",
        "                X_left, y_left, X_right, y_right = self.split_data(X, y, feature_idx, threshold)\n",
        "                if len(y_left) < self.min_samples_split or len(y_right) < self.min_samples_split:\n",
        "                    continue\n",
        "                mse_left, mse_right = self.mean_squared_error(y_left), self.mean_squared_error(y_right)\n",
        "                mse = mse_left + mse_right\n",
        "                if mse < best_mse:\n",
        "                    best_feature_idx, best_threshold, best_mse = feature_idx, threshold, mse\n",
        "        return best_feature_idx, best_threshold, best_mse\n",
        "\n",
        "    def build_tree(self, X, y, depth):\n",
        "        if depth == self.max_depth or len(y) < self.min_samples_split:\n",
        "            return np.mean(y)\n",
        "        feature_idx, threshold, mse = self.find_best_split(X, y)\n",
        "        if mse == np.inf:\n",
        "            return np.mean(y)\n",
        "        X_left, y_left, X_right, y_right = self.split_data(X, y, feature_idx, threshold)\n",
        "        left_node = self.build_tree(X_left, y_left, depth + 1)\n",
        "        right_node = self.build_tree(X_right, y_right, depth + 1)\n",
        "        return {\"feature_idx\": feature_idx, \"threshold\": threshold, \"left_node\": left_node, \"right_node\": right_node}\n",
        "\n",
        "    def fit(self, X, y):\n",
        "        self.tree = self.build_tree(X, y, 0)\n",
        "\n",
        "    def predict(self, X):\n",
        "        def predict_row(row, node):\n",
        "            if isinstance(node, float):\n",
        "                return node\n",
        "            if row[node[\"feature_idx\"]] <= node[\"threshold\"]:\n",
        "                return predict_row(row, node[\"left_node\"])\n",
        "            else:\n",
        "                return predict_row(row, node[\"right_node\"])\n",
        "        return np.array([predict_row(row, self.tree) for row in X])\n",
        "    def mean_squared_errorr(self,y_true, y_pred):\n",
        "   \n",
        "      # Check if the lengths of both arrays are equal\n",
        "      if len(y_true) != len(y_pred):\n",
        "          raise ValueError(\"Length of y_true and y_pred should be the same.\")\n",
        "      \n",
        "      # Calculate the squared differences between the true and predicted values\n",
        "      squared_differences = [(y_true[i] - y_pred[i])**2 for i in range(len(y_true))]\n",
        "      \n",
        "      # Calculate the mean of the squared differences\n",
        "      mse = sum(squared_differences) / len(squared_differences)\n",
        "      \n",
        "      return mse"
      ]
    },
    {
      "cell_type": "code",
      "execution_count": 145,
      "metadata": {
        "id": "fkI3pNZKv4rB"
      },
      "outputs": [],
      "source": [
        "class Node():\n",
        "    def __init__(self, feature_index=None, threshold=None, left=None, right=None, var_red=None, value=None):\n",
        "        ''' constructor ''' \n",
        "        \n",
        "        # for decision node\n",
        "        self.feature_index = feature_index\n",
        "        self.threshold = threshold\n",
        "        self.left = left\n",
        "        self.right = right\n",
        "        self.var_red = var_red\n",
        "        \n",
        "        # for leaf node\n",
        "        self.value = value"
      ]
    },
    {
      "cell_type": "code",
      "execution_count": 146,
      "metadata": {
        "id": "aZLLoKQoyGHk"
      },
      "outputs": [],
      "source": [
        "import numpy as np\n",
        "\n",
        "class RandomForestRegressor:\n",
        "    def __init__(self, n_estimators=100, max_depth=None, min_samples_split=2):\n",
        "        self.n_estimators = n_estimators\n",
        "        self.max_depth = max_depth\n",
        "        self.min_samples_split = min_samples_split\n",
        "      \n",
        "       \n",
        "        self.trees = []\n",
        "\n",
        "    def fit(self, X, y):\n",
        "     \n",
        "          for i in range(self.n_estimators):\n",
        "            \n",
        "                indices = np.random.choice(X.shape[0], size=X.shape[0], replace=True)\n",
        "                X_subset = X[indices]\n",
        "                y_subset = y[indices]\n",
        "                tree = DecisionTreeRegressor(max_depth=self.max_depth, \n",
        "                                              min_samples_split=self.min_samples_split\n",
        "                                             \n",
        "                                              )\n",
        "                tree.fit(X_subset, y_subset)\n",
        "                self.trees.append(tree)\n",
        "    def predict(self, X):\n",
        "        y_preds = np.zeros((X.shape[0], len(self.trees)))\n",
        "        for i, tree in enumerate(self.trees):\n",
        "            y_preds[:, i] = tree.predict(X)\n",
        "        return np.mean(y_preds, axis=1)            \n",
        "    def mean_squared_error(self,y_true, y_pred):\n",
        "   \n",
        "      # Check if the lengths of both arrays are equal\n",
        "      if len(y_true) != len(y_pred):\n",
        "          raise ValueError(\"Length of y_true and y_pred should be the same.\")\n",
        "      \n",
        "      # Calculate the squared differences between the true and predicted values\n",
        "      squared_differences = [(y_true[i] - y_pred[i])**2 for i in range(len(y_true))]\n",
        "      \n",
        "      # Calculate the mean of the squared differences\n",
        "      mse = sum(squared_differences) / len(squared_differences)\n",
        "      \n",
        "      return mse\n",
        "    \n",
        "    \n",
        "  \n"
      ]
    },
    {
      "cell_type": "code",
      "execution_count": 147,
      "metadata": {
        "id": "Jr4k7PxWOsG8"
      },
      "outputs": [],
      "source": [
        "\n",
        "regressor = RandomForestRegressor(n_estimators=10, max_depth=4, min_samples_split=2)\n",
        "regressor.fit(X_train,y_train)\n",
        "\n"
      ]
    },
    {
      "cell_type": "code",
      "execution_count": 148,
      "metadata": {
        "id": "FOkFL7IQOvtq"
      },
      "outputs": [],
      "source": [
        "y_pred = regressor.predict(X_test)"
      ]
    },
    {
      "cell_type": "code",
      "execution_count": 149,
      "metadata": {
        "colab": {
          "base_uri": "https://localhost:8080/"
        },
        "id": "l-6EdhUKvE6X",
        "outputId": "c1ea4b06-89d3-4411-a6dd-cfc9a85b9153"
      },
      "outputs": [
        {
          "output_type": "execute_result",
          "data": {
            "text/plain": [
              "array([4.5645902 , 4.34747241, 4.34747241, 4.34747241, 4.34747241,\n",
              "       4.34747241, 4.93764915, 4.34747241, 4.34747241, 4.34747241,\n",
              "       4.34747241, 4.34747241, 4.34747241, 4.34747241, 4.34747241,\n",
              "       4.08152387, 4.34747241, 4.34747241, 4.34747241, 4.34747241,\n",
              "       4.34747241, 4.34747241, 4.34747241, 4.34747241, 1.3254779 ,\n",
              "       4.61215607, 6.06494145, 4.34747241, 4.34747241, 4.34747241,\n",
              "       4.34747241, 4.34747241, 4.34747241, 4.34747241, 4.34747241,\n",
              "       4.34747241, 4.34747241, 4.34747241, 4.34747241, 4.34747241,\n",
              "       4.34747241, 4.34747241, 4.34747241, 4.34747241, 4.34747241,\n",
              "       4.34747241, 3.92325246, 4.34747241, 4.34747241, 4.34747241,\n",
              "       4.34747241, 4.34747241, 4.34747241, 4.34747241, 4.34747241,\n",
              "       4.34747241, 4.34747241, 4.34747241, 4.34747241, 4.34747241,\n",
              "       4.93764915, 3.92325246, 3.92325246, 4.34747241, 4.34747241,\n",
              "       4.34747241, 4.34747241, 4.34747241, 4.34747241, 4.34747241,\n",
              "       4.34747241, 4.34747241, 4.34747241, 4.34747241, 4.34747241,\n",
              "       4.34747241, 4.34747241, 4.34747241, 4.34747241, 4.34747241,\n",
              "       4.34747241, 4.5633311 , 4.34747241, 4.34747241, 4.34747241,\n",
              "       4.34747241, 5.61866385, 4.34747241, 4.34747241, 4.34747241,\n",
              "       4.34747241, 4.5633311 , 4.34747241, 4.34747241, 4.34747241,\n",
              "       4.34747241, 4.34747241, 4.34747241, 4.34747241, 4.34747241,\n",
              "       3.98379915, 4.34747241, 4.34747241])"
            ]
          },
          "metadata": {},
          "execution_count": 149
        }
      ],
      "source": [
        "y_pred"
      ]
    },
    {
      "cell_type": "code",
      "execution_count": 151,
      "metadata": {
        "id": "V_1fFbLcPARJ"
      },
      "outputs": [],
      "source": [
        "import numpy as np\n",
        "def mean_squared_error(y_true, y_pred):\n",
        "    \"\"\"\n",
        "    Calculates the mean squared error between y_true and y_pred.\n",
        "    :param y_true: A list or array of true values\n",
        "    :param y_pred: A list or array of predicted values\n",
        "    :return: The mean squared error between y_true and y_pred\n",
        "    \"\"\"\n",
        "    # Get the length of the arrays\n",
        "    n = len(y_true)\n",
        "    \n",
        "    # Calculate the sum of squared differences\n",
        "    sum_squared_diff = sum((y_true[i] - y_pred[i])**2 for i in range(n))\n",
        "    \n",
        "    # Calculate the mean squared error\n",
        "    mse = sum_squared_diff / n\n",
        "    \n",
        "    return mse\n",
        "\n"
      ]
    },
    {
      "cell_type": "code",
      "execution_count": 152,
      "metadata": {
        "colab": {
          "base_uri": "https://localhost:8080/"
        },
        "id": "FSijnYOjO396",
        "outputId": "59b82572-0ccd-449b-e23f-9dff172932d0"
      },
      "outputs": [
        {
          "output_type": "execute_result",
          "data": {
            "text/plain": [
              "39.44227480956475"
            ]
          },
          "metadata": {},
          "execution_count": 152
        }
      ],
      "source": [
        "mse = mean_squared_error(y_test, y_pred)\n",
        "mse"
      ]
    },
    {
      "cell_type": "code",
      "source": [
        "from sklearn.metrics import r2_score\n",
        "\n",
        "test_set_r2 = r2_score(y_test, y_pred)\n",
        "\n",
        "print(test_set_r2)"
      ],
      "metadata": {
        "colab": {
          "base_uri": "https://localhost:8080/"
        },
        "id": "R4qTz8RU-ZGR",
        "outputId": "eb8fa2e8-2dd6-4003-d2f4-26a68f2f5fcd"
      },
      "execution_count": 161,
      "outputs": [
        {
          "output_type": "stream",
          "name": "stdout",
          "text": [
            "-0.01113273316087282\n"
          ]
        }
      ]
    },
    {
      "cell_type": "code",
      "execution_count": 162,
      "metadata": {
        "id": "wTMDyRRRuFkx"
      },
      "outputs": [],
      "source": [
        "# writing  function for r2_score (R2 = 1 - (SSres / SStot)) \n",
        "def r2(self,y_true, y_pred):\n",
        "  # Calculate the mean of the true values\n",
        "  y_true_mean = sum(y_true) / len(y_true)\n",
        "  # Calculate the total sum of squares (TSS)\n",
        "  tss = sum((y_true - y_true_mean) ** 2)\n",
        "  # Calculate the residual sum of squares (RSS)\n",
        "  rss = sum((y_true - y_pred) ** 2)\n",
        "  # Calculate the R-squared value\n",
        "  r2_score = 1 - (rss / tss)\n",
        "  return r2_score"
      ]
    },
    {
      "cell_type": "code",
      "execution_count": 163,
      "metadata": {
        "colab": {
          "base_uri": "https://localhost:8080/"
        },
        "id": "YfPU5rxK2LVO",
        "outputId": "0e1910a3-15f3-494a-d4e5-75166e511d2a"
      },
      "outputs": [
        {
          "output_type": "execute_result",
          "data": {
            "text/plain": [
              "-0.01113273316087282"
            ]
          },
          "metadata": {},
          "execution_count": 163
        }
      ],
      "source": [
        "r2_score = r2_score(y_test, y_pred)\n",
        "r2_score"
      ]
    },
    {
      "cell_type": "code",
      "execution_count": 153,
      "metadata": {
        "id": "HTC6F4zJ1v2i"
      },
      "outputs": [],
      "source": [
        "\n",
        "# Define the random forest regression function\n",
        "def random_forest_reg(X_train, y_train, X_test, n_estimators, max_depth,min_samples_split):\n",
        "  # Fit the random forest regression model\n",
        "  tree_reg = RandomForestRegressor(n_estimators=n_estimators,max_depth=max_depth,min_samples_split=min_samples_split)\n",
        "  tree_reg.fit(X_train, y_train)\n",
        "  \n",
        "  # Make predictions on the test data\n",
        "  y_pred = tree_reg.predict(X_test)\n",
        "  \n",
        "  # Calculate the mean squared error\n",
        "  mse = mean_squared_error(y_test, y_pred)\n",
        "  \n",
        "  return mse"
      ]
    },
    {
      "cell_type": "code",
      "execution_count": 154,
      "metadata": {
        "id": "YMxoGJjl1wZg"
      },
      "outputs": [],
      "source": [
        "from sklearn.metrics import mean_squared_error\n",
        "\n",
        "# Define the hyperparameter tuning function using randomized cross-validation\n",
        "def random_search_cv(X_train, Y_train, X_test, param_dist, num_iter):\n",
        "      # Define the best parameters and score\n",
        "      best_params = {}\n",
        "      best_score = np.inf\n",
        "\n",
        "      # Perform the specified number of iterations\n",
        "      for i in range(num_iter):\n",
        "          # Select a random set of parameters\n",
        "          params = {k: v[np.random.randint(len(v))] for k, v in param_dist.items()}\n",
        "\n",
        "          # Evaluate the model with the selected parameters\n",
        "          score = random_forest_reg(X_train, Y_train, X_test, **params)\n",
        "\n",
        "          # Check if the model is the best so far\n",
        "          if score < best_score:\n",
        "              best_score = score\n",
        "              best_params = params\n",
        "\n",
        "      return best_params\n",
        "\n",
        "# Define the hyperparameters and their possible values\n",
        "param_dist = { \"n_estimators\":[10, 20, 5],\n",
        "              \"max_depth\": [1, 5, 10, 20, 50, 100],\n",
        "              \"min_samples_split\": [2, 5, 10, 20,30,40]\n",
        "             } \n"
      ]
    },
    {
      "cell_type": "code",
      "execution_count": 164,
      "metadata": {
        "colab": {
          "base_uri": "https://localhost:8080/"
        },
        "id": "gkWpxhz81z-i",
        "outputId": "710c741f-2732-4066-f91d-1739af8ee2a4"
      },
      "outputs": [
        {
          "output_type": "stream",
          "name": "stdout",
          "text": [
            "Best parameters: {'n_estimators': 5, 'max_depth': 1, 'min_samples_split': 30}\n",
            "Mean squared error: 39.12954880074693\n"
          ]
        }
      ],
      "source": [
        "# Perform the hyperparameter tuning with randomized cross-validation\n",
        "best_params = random_search_cv(X_train, y_train, X_test, param_dist, 5)\n",
        "\n",
        "# Print the best parameters\n",
        "print(\"Best parameters:\", best_params)\n",
        "\n",
        "# Fit the random forest regression model with the best parameters\n",
        "tree_reg = RandomForestRegressor(**best_params)\n",
        "tree_reg.fit(X_train, y_train)\n",
        "\n",
        "# Make predictions on the test data\n",
        "y_pred = tree_reg.predict(X_test)\n",
        "\n",
        "# Calculate the mean squared error\n",
        "mse = mean_squared_error(y_test, y_pred)\n",
        "\n",
        "print(\"Mean squared error:\", mse)"
      ]
    },
    {
      "cell_type": "code",
      "execution_count": 165,
      "metadata": {
        "id": "uIhfr0nZ13Po"
      },
      "outputs": [],
      "source": [
        "import numpy as np\n",
        "from itertools import product\n",
        "from sklearn.metrics import mean_squared_error\n",
        "\n",
        "class GridSearchCV:\n",
        "    def __init__(self, model, params):\n",
        "        self.model = model\n",
        "        self.params = params\n",
        "\n",
        "    def fit(self, X, y):\n",
        "        best_params = None\n",
        "        best_score = np.inf\n",
        "        \n",
        "        for params in product(*self.params.values()):\n",
        "            model = self.model(*params)\n",
        "            model.fit(X, y)\n",
        "            y_pred = model.predict(X)\n",
        "            score = mean_squared_error(y, y_pred)\n",
        "            \n",
        "            if score < best_score:\n",
        "                best_score = score\n",
        "                best_params = params\n",
        "                \n",
        "        self.best_params_ = dict(zip(self.params.keys(), best_params))\n",
        "        self.best_score_ = best_score\n",
        "        self.best_model_ = self.model(*best_params)\n",
        "        self.best_model_.fit(X, y)\n",
        "\n",
        "        return self\n",
        "\n",
        "    def predict(self, X):\n",
        "        return self.best_model_.predict(X)\n"
      ]
    },
    {
      "cell_type": "code",
      "execution_count": 166,
      "metadata": {
        "colab": {
          "base_uri": "https://localhost:8080/"
        },
        "id": "kyIcMiC72IJh",
        "outputId": "de3bfac2-3348-4443-a726-066c70e09f63"
      },
      "outputs": [
        {
          "output_type": "stream",
          "name": "stdout",
          "text": [
            "Best parameters: {'n_estimators': 20, 'max_depth': 100, 'min_samples_split': 2}\n",
            "Best score: 8.383812976836102\n"
          ]
        }
      ],
      "source": [
        "params = { \"n_estimators\":[10, 20, 5],\n",
        "              \"max_depth\": [1, 5, 10, 20, 50, 100],\n",
        "              \"min_samples_split\": [2, 5, 10, 20,30,40]\n",
        "             }\n",
        "\n",
        "\n",
        "gscv = GridSearchCV(RandomForestRegressor, params)\n",
        "gscv.fit(X, y)\n",
        "\n",
        "print(\"Best parameters:\", gscv.best_params_)\n",
        "print(\"Best score:\", gscv.best_score_)\n"
      ]
    },
    {
      "cell_type": "code",
      "source": [],
      "metadata": {
        "id": "s9ldFibrFngV"
      },
      "execution_count": 166,
      "outputs": []
    }
  ],
  "metadata": {
    "colab": {
      "provenance": []
    },
    "kernelspec": {
      "display_name": "Python 3",
      "name": "python3"
    },
    "language_info": {
      "name": "python"
    }
  },
  "nbformat": 4,
  "nbformat_minor": 0
}
{
  "nbformat": 4,
  "nbformat_minor": 0,
  "metadata": {
    "colab": {
      "provenance": []
    },
    "kernelspec": {
      "name": "python3",
      "display_name": "Python 3"
    },
    "language_info": {
      "name": "python"
    }
  },
  "cells": [
    {
      "cell_type": "code",
      "execution_count": 310,
      "metadata": {
        "id": "IXD34BmipoXz"
      },
      "outputs": [],
      "source": [
        "import pandas as pd          \n",
        "import numpy as np \n",
        "import seaborn as sns # For mathematical calculations\n",
        "import matplotlib.pyplot as plt  # For plotting graphs"
      ]
    },
    {
      "cell_type": "code",
      "source": [
        "# Load the datasets\n",
        "df1 = pd.read_csv('google_play(1).csv')\n",
        "df2 = pd.read_csv('google_play(2).csv')"
      ],
      "metadata": {
        "id": "Y01rB0lfp4k-"
      },
      "execution_count": 311,
      "outputs": []
    },
    {
      "cell_type": "code",
      "source": [
        "df1.head()"
      ],
      "metadata": {
        "colab": {
          "base_uri": "https://localhost:8080/",
          "height": 206
        },
        "id": "STvP53W2rV1v",
        "outputId": "46f54020-c8c8-4c10-a1ae-8f1e0a4e8d74"
      },
      "execution_count": 312,
      "outputs": [
        {
          "output_type": "execute_result",
          "data": {
            "text/plain": [
              "   id Reviews Price Content Rating                     Genres  \\\n",
              "0   1     159     0       Everyone               Art & Design   \n",
              "1   2     967     0       Everyone  Art & Design;Pretend Play   \n",
              "2   3   87510     0       Everyone               Art & Design   \n",
              "3   4  215644     0           Teen                        NaN   \n",
              "4   5     967     0       Everyone                        NaN   \n",
              "\n",
              "       Last Updated         Current Ver   Android Ver  \n",
              "0   January 7, 2018               1.0.0  4.0.3 and up  \n",
              "1  January 15, 2018               2.0.0  4.0.3 and up  \n",
              "2    August 1, 2018               1.2.4  4.0.3 and up  \n",
              "3      June 8, 2018  Varies with device    4.2 and up  \n",
              "4     June 20, 2018                 1.1    4.4 and up  "
            ],
            "text/html": [
              "\n",
              "  <div id=\"df-bcab03b8-2135-4c44-bb8b-2949e93c8ac5\">\n",
              "    <div class=\"colab-df-container\">\n",
              "      <div>\n",
              "<style scoped>\n",
              "    .dataframe tbody tr th:only-of-type {\n",
              "        vertical-align: middle;\n",
              "    }\n",
              "\n",
              "    .dataframe tbody tr th {\n",
              "        vertical-align: top;\n",
              "    }\n",
              "\n",
              "    .dataframe thead th {\n",
              "        text-align: right;\n",
              "    }\n",
              "</style>\n",
              "<table border=\"1\" class=\"dataframe\">\n",
              "  <thead>\n",
              "    <tr style=\"text-align: right;\">\n",
              "      <th></th>\n",
              "      <th>id</th>\n",
              "      <th>Reviews</th>\n",
              "      <th>Price</th>\n",
              "      <th>Content Rating</th>\n",
              "      <th>Genres</th>\n",
              "      <th>Last Updated</th>\n",
              "      <th>Current Ver</th>\n",
              "      <th>Android Ver</th>\n",
              "    </tr>\n",
              "  </thead>\n",
              "  <tbody>\n",
              "    <tr>\n",
              "      <th>0</th>\n",
              "      <td>1</td>\n",
              "      <td>159</td>\n",
              "      <td>0</td>\n",
              "      <td>Everyone</td>\n",
              "      <td>Art &amp; Design</td>\n",
              "      <td>January 7, 2018</td>\n",
              "      <td>1.0.0</td>\n",
              "      <td>4.0.3 and up</td>\n",
              "    </tr>\n",
              "    <tr>\n",
              "      <th>1</th>\n",
              "      <td>2</td>\n",
              "      <td>967</td>\n",
              "      <td>0</td>\n",
              "      <td>Everyone</td>\n",
              "      <td>Art &amp; Design;Pretend Play</td>\n",
              "      <td>January 15, 2018</td>\n",
              "      <td>2.0.0</td>\n",
              "      <td>4.0.3 and up</td>\n",
              "    </tr>\n",
              "    <tr>\n",
              "      <th>2</th>\n",
              "      <td>3</td>\n",
              "      <td>87510</td>\n",
              "      <td>0</td>\n",
              "      <td>Everyone</td>\n",
              "      <td>Art &amp; Design</td>\n",
              "      <td>August 1, 2018</td>\n",
              "      <td>1.2.4</td>\n",
              "      <td>4.0.3 and up</td>\n",
              "    </tr>\n",
              "    <tr>\n",
              "      <th>3</th>\n",
              "      <td>4</td>\n",
              "      <td>215644</td>\n",
              "      <td>0</td>\n",
              "      <td>Teen</td>\n",
              "      <td>NaN</td>\n",
              "      <td>June 8, 2018</td>\n",
              "      <td>Varies with device</td>\n",
              "      <td>4.2 and up</td>\n",
              "    </tr>\n",
              "    <tr>\n",
              "      <th>4</th>\n",
              "      <td>5</td>\n",
              "      <td>967</td>\n",
              "      <td>0</td>\n",
              "      <td>Everyone</td>\n",
              "      <td>NaN</td>\n",
              "      <td>June 20, 2018</td>\n",
              "      <td>1.1</td>\n",
              "      <td>4.4 and up</td>\n",
              "    </tr>\n",
              "  </tbody>\n",
              "</table>\n",
              "</div>\n",
              "      <button class=\"colab-df-convert\" onclick=\"convertToInteractive('df-bcab03b8-2135-4c44-bb8b-2949e93c8ac5')\"\n",
              "              title=\"Convert this dataframe to an interactive table.\"\n",
              "              style=\"display:none;\">\n",
              "        \n",
              "  <svg xmlns=\"http://www.w3.org/2000/svg\" height=\"24px\"viewBox=\"0 0 24 24\"\n",
              "       width=\"24px\">\n",
              "    <path d=\"M0 0h24v24H0V0z\" fill=\"none\"/>\n",
              "    <path d=\"M18.56 5.44l.94 2.06.94-2.06 2.06-.94-2.06-.94-.94-2.06-.94 2.06-2.06.94zm-11 1L8.5 8.5l.94-2.06 2.06-.94-2.06-.94L8.5 2.5l-.94 2.06-2.06.94zm10 10l.94 2.06.94-2.06 2.06-.94-2.06-.94-.94-2.06-.94 2.06-2.06.94z\"/><path d=\"M17.41 7.96l-1.37-1.37c-.4-.4-.92-.59-1.43-.59-.52 0-1.04.2-1.43.59L10.3 9.45l-7.72 7.72c-.78.78-.78 2.05 0 2.83L4 21.41c.39.39.9.59 1.41.59.51 0 1.02-.2 1.41-.59l7.78-7.78 2.81-2.81c.8-.78.8-2.07 0-2.86zM5.41 20L4 18.59l7.72-7.72 1.47 1.35L5.41 20z\"/>\n",
              "  </svg>\n",
              "      </button>\n",
              "      \n",
              "  <style>\n",
              "    .colab-df-container {\n",
              "      display:flex;\n",
              "      flex-wrap:wrap;\n",
              "      gap: 12px;\n",
              "    }\n",
              "\n",
              "    .colab-df-convert {\n",
              "      background-color: #E8F0FE;\n",
              "      border: none;\n",
              "      border-radius: 50%;\n",
              "      cursor: pointer;\n",
              "      display: none;\n",
              "      fill: #1967D2;\n",
              "      height: 32px;\n",
              "      padding: 0 0 0 0;\n",
              "      width: 32px;\n",
              "    }\n",
              "\n",
              "    .colab-df-convert:hover {\n",
              "      background-color: #E2EBFA;\n",
              "      box-shadow: 0px 1px 2px rgba(60, 64, 67, 0.3), 0px 1px 3px 1px rgba(60, 64, 67, 0.15);\n",
              "      fill: #174EA6;\n",
              "    }\n",
              "\n",
              "    [theme=dark] .colab-df-convert {\n",
              "      background-color: #3B4455;\n",
              "      fill: #D2E3FC;\n",
              "    }\n",
              "\n",
              "    [theme=dark] .colab-df-convert:hover {\n",
              "      background-color: #434B5C;\n",
              "      box-shadow: 0px 1px 3px 1px rgba(0, 0, 0, 0.15);\n",
              "      filter: drop-shadow(0px 1px 2px rgba(0, 0, 0, 0.3));\n",
              "      fill: #FFFFFF;\n",
              "    }\n",
              "  </style>\n",
              "\n",
              "      <script>\n",
              "        const buttonEl =\n",
              "          document.querySelector('#df-bcab03b8-2135-4c44-bb8b-2949e93c8ac5 button.colab-df-convert');\n",
              "        buttonEl.style.display =\n",
              "          google.colab.kernel.accessAllowed ? 'block' : 'none';\n",
              "\n",
              "        async function convertToInteractive(key) {\n",
              "          const element = document.querySelector('#df-bcab03b8-2135-4c44-bb8b-2949e93c8ac5');\n",
              "          const dataTable =\n",
              "            await google.colab.kernel.invokeFunction('convertToInteractive',\n",
              "                                                     [key], {});\n",
              "          if (!dataTable) return;\n",
              "\n",
              "          const docLinkHtml = 'Like what you see? Visit the ' +\n",
              "            '<a target=\"_blank\" href=https://colab.research.google.com/notebooks/data_table.ipynb>data table notebook</a>'\n",
              "            + ' to learn more about interactive tables.';\n",
              "          element.innerHTML = '';\n",
              "          dataTable['output_type'] = 'display_data';\n",
              "          await google.colab.output.renderOutput(dataTable, element);\n",
              "          const docLink = document.createElement('div');\n",
              "          docLink.innerHTML = docLinkHtml;\n",
              "          element.appendChild(docLink);\n",
              "        }\n",
              "      </script>\n",
              "    </div>\n",
              "  </div>\n",
              "  "
            ]
          },
          "metadata": {},
          "execution_count": 312
        }
      ]
    },
    {
      "cell_type": "code",
      "source": [
        "df2.head()"
      ],
      "metadata": {
        "colab": {
          "base_uri": "https://localhost:8080/",
          "height": 206
        },
        "id": "0LeTx14DrYb2",
        "outputId": "ac7ce6a5-281e-4513-96ec-cf0ed0111b66"
      },
      "execution_count": 313,
      "outputs": [
        {
          "output_type": "execute_result",
          "data": {
            "text/plain": [
              "   id                                                App        Category  \\\n",
              "0   1     Photo Editor & Candy Camera & Grid & ScrapBook  ART_AND_DESIGN   \n",
              "1   2                                Coloring book moana  ART_AND_DESIGN   \n",
              "2   3  U Launcher Lite – FREE Live Cool Themes, Hide ...  ART_AND_DESIGN   \n",
              "3   4                              Sketch - Draw & Paint  ART_AND_DESIGN   \n",
              "4   5              Pixel Draw - Number Art Coloring Book  ART_AND_DESIGN   \n",
              "\n",
              "  Rating Reviews  Size     Installs  Type  \n",
              "0    4.1     159   NaN      10,000+   NaN  \n",
              "1    3.9     967   NaN     500,000+  Free  \n",
              "2    4.7   87510  8.7M   5,000,000+   NaN  \n",
              "3    4.5  215644   25M  50,000,000+  Free  \n",
              "4    4.3     967   NaN     100,000+  Free  "
            ],
            "text/html": [
              "\n",
              "  <div id=\"df-5d83a836-014d-4ad6-b2c9-400c9c09d415\">\n",
              "    <div class=\"colab-df-container\">\n",
              "      <div>\n",
              "<style scoped>\n",
              "    .dataframe tbody tr th:only-of-type {\n",
              "        vertical-align: middle;\n",
              "    }\n",
              "\n",
              "    .dataframe tbody tr th {\n",
              "        vertical-align: top;\n",
              "    }\n",
              "\n",
              "    .dataframe thead th {\n",
              "        text-align: right;\n",
              "    }\n",
              "</style>\n",
              "<table border=\"1\" class=\"dataframe\">\n",
              "  <thead>\n",
              "    <tr style=\"text-align: right;\">\n",
              "      <th></th>\n",
              "      <th>id</th>\n",
              "      <th>App</th>\n",
              "      <th>Category</th>\n",
              "      <th>Rating</th>\n",
              "      <th>Reviews</th>\n",
              "      <th>Size</th>\n",
              "      <th>Installs</th>\n",
              "      <th>Type</th>\n",
              "    </tr>\n",
              "  </thead>\n",
              "  <tbody>\n",
              "    <tr>\n",
              "      <th>0</th>\n",
              "      <td>1</td>\n",
              "      <td>Photo Editor &amp; Candy Camera &amp; Grid &amp; ScrapBook</td>\n",
              "      <td>ART_AND_DESIGN</td>\n",
              "      <td>4.1</td>\n",
              "      <td>159</td>\n",
              "      <td>NaN</td>\n",
              "      <td>10,000+</td>\n",
              "      <td>NaN</td>\n",
              "    </tr>\n",
              "    <tr>\n",
              "      <th>1</th>\n",
              "      <td>2</td>\n",
              "      <td>Coloring book moana</td>\n",
              "      <td>ART_AND_DESIGN</td>\n",
              "      <td>3.9</td>\n",
              "      <td>967</td>\n",
              "      <td>NaN</td>\n",
              "      <td>500,000+</td>\n",
              "      <td>Free</td>\n",
              "    </tr>\n",
              "    <tr>\n",
              "      <th>2</th>\n",
              "      <td>3</td>\n",
              "      <td>U Launcher Lite – FREE Live Cool Themes, Hide ...</td>\n",
              "      <td>ART_AND_DESIGN</td>\n",
              "      <td>4.7</td>\n",
              "      <td>87510</td>\n",
              "      <td>8.7M</td>\n",
              "      <td>5,000,000+</td>\n",
              "      <td>NaN</td>\n",
              "    </tr>\n",
              "    <tr>\n",
              "      <th>3</th>\n",
              "      <td>4</td>\n",
              "      <td>Sketch - Draw &amp; Paint</td>\n",
              "      <td>ART_AND_DESIGN</td>\n",
              "      <td>4.5</td>\n",
              "      <td>215644</td>\n",
              "      <td>25M</td>\n",
              "      <td>50,000,000+</td>\n",
              "      <td>Free</td>\n",
              "    </tr>\n",
              "    <tr>\n",
              "      <th>4</th>\n",
              "      <td>5</td>\n",
              "      <td>Pixel Draw - Number Art Coloring Book</td>\n",
              "      <td>ART_AND_DESIGN</td>\n",
              "      <td>4.3</td>\n",
              "      <td>967</td>\n",
              "      <td>NaN</td>\n",
              "      <td>100,000+</td>\n",
              "      <td>Free</td>\n",
              "    </tr>\n",
              "  </tbody>\n",
              "</table>\n",
              "</div>\n",
              "      <button class=\"colab-df-convert\" onclick=\"convertToInteractive('df-5d83a836-014d-4ad6-b2c9-400c9c09d415')\"\n",
              "              title=\"Convert this dataframe to an interactive table.\"\n",
              "              style=\"display:none;\">\n",
              "        \n",
              "  <svg xmlns=\"http://www.w3.org/2000/svg\" height=\"24px\"viewBox=\"0 0 24 24\"\n",
              "       width=\"24px\">\n",
              "    <path d=\"M0 0h24v24H0V0z\" fill=\"none\"/>\n",
              "    <path d=\"M18.56 5.44l.94 2.06.94-2.06 2.06-.94-2.06-.94-.94-2.06-.94 2.06-2.06.94zm-11 1L8.5 8.5l.94-2.06 2.06-.94-2.06-.94L8.5 2.5l-.94 2.06-2.06.94zm10 10l.94 2.06.94-2.06 2.06-.94-2.06-.94-.94-2.06-.94 2.06-2.06.94z\"/><path d=\"M17.41 7.96l-1.37-1.37c-.4-.4-.92-.59-1.43-.59-.52 0-1.04.2-1.43.59L10.3 9.45l-7.72 7.72c-.78.78-.78 2.05 0 2.83L4 21.41c.39.39.9.59 1.41.59.51 0 1.02-.2 1.41-.59l7.78-7.78 2.81-2.81c.8-.78.8-2.07 0-2.86zM5.41 20L4 18.59l7.72-7.72 1.47 1.35L5.41 20z\"/>\n",
              "  </svg>\n",
              "      </button>\n",
              "      \n",
              "  <style>\n",
              "    .colab-df-container {\n",
              "      display:flex;\n",
              "      flex-wrap:wrap;\n",
              "      gap: 12px;\n",
              "    }\n",
              "\n",
              "    .colab-df-convert {\n",
              "      background-color: #E8F0FE;\n",
              "      border: none;\n",
              "      border-radius: 50%;\n",
              "      cursor: pointer;\n",
              "      display: none;\n",
              "      fill: #1967D2;\n",
              "      height: 32px;\n",
              "      padding: 0 0 0 0;\n",
              "      width: 32px;\n",
              "    }\n",
              "\n",
              "    .colab-df-convert:hover {\n",
              "      background-color: #E2EBFA;\n",
              "      box-shadow: 0px 1px 2px rgba(60, 64, 67, 0.3), 0px 1px 3px 1px rgba(60, 64, 67, 0.15);\n",
              "      fill: #174EA6;\n",
              "    }\n",
              "\n",
              "    [theme=dark] .colab-df-convert {\n",
              "      background-color: #3B4455;\n",
              "      fill: #D2E3FC;\n",
              "    }\n",
              "\n",
              "    [theme=dark] .colab-df-convert:hover {\n",
              "      background-color: #434B5C;\n",
              "      box-shadow: 0px 1px 3px 1px rgba(0, 0, 0, 0.15);\n",
              "      filter: drop-shadow(0px 1px 2px rgba(0, 0, 0, 0.3));\n",
              "      fill: #FFFFFF;\n",
              "    }\n",
              "  </style>\n",
              "\n",
              "      <script>\n",
              "        const buttonEl =\n",
              "          document.querySelector('#df-5d83a836-014d-4ad6-b2c9-400c9c09d415 button.colab-df-convert');\n",
              "        buttonEl.style.display =\n",
              "          google.colab.kernel.accessAllowed ? 'block' : 'none';\n",
              "\n",
              "        async function convertToInteractive(key) {\n",
              "          const element = document.querySelector('#df-5d83a836-014d-4ad6-b2c9-400c9c09d415');\n",
              "          const dataTable =\n",
              "            await google.colab.kernel.invokeFunction('convertToInteractive',\n",
              "                                                     [key], {});\n",
              "          if (!dataTable) return;\n",
              "\n",
              "          const docLinkHtml = 'Like what you see? Visit the ' +\n",
              "            '<a target=\"_blank\" href=https://colab.research.google.com/notebooks/data_table.ipynb>data table notebook</a>'\n",
              "            + ' to learn more about interactive tables.';\n",
              "          element.innerHTML = '';\n",
              "          dataTable['output_type'] = 'display_data';\n",
              "          await google.colab.output.renderOutput(dataTable, element);\n",
              "          const docLink = document.createElement('div');\n",
              "          docLink.innerHTML = docLinkHtml;\n",
              "          element.appendChild(docLink);\n",
              "        }\n",
              "      </script>\n",
              "    </div>\n",
              "  </div>\n",
              "  "
            ]
          },
          "metadata": {},
          "execution_count": 313
        }
      ]
    },
    {
      "cell_type": "code",
      "source": [
        "common_column = 'id'\n",
        "\n",
        "# Merge the two datasets on a common column\n",
        "df = pd.merge(df1, df2, on=common_column)\n",
        "\n",
        "# Print the merged dataset\n",
        "print(df)"
      ],
      "metadata": {
        "colab": {
          "base_uri": "https://localhost:8080/"
        },
        "id": "THmuvvF-qKME",
        "outputId": "4b85f79b-e54c-478e-9e27-e37ecae4dfa7"
      },
      "execution_count": 314,
      "outputs": [
        {
          "output_type": "stream",
          "name": "stdout",
          "text": [
            "          id Reviews_x Price Content Rating                     Genres  \\\n",
            "0          1       159     0       Everyone               Art & Design   \n",
            "1          2       967     0       Everyone  Art & Design;Pretend Play   \n",
            "2          3     87510     0       Everyone               Art & Design   \n",
            "3          4    215644     0           Teen                        NaN   \n",
            "4          5       967     0       Everyone                        NaN   \n",
            "...      ...       ...   ...            ...                        ...   \n",
            "10836  10837        38     0       Everyone                        NaN   \n",
            "10837  10838         4     0       Everyone                  Education   \n",
            "10838  10839         3     0       Everyone                    Medical   \n",
            "10839  10840       114     0     Mature 17+                        NaN   \n",
            "10840  10841    398307     0       Everyone                  Lifestyle   \n",
            "\n",
            "           Last Updated         Current Ver         Android Ver  \\\n",
            "0       January 7, 2018               1.0.0        4.0.3 and up   \n",
            "1      January 15, 2018               2.0.0        4.0.3 and up   \n",
            "2        August 1, 2018               1.2.4        4.0.3 and up   \n",
            "3          June 8, 2018  Varies with device          4.2 and up   \n",
            "4         June 20, 2018                 1.1          4.4 and up   \n",
            "...                 ...                 ...                 ...   \n",
            "10836     July 25, 2017                1.48          4.1 and up   \n",
            "10837      July 6, 2018                 1.0          4.1 and up   \n",
            "10838  January 20, 2017                 1.0          2.2 and up   \n",
            "10839  January 19, 2015  Varies with device  Varies with device   \n",
            "10840     July 25, 2018  Varies with device  Varies with device   \n",
            "\n",
            "                                                     App             Category  \\\n",
            "0         Photo Editor & Candy Camera & Grid & ScrapBook       ART_AND_DESIGN   \n",
            "1                                    Coloring book moana       ART_AND_DESIGN   \n",
            "2      U Launcher Lite – FREE Live Cool Themes, Hide ...       ART_AND_DESIGN   \n",
            "3                                  Sketch - Draw & Paint       ART_AND_DESIGN   \n",
            "4                  Pixel Draw - Number Art Coloring Book       ART_AND_DESIGN   \n",
            "...                                                  ...                  ...   \n",
            "10836                                   Sya9a Maroc - FR               FAMILY   \n",
            "10837                   Fr. Mike Schmitz Audio Teachings               FAMILY   \n",
            "10838                             Parkinson Exercices FR              MEDICAL   \n",
            "10839                      The SCP Foundation DB fr nn5n  BOOKS_AND_REFERENCE   \n",
            "10840      iHoroscope - 2018 Daily Horoscope & Astrology            LIFESTYLE   \n",
            "\n",
            "      Rating Reviews_y                Size     Installs  Type  \n",
            "0        4.1       159                 NaN      10,000+   NaN  \n",
            "1        3.9       967                 NaN     500,000+  Free  \n",
            "2        4.7     87510                8.7M   5,000,000+   NaN  \n",
            "3        4.5    215644                 25M  50,000,000+  Free  \n",
            "4        4.3       967                 NaN     100,000+  Free  \n",
            "...      ...       ...                 ...          ...   ...  \n",
            "10836    4.5        38                 NaN       5,000+   NaN  \n",
            "10837    5.0         4                 NaN         100+   NaN  \n",
            "10838    NaN         3                9.5M       1,000+  Free  \n",
            "10839    4.5       114  Varies with device       1,000+  Free  \n",
            "10840    4.5    398307                 19M  10,000,000+  Free  \n",
            "\n",
            "[10841 rows x 15 columns]\n"
          ]
        }
      ]
    },
    {
      "cell_type": "code",
      "source": [
        "df.head()"
      ],
      "metadata": {
        "colab": {
          "base_uri": "https://localhost:8080/",
          "height": 617
        },
        "id": "JXv9Ju70rFwJ",
        "outputId": "0805ca8e-6044-484f-8496-2affcba8a1c1"
      },
      "execution_count": 315,
      "outputs": [
        {
          "output_type": "execute_result",
          "data": {
            "text/plain": [
              "   id Reviews_x Price Content Rating                     Genres  \\\n",
              "0   1       159     0       Everyone               Art & Design   \n",
              "1   2       967     0       Everyone  Art & Design;Pretend Play   \n",
              "2   3     87510     0       Everyone               Art & Design   \n",
              "3   4    215644     0           Teen                        NaN   \n",
              "4   5       967     0       Everyone                        NaN   \n",
              "\n",
              "       Last Updated         Current Ver   Android Ver  \\\n",
              "0   January 7, 2018               1.0.0  4.0.3 and up   \n",
              "1  January 15, 2018               2.0.0  4.0.3 and up   \n",
              "2    August 1, 2018               1.2.4  4.0.3 and up   \n",
              "3      June 8, 2018  Varies with device    4.2 and up   \n",
              "4     June 20, 2018                 1.1    4.4 and up   \n",
              "\n",
              "                                                 App        Category Rating  \\\n",
              "0     Photo Editor & Candy Camera & Grid & ScrapBook  ART_AND_DESIGN    4.1   \n",
              "1                                Coloring book moana  ART_AND_DESIGN    3.9   \n",
              "2  U Launcher Lite – FREE Live Cool Themes, Hide ...  ART_AND_DESIGN    4.7   \n",
              "3                              Sketch - Draw & Paint  ART_AND_DESIGN    4.5   \n",
              "4              Pixel Draw - Number Art Coloring Book  ART_AND_DESIGN    4.3   \n",
              "\n",
              "  Reviews_y  Size     Installs  Type  \n",
              "0       159   NaN      10,000+   NaN  \n",
              "1       967   NaN     500,000+  Free  \n",
              "2     87510  8.7M   5,000,000+   NaN  \n",
              "3    215644   25M  50,000,000+  Free  \n",
              "4       967   NaN     100,000+  Free  "
            ],
            "text/html": [
              "\n",
              "  <div id=\"df-326328a4-9dbd-4730-9ec5-6e7db59f26ba\">\n",
              "    <div class=\"colab-df-container\">\n",
              "      <div>\n",
              "<style scoped>\n",
              "    .dataframe tbody tr th:only-of-type {\n",
              "        vertical-align: middle;\n",
              "    }\n",
              "\n",
              "    .dataframe tbody tr th {\n",
              "        vertical-align: top;\n",
              "    }\n",
              "\n",
              "    .dataframe thead th {\n",
              "        text-align: right;\n",
              "    }\n",
              "</style>\n",
              "<table border=\"1\" class=\"dataframe\">\n",
              "  <thead>\n",
              "    <tr style=\"text-align: right;\">\n",
              "      <th></th>\n",
              "      <th>id</th>\n",
              "      <th>Reviews_x</th>\n",
              "      <th>Price</th>\n",
              "      <th>Content Rating</th>\n",
              "      <th>Genres</th>\n",
              "      <th>Last Updated</th>\n",
              "      <th>Current Ver</th>\n",
              "      <th>Android Ver</th>\n",
              "      <th>App</th>\n",
              "      <th>Category</th>\n",
              "      <th>Rating</th>\n",
              "      <th>Reviews_y</th>\n",
              "      <th>Size</th>\n",
              "      <th>Installs</th>\n",
              "      <th>Type</th>\n",
              "    </tr>\n",
              "  </thead>\n",
              "  <tbody>\n",
              "    <tr>\n",
              "      <th>0</th>\n",
              "      <td>1</td>\n",
              "      <td>159</td>\n",
              "      <td>0</td>\n",
              "      <td>Everyone</td>\n",
              "      <td>Art &amp; Design</td>\n",
              "      <td>January 7, 2018</td>\n",
              "      <td>1.0.0</td>\n",
              "      <td>4.0.3 and up</td>\n",
              "      <td>Photo Editor &amp; Candy Camera &amp; Grid &amp; ScrapBook</td>\n",
              "      <td>ART_AND_DESIGN</td>\n",
              "      <td>4.1</td>\n",
              "      <td>159</td>\n",
              "      <td>NaN</td>\n",
              "      <td>10,000+</td>\n",
              "      <td>NaN</td>\n",
              "    </tr>\n",
              "    <tr>\n",
              "      <th>1</th>\n",
              "      <td>2</td>\n",
              "      <td>967</td>\n",
              "      <td>0</td>\n",
              "      <td>Everyone</td>\n",
              "      <td>Art &amp; Design;Pretend Play</td>\n",
              "      <td>January 15, 2018</td>\n",
              "      <td>2.0.0</td>\n",
              "      <td>4.0.3 and up</td>\n",
              "      <td>Coloring book moana</td>\n",
              "      <td>ART_AND_DESIGN</td>\n",
              "      <td>3.9</td>\n",
              "      <td>967</td>\n",
              "      <td>NaN</td>\n",
              "      <td>500,000+</td>\n",
              "      <td>Free</td>\n",
              "    </tr>\n",
              "    <tr>\n",
              "      <th>2</th>\n",
              "      <td>3</td>\n",
              "      <td>87510</td>\n",
              "      <td>0</td>\n",
              "      <td>Everyone</td>\n",
              "      <td>Art &amp; Design</td>\n",
              "      <td>August 1, 2018</td>\n",
              "      <td>1.2.4</td>\n",
              "      <td>4.0.3 and up</td>\n",
              "      <td>U Launcher Lite – FREE Live Cool Themes, Hide ...</td>\n",
              "      <td>ART_AND_DESIGN</td>\n",
              "      <td>4.7</td>\n",
              "      <td>87510</td>\n",
              "      <td>8.7M</td>\n",
              "      <td>5,000,000+</td>\n",
              "      <td>NaN</td>\n",
              "    </tr>\n",
              "    <tr>\n",
              "      <th>3</th>\n",
              "      <td>4</td>\n",
              "      <td>215644</td>\n",
              "      <td>0</td>\n",
              "      <td>Teen</td>\n",
              "      <td>NaN</td>\n",
              "      <td>June 8, 2018</td>\n",
              "      <td>Varies with device</td>\n",
              "      <td>4.2 and up</td>\n",
              "      <td>Sketch - Draw &amp; Paint</td>\n",
              "      <td>ART_AND_DESIGN</td>\n",
              "      <td>4.5</td>\n",
              "      <td>215644</td>\n",
              "      <td>25M</td>\n",
              "      <td>50,000,000+</td>\n",
              "      <td>Free</td>\n",
              "    </tr>\n",
              "    <tr>\n",
              "      <th>4</th>\n",
              "      <td>5</td>\n",
              "      <td>967</td>\n",
              "      <td>0</td>\n",
              "      <td>Everyone</td>\n",
              "      <td>NaN</td>\n",
              "      <td>June 20, 2018</td>\n",
              "      <td>1.1</td>\n",
              "      <td>4.4 and up</td>\n",
              "      <td>Pixel Draw - Number Art Coloring Book</td>\n",
              "      <td>ART_AND_DESIGN</td>\n",
              "      <td>4.3</td>\n",
              "      <td>967</td>\n",
              "      <td>NaN</td>\n",
              "      <td>100,000+</td>\n",
              "      <td>Free</td>\n",
              "    </tr>\n",
              "  </tbody>\n",
              "</table>\n",
              "</div>\n",
              "      <button class=\"colab-df-convert\" onclick=\"convertToInteractive('df-326328a4-9dbd-4730-9ec5-6e7db59f26ba')\"\n",
              "              title=\"Convert this dataframe to an interactive table.\"\n",
              "              style=\"display:none;\">\n",
              "        \n",
              "  <svg xmlns=\"http://www.w3.org/2000/svg\" height=\"24px\"viewBox=\"0 0 24 24\"\n",
              "       width=\"24px\">\n",
              "    <path d=\"M0 0h24v24H0V0z\" fill=\"none\"/>\n",
              "    <path d=\"M18.56 5.44l.94 2.06.94-2.06 2.06-.94-2.06-.94-.94-2.06-.94 2.06-2.06.94zm-11 1L8.5 8.5l.94-2.06 2.06-.94-2.06-.94L8.5 2.5l-.94 2.06-2.06.94zm10 10l.94 2.06.94-2.06 2.06-.94-2.06-.94-.94-2.06-.94 2.06-2.06.94z\"/><path d=\"M17.41 7.96l-1.37-1.37c-.4-.4-.92-.59-1.43-.59-.52 0-1.04.2-1.43.59L10.3 9.45l-7.72 7.72c-.78.78-.78 2.05 0 2.83L4 21.41c.39.39.9.59 1.41.59.51 0 1.02-.2 1.41-.59l7.78-7.78 2.81-2.81c.8-.78.8-2.07 0-2.86zM5.41 20L4 18.59l7.72-7.72 1.47 1.35L5.41 20z\"/>\n",
              "  </svg>\n",
              "      </button>\n",
              "      \n",
              "  <style>\n",
              "    .colab-df-container {\n",
              "      display:flex;\n",
              "      flex-wrap:wrap;\n",
              "      gap: 12px;\n",
              "    }\n",
              "\n",
              "    .colab-df-convert {\n",
              "      background-color: #E8F0FE;\n",
              "      border: none;\n",
              "      border-radius: 50%;\n",
              "      cursor: pointer;\n",
              "      display: none;\n",
              "      fill: #1967D2;\n",
              "      height: 32px;\n",
              "      padding: 0 0 0 0;\n",
              "      width: 32px;\n",
              "    }\n",
              "\n",
              "    .colab-df-convert:hover {\n",
              "      background-color: #E2EBFA;\n",
              "      box-shadow: 0px 1px 2px rgba(60, 64, 67, 0.3), 0px 1px 3px 1px rgba(60, 64, 67, 0.15);\n",
              "      fill: #174EA6;\n",
              "    }\n",
              "\n",
              "    [theme=dark] .colab-df-convert {\n",
              "      background-color: #3B4455;\n",
              "      fill: #D2E3FC;\n",
              "    }\n",
              "\n",
              "    [theme=dark] .colab-df-convert:hover {\n",
              "      background-color: #434B5C;\n",
              "      box-shadow: 0px 1px 3px 1px rgba(0, 0, 0, 0.15);\n",
              "      filter: drop-shadow(0px 1px 2px rgba(0, 0, 0, 0.3));\n",
              "      fill: #FFFFFF;\n",
              "    }\n",
              "  </style>\n",
              "\n",
              "      <script>\n",
              "        const buttonEl =\n",
              "          document.querySelector('#df-326328a4-9dbd-4730-9ec5-6e7db59f26ba button.colab-df-convert');\n",
              "        buttonEl.style.display =\n",
              "          google.colab.kernel.accessAllowed ? 'block' : 'none';\n",
              "\n",
              "        async function convertToInteractive(key) {\n",
              "          const element = document.querySelector('#df-326328a4-9dbd-4730-9ec5-6e7db59f26ba');\n",
              "          const dataTable =\n",
              "            await google.colab.kernel.invokeFunction('convertToInteractive',\n",
              "                                                     [key], {});\n",
              "          if (!dataTable) return;\n",
              "\n",
              "          const docLinkHtml = 'Like what you see? Visit the ' +\n",
              "            '<a target=\"_blank\" href=https://colab.research.google.com/notebooks/data_table.ipynb>data table notebook</a>'\n",
              "            + ' to learn more about interactive tables.';\n",
              "          element.innerHTML = '';\n",
              "          dataTable['output_type'] = 'display_data';\n",
              "          await google.colab.output.renderOutput(dataTable, element);\n",
              "          const docLink = document.createElement('div');\n",
              "          docLink.innerHTML = docLinkHtml;\n",
              "          element.appendChild(docLink);\n",
              "        }\n",
              "      </script>\n",
              "    </div>\n",
              "  </div>\n",
              "  "
            ]
          },
          "metadata": {},
          "execution_count": 315
        }
      ]
    },
    {
      "cell_type": "code",
      "source": [
        "#Check the shape of dataframe\n",
        "df.shape"
      ],
      "metadata": {
        "colab": {
          "base_uri": "https://localhost:8080/"
        },
        "id": "OZCL272Gszwa",
        "outputId": "d5421618-57d1-4ac0-ff80-0a1ac05c426c"
      },
      "execution_count": 316,
      "outputs": [
        {
          "output_type": "execute_result",
          "data": {
            "text/plain": [
              "(10841, 15)"
            ]
          },
          "metadata": {},
          "execution_count": 316
        }
      ]
    },
    {
      "cell_type": "code",
      "source": [
        "# Viewing the data statistics\n",
        "df.describe(include='all')"
      ],
      "metadata": {
        "colab": {
          "base_uri": "https://localhost:8080/",
          "height": 490
        },
        "id": "erdwuUyLzv_8",
        "outputId": "ee355f0b-cd81-4ff3-d05b-8f18e459a12c"
      },
      "execution_count": 317,
      "outputs": [
        {
          "output_type": "execute_result",
          "data": {
            "text/plain": [
              "                  id Reviews_x  Price Content Rating Genres    Last Updated  \\\n",
              "count   10841.000000     10841  10841          10840   7812           10841   \n",
              "unique           NaN      6002     93              6    115            1378   \n",
              "top              NaN         0      0       Everyone  Tools  August 3, 2018   \n",
              "freq             NaN       596  10040           8714    612             326   \n",
              "mean     5421.000000       NaN    NaN            NaN    NaN             NaN   \n",
              "std      3129.671468       NaN    NaN            NaN    NaN             NaN   \n",
              "min         1.000000       NaN    NaN            NaN    NaN             NaN   \n",
              "25%      2711.000000       NaN    NaN            NaN    NaN             NaN   \n",
              "50%      5421.000000       NaN    NaN            NaN    NaN             NaN   \n",
              "75%      8131.000000       NaN    NaN            NaN    NaN             NaN   \n",
              "max     10841.000000       NaN    NaN            NaN    NaN             NaN   \n",
              "\n",
              "               Current Ver Android Ver     App Category Rating Reviews_y  \\\n",
              "count                10833       10838   10841    10841   9454     10841   \n",
              "unique                2832          33    9660       34     41      6002   \n",
              "top     Varies with device  4.1 and up  ROBLOX   FAMILY    4.4         0   \n",
              "freq                  1459        2451       9     1972   1046       596   \n",
              "mean                   NaN         NaN     NaN      NaN    NaN       NaN   \n",
              "std                    NaN         NaN     NaN      NaN    NaN       NaN   \n",
              "min                    NaN         NaN     NaN      NaN    NaN       NaN   \n",
              "25%                    NaN         NaN     NaN      NaN    NaN       NaN   \n",
              "50%                    NaN         NaN     NaN      NaN    NaN       NaN   \n",
              "75%                    NaN         NaN     NaN      NaN    NaN       NaN   \n",
              "max                    NaN         NaN     NaN      NaN    NaN       NaN   \n",
              "\n",
              "                      Size    Installs  Type  \n",
              "count                 5595       10841  8810  \n",
              "unique                 325          22     3  \n",
              "top     Varies with device  1,000,000+  Free  \n",
              "freq                   906        1579  8139  \n",
              "mean                   NaN         NaN   NaN  \n",
              "std                    NaN         NaN   NaN  \n",
              "min                    NaN         NaN   NaN  \n",
              "25%                    NaN         NaN   NaN  \n",
              "50%                    NaN         NaN   NaN  \n",
              "75%                    NaN         NaN   NaN  \n",
              "max                    NaN         NaN   NaN  "
            ],
            "text/html": [
              "\n",
              "  <div id=\"df-7b6ba47f-a070-4db0-88ad-d60585084a9d\">\n",
              "    <div class=\"colab-df-container\">\n",
              "      <div>\n",
              "<style scoped>\n",
              "    .dataframe tbody tr th:only-of-type {\n",
              "        vertical-align: middle;\n",
              "    }\n",
              "\n",
              "    .dataframe tbody tr th {\n",
              "        vertical-align: top;\n",
              "    }\n",
              "\n",
              "    .dataframe thead th {\n",
              "        text-align: right;\n",
              "    }\n",
              "</style>\n",
              "<table border=\"1\" class=\"dataframe\">\n",
              "  <thead>\n",
              "    <tr style=\"text-align: right;\">\n",
              "      <th></th>\n",
              "      <th>id</th>\n",
              "      <th>Reviews_x</th>\n",
              "      <th>Price</th>\n",
              "      <th>Content Rating</th>\n",
              "      <th>Genres</th>\n",
              "      <th>Last Updated</th>\n",
              "      <th>Current Ver</th>\n",
              "      <th>Android Ver</th>\n",
              "      <th>App</th>\n",
              "      <th>Category</th>\n",
              "      <th>Rating</th>\n",
              "      <th>Reviews_y</th>\n",
              "      <th>Size</th>\n",
              "      <th>Installs</th>\n",
              "      <th>Type</th>\n",
              "    </tr>\n",
              "  </thead>\n",
              "  <tbody>\n",
              "    <tr>\n",
              "      <th>count</th>\n",
              "      <td>10841.000000</td>\n",
              "      <td>10841</td>\n",
              "      <td>10841</td>\n",
              "      <td>10840</td>\n",
              "      <td>7812</td>\n",
              "      <td>10841</td>\n",
              "      <td>10833</td>\n",
              "      <td>10838</td>\n",
              "      <td>10841</td>\n",
              "      <td>10841</td>\n",
              "      <td>9454</td>\n",
              "      <td>10841</td>\n",
              "      <td>5595</td>\n",
              "      <td>10841</td>\n",
              "      <td>8810</td>\n",
              "    </tr>\n",
              "    <tr>\n",
              "      <th>unique</th>\n",
              "      <td>NaN</td>\n",
              "      <td>6002</td>\n",
              "      <td>93</td>\n",
              "      <td>6</td>\n",
              "      <td>115</td>\n",
              "      <td>1378</td>\n",
              "      <td>2832</td>\n",
              "      <td>33</td>\n",
              "      <td>9660</td>\n",
              "      <td>34</td>\n",
              "      <td>41</td>\n",
              "      <td>6002</td>\n",
              "      <td>325</td>\n",
              "      <td>22</td>\n",
              "      <td>3</td>\n",
              "    </tr>\n",
              "    <tr>\n",
              "      <th>top</th>\n",
              "      <td>NaN</td>\n",
              "      <td>0</td>\n",
              "      <td>0</td>\n",
              "      <td>Everyone</td>\n",
              "      <td>Tools</td>\n",
              "      <td>August 3, 2018</td>\n",
              "      <td>Varies with device</td>\n",
              "      <td>4.1 and up</td>\n",
              "      <td>ROBLOX</td>\n",
              "      <td>FAMILY</td>\n",
              "      <td>4.4</td>\n",
              "      <td>0</td>\n",
              "      <td>Varies with device</td>\n",
              "      <td>1,000,000+</td>\n",
              "      <td>Free</td>\n",
              "    </tr>\n",
              "    <tr>\n",
              "      <th>freq</th>\n",
              "      <td>NaN</td>\n",
              "      <td>596</td>\n",
              "      <td>10040</td>\n",
              "      <td>8714</td>\n",
              "      <td>612</td>\n",
              "      <td>326</td>\n",
              "      <td>1459</td>\n",
              "      <td>2451</td>\n",
              "      <td>9</td>\n",
              "      <td>1972</td>\n",
              "      <td>1046</td>\n",
              "      <td>596</td>\n",
              "      <td>906</td>\n",
              "      <td>1579</td>\n",
              "      <td>8139</td>\n",
              "    </tr>\n",
              "    <tr>\n",
              "      <th>mean</th>\n",
              "      <td>5421.000000</td>\n",
              "      <td>NaN</td>\n",
              "      <td>NaN</td>\n",
              "      <td>NaN</td>\n",
              "      <td>NaN</td>\n",
              "      <td>NaN</td>\n",
              "      <td>NaN</td>\n",
              "      <td>NaN</td>\n",
              "      <td>NaN</td>\n",
              "      <td>NaN</td>\n",
              "      <td>NaN</td>\n",
              "      <td>NaN</td>\n",
              "      <td>NaN</td>\n",
              "      <td>NaN</td>\n",
              "      <td>NaN</td>\n",
              "    </tr>\n",
              "    <tr>\n",
              "      <th>std</th>\n",
              "      <td>3129.671468</td>\n",
              "      <td>NaN</td>\n",
              "      <td>NaN</td>\n",
              "      <td>NaN</td>\n",
              "      <td>NaN</td>\n",
              "      <td>NaN</td>\n",
              "      <td>NaN</td>\n",
              "      <td>NaN</td>\n",
              "      <td>NaN</td>\n",
              "      <td>NaN</td>\n",
              "      <td>NaN</td>\n",
              "      <td>NaN</td>\n",
              "      <td>NaN</td>\n",
              "      <td>NaN</td>\n",
              "      <td>NaN</td>\n",
              "    </tr>\n",
              "    <tr>\n",
              "      <th>min</th>\n",
              "      <td>1.000000</td>\n",
              "      <td>NaN</td>\n",
              "      <td>NaN</td>\n",
              "      <td>NaN</td>\n",
              "      <td>NaN</td>\n",
              "      <td>NaN</td>\n",
              "      <td>NaN</td>\n",
              "      <td>NaN</td>\n",
              "      <td>NaN</td>\n",
              "      <td>NaN</td>\n",
              "      <td>NaN</td>\n",
              "      <td>NaN</td>\n",
              "      <td>NaN</td>\n",
              "      <td>NaN</td>\n",
              "      <td>NaN</td>\n",
              "    </tr>\n",
              "    <tr>\n",
              "      <th>25%</th>\n",
              "      <td>2711.000000</td>\n",
              "      <td>NaN</td>\n",
              "      <td>NaN</td>\n",
              "      <td>NaN</td>\n",
              "      <td>NaN</td>\n",
              "      <td>NaN</td>\n",
              "      <td>NaN</td>\n",
              "      <td>NaN</td>\n",
              "      <td>NaN</td>\n",
              "      <td>NaN</td>\n",
              "      <td>NaN</td>\n",
              "      <td>NaN</td>\n",
              "      <td>NaN</td>\n",
              "      <td>NaN</td>\n",
              "      <td>NaN</td>\n",
              "    </tr>\n",
              "    <tr>\n",
              "      <th>50%</th>\n",
              "      <td>5421.000000</td>\n",
              "      <td>NaN</td>\n",
              "      <td>NaN</td>\n",
              "      <td>NaN</td>\n",
              "      <td>NaN</td>\n",
              "      <td>NaN</td>\n",
              "      <td>NaN</td>\n",
              "      <td>NaN</td>\n",
              "      <td>NaN</td>\n",
              "      <td>NaN</td>\n",
              "      <td>NaN</td>\n",
              "      <td>NaN</td>\n",
              "      <td>NaN</td>\n",
              "      <td>NaN</td>\n",
              "      <td>NaN</td>\n",
              "    </tr>\n",
              "    <tr>\n",
              "      <th>75%</th>\n",
              "      <td>8131.000000</td>\n",
              "      <td>NaN</td>\n",
              "      <td>NaN</td>\n",
              "      <td>NaN</td>\n",
              "      <td>NaN</td>\n",
              "      <td>NaN</td>\n",
              "      <td>NaN</td>\n",
              "      <td>NaN</td>\n",
              "      <td>NaN</td>\n",
              "      <td>NaN</td>\n",
              "      <td>NaN</td>\n",
              "      <td>NaN</td>\n",
              "      <td>NaN</td>\n",
              "      <td>NaN</td>\n",
              "      <td>NaN</td>\n",
              "    </tr>\n",
              "    <tr>\n",
              "      <th>max</th>\n",
              "      <td>10841.000000</td>\n",
              "      <td>NaN</td>\n",
              "      <td>NaN</td>\n",
              "      <td>NaN</td>\n",
              "      <td>NaN</td>\n",
              "      <td>NaN</td>\n",
              "      <td>NaN</td>\n",
              "      <td>NaN</td>\n",
              "      <td>NaN</td>\n",
              "      <td>NaN</td>\n",
              "      <td>NaN</td>\n",
              "      <td>NaN</td>\n",
              "      <td>NaN</td>\n",
              "      <td>NaN</td>\n",
              "      <td>NaN</td>\n",
              "    </tr>\n",
              "  </tbody>\n",
              "</table>\n",
              "</div>\n",
              "      <button class=\"colab-df-convert\" onclick=\"convertToInteractive('df-7b6ba47f-a070-4db0-88ad-d60585084a9d')\"\n",
              "              title=\"Convert this dataframe to an interactive table.\"\n",
              "              style=\"display:none;\">\n",
              "        \n",
              "  <svg xmlns=\"http://www.w3.org/2000/svg\" height=\"24px\"viewBox=\"0 0 24 24\"\n",
              "       width=\"24px\">\n",
              "    <path d=\"M0 0h24v24H0V0z\" fill=\"none\"/>\n",
              "    <path d=\"M18.56 5.44l.94 2.06.94-2.06 2.06-.94-2.06-.94-.94-2.06-.94 2.06-2.06.94zm-11 1L8.5 8.5l.94-2.06 2.06-.94-2.06-.94L8.5 2.5l-.94 2.06-2.06.94zm10 10l.94 2.06.94-2.06 2.06-.94-2.06-.94-.94-2.06-.94 2.06-2.06.94z\"/><path d=\"M17.41 7.96l-1.37-1.37c-.4-.4-.92-.59-1.43-.59-.52 0-1.04.2-1.43.59L10.3 9.45l-7.72 7.72c-.78.78-.78 2.05 0 2.83L4 21.41c.39.39.9.59 1.41.59.51 0 1.02-.2 1.41-.59l7.78-7.78 2.81-2.81c.8-.78.8-2.07 0-2.86zM5.41 20L4 18.59l7.72-7.72 1.47 1.35L5.41 20z\"/>\n",
              "  </svg>\n",
              "      </button>\n",
              "      \n",
              "  <style>\n",
              "    .colab-df-container {\n",
              "      display:flex;\n",
              "      flex-wrap:wrap;\n",
              "      gap: 12px;\n",
              "    }\n",
              "\n",
              "    .colab-df-convert {\n",
              "      background-color: #E8F0FE;\n",
              "      border: none;\n",
              "      border-radius: 50%;\n",
              "      cursor: pointer;\n",
              "      display: none;\n",
              "      fill: #1967D2;\n",
              "      height: 32px;\n",
              "      padding: 0 0 0 0;\n",
              "      width: 32px;\n",
              "    }\n",
              "\n",
              "    .colab-df-convert:hover {\n",
              "      background-color: #E2EBFA;\n",
              "      box-shadow: 0px 1px 2px rgba(60, 64, 67, 0.3), 0px 1px 3px 1px rgba(60, 64, 67, 0.15);\n",
              "      fill: #174EA6;\n",
              "    }\n",
              "\n",
              "    [theme=dark] .colab-df-convert {\n",
              "      background-color: #3B4455;\n",
              "      fill: #D2E3FC;\n",
              "    }\n",
              "\n",
              "    [theme=dark] .colab-df-convert:hover {\n",
              "      background-color: #434B5C;\n",
              "      box-shadow: 0px 1px 3px 1px rgba(0, 0, 0, 0.15);\n",
              "      filter: drop-shadow(0px 1px 2px rgba(0, 0, 0, 0.3));\n",
              "      fill: #FFFFFF;\n",
              "    }\n",
              "  </style>\n",
              "\n",
              "      <script>\n",
              "        const buttonEl =\n",
              "          document.querySelector('#df-7b6ba47f-a070-4db0-88ad-d60585084a9d button.colab-df-convert');\n",
              "        buttonEl.style.display =\n",
              "          google.colab.kernel.accessAllowed ? 'block' : 'none';\n",
              "\n",
              "        async function convertToInteractive(key) {\n",
              "          const element = document.querySelector('#df-7b6ba47f-a070-4db0-88ad-d60585084a9d');\n",
              "          const dataTable =\n",
              "            await google.colab.kernel.invokeFunction('convertToInteractive',\n",
              "                                                     [key], {});\n",
              "          if (!dataTable) return;\n",
              "\n",
              "          const docLinkHtml = 'Like what you see? Visit the ' +\n",
              "            '<a target=\"_blank\" href=https://colab.research.google.com/notebooks/data_table.ipynb>data table notebook</a>'\n",
              "            + ' to learn more about interactive tables.';\n",
              "          element.innerHTML = '';\n",
              "          dataTable['output_type'] = 'display_data';\n",
              "          await google.colab.output.renderOutput(dataTable, element);\n",
              "          const docLink = document.createElement('div');\n",
              "          docLink.innerHTML = docLinkHtml;\n",
              "          element.appendChild(docLink);\n",
              "        }\n",
              "      </script>\n",
              "    </div>\n",
              "  </div>\n",
              "  "
            ]
          },
          "metadata": {},
          "execution_count": 317
        }
      ]
    },
    {
      "cell_type": "code",
      "source": [
        "df.info()"
      ],
      "metadata": {
        "colab": {
          "base_uri": "https://localhost:8080/"
        },
        "id": "rdvJRq27s2ux",
        "outputId": "7eac43fb-2ef4-4cbe-caa3-fc0b4568aa08"
      },
      "execution_count": 318,
      "outputs": [
        {
          "output_type": "stream",
          "name": "stdout",
          "text": [
            "<class 'pandas.core.frame.DataFrame'>\n",
            "Int64Index: 10841 entries, 0 to 10840\n",
            "Data columns (total 15 columns):\n",
            " #   Column          Non-Null Count  Dtype \n",
            "---  ------          --------------  ----- \n",
            " 0   id              10841 non-null  int64 \n",
            " 1   Reviews_x       10841 non-null  object\n",
            " 2   Price           10841 non-null  object\n",
            " 3   Content Rating  10840 non-null  object\n",
            " 4   Genres          7812 non-null   object\n",
            " 5   Last Updated    10841 non-null  object\n",
            " 6   Current Ver     10833 non-null  object\n",
            " 7   Android Ver     10838 non-null  object\n",
            " 8   App             10841 non-null  object\n",
            " 9   Category        10841 non-null  object\n",
            " 10  Rating          9454 non-null   object\n",
            " 11  Reviews_y       10841 non-null  object\n",
            " 12  Size            5595 non-null   object\n",
            " 13  Installs        10841 non-null  object\n",
            " 14  Type            8810 non-null   object\n",
            "dtypes: int64(1), object(14)\n",
            "memory usage: 1.3+ MB\n"
          ]
        }
      ]
    },
    {
      "cell_type": "code",
      "source": [
        "df.columns"
      ],
      "metadata": {
        "colab": {
          "base_uri": "https://localhost:8080/"
        },
        "id": "kbkBOri7tAUr",
        "outputId": "38e9b57b-6103-4cc8-c9d4-d44177b5d89c"
      },
      "execution_count": 319,
      "outputs": [
        {
          "output_type": "execute_result",
          "data": {
            "text/plain": [
              "Index(['id', 'Reviews_x', 'Price', 'Content Rating', 'Genres', 'Last Updated',\n",
              "       'Current Ver', 'Android Ver', 'App', 'Category', 'Rating', 'Reviews_y',\n",
              "       'Size', 'Installs', 'Type'],\n",
              "      dtype='object')"
            ]
          },
          "metadata": {},
          "execution_count": 319
        }
      ]
    },
    {
      "cell_type": "code",
      "source": [
        "# Identifying the unique number of values in the dataset\n",
        "df.nunique()"
      ],
      "metadata": {
        "colab": {
          "base_uri": "https://localhost:8080/"
        },
        "id": "M9EB_HxWtET0",
        "outputId": "c0b00551-75ad-42a4-bd5b-5c90d8e011da"
      },
      "execution_count": 320,
      "outputs": [
        {
          "output_type": "execute_result",
          "data": {
            "text/plain": [
              "id                10841\n",
              "Reviews_x          6002\n",
              "Price                93\n",
              "Content Rating        6\n",
              "Genres              115\n",
              "Last Updated       1378\n",
              "Current Ver        2832\n",
              "Android Ver          33\n",
              "App                9660\n",
              "Category             34\n",
              "Rating               41\n",
              "Reviews_y          6002\n",
              "Size                325\n",
              "Installs             22\n",
              "Type                  3\n",
              "dtype: int64"
            ]
          },
          "metadata": {},
          "execution_count": 320
        }
      ]
    },
    {
      "cell_type": "code",
      "source": [
        "#Checking unique categories in the data\n",
        "df['Category'].unique()"
      ],
      "metadata": {
        "colab": {
          "base_uri": "https://localhost:8080/"
        },
        "id": "JwtDgeXeyZQm",
        "outputId": "317856cd-4442-41ac-d44d-f18ff0d83f5d"
      },
      "execution_count": 321,
      "outputs": [
        {
          "output_type": "execute_result",
          "data": {
            "text/plain": [
              "array(['ART_AND_DESIGN', 'AUTO_AND_VEHICLES', 'BEAUTY',\n",
              "       'BOOKS_AND_REFERENCE', 'BUSINESS', 'COMICS', 'COMMUNICATION',\n",
              "       'DATING', 'EDUCATION', 'ENTERTAINMENT', 'EVENTS', 'FINANCE',\n",
              "       'FOOD_AND_DRINK', 'HEALTH_AND_FITNESS', 'HOUSE_AND_HOME',\n",
              "       'LIBRARIES_AND_DEMO', 'LIFESTYLE', 'GAME', 'FAMILY', 'MEDICAL',\n",
              "       'SOCIAL', 'SHOPPING', 'PHOTOGRAPHY', 'SPORTS', 'TRAVEL_AND_LOCAL',\n",
              "       'TOOLS', 'PERSONALIZATION', 'PRODUCTIVITY', 'PARENTING', 'WEATHER',\n",
              "       'VIDEO_PLAYERS', 'NEWS_AND_MAGAZINES', 'MAPS_AND_NAVIGATION',\n",
              "       '1.9'], dtype=object)"
            ]
          },
          "metadata": {},
          "execution_count": 321
        }
      ]
    },
    {
      "cell_type": "code",
      "source": [
        "# The gradation of installations in the dataframe\n",
        "df.Installs.unique()"
      ],
      "metadata": {
        "colab": {
          "base_uri": "https://localhost:8080/"
        },
        "id": "MGUIfAAlyhxI",
        "outputId": "e6ee0783-dcd2-4c87-fa6c-207c3694bcaf"
      },
      "execution_count": 322,
      "outputs": [
        {
          "output_type": "execute_result",
          "data": {
            "text/plain": [
              "array(['10,000+', '500,000+', '5,000,000+', '50,000,000+', '100,000+',\n",
              "       '50,000+', '1,000,000+', '10,000,000+', '5,000+', '100,000,000+',\n",
              "       '1,000,000,000+', '1,000+', '500,000,000+', '50+', '100+', '500+',\n",
              "       '10+', '1+', '5+', '0+', '0', 'Free'], dtype=object)"
            ]
          },
          "metadata": {},
          "execution_count": 322
        }
      ]
    },
    {
      "cell_type": "code",
      "source": [
        "# Looking unique ratings in the dataframe\n",
        "df['Rating'].unique()"
      ],
      "metadata": {
        "colab": {
          "base_uri": "https://localhost:8080/"
        },
        "id": "1hj73ic5ynvg",
        "outputId": "33216363-b7bc-4a01-f950-d1d2465a9612"
      },
      "execution_count": 323,
      "outputs": [
        {
          "output_type": "execute_result",
          "data": {
            "text/plain": [
              "array(['4.1', '3.9', '4.7', '4.5', '4.3', '4.4', '3.8', '4.2', '4.6',\n",
              "       '3.2', '4.0', '?', nan, '4.8', '4.9', '3.6', '3.7', '3.3', '3.4',\n",
              "       '3.5', '3.1', '5.0', '3.0', '1.9', '2.5', '2.8', '2.7', '1.0',\n",
              "       '2.9', '2.6', '1.7', '2.0', '1.8', '2.3', '2.4', '2.2', '1.6',\n",
              "       '2.1', '1.4', '1.5', '1.2', '19.0'], dtype=object)"
            ]
          },
          "metadata": {},
          "execution_count": 323
        }
      ]
    },
    {
      "cell_type": "code",
      "source": [
        "# Viewing the content rating; who is permitted to download these apps\n",
        "df[\"Content Rating\"].unique()"
      ],
      "metadata": {
        "colab": {
          "base_uri": "https://localhost:8080/"
        },
        "id": "8bCL_Y0wyzaZ",
        "outputId": "a58ad625-5a8c-46d2-a8a9-b58ae053847c"
      },
      "execution_count": 324,
      "outputs": [
        {
          "output_type": "execute_result",
          "data": {
            "text/plain": [
              "array(['Everyone', 'Teen', 'Everyone 10+', 'Mature 17+',\n",
              "       'Adults only 18+', 'Unrated', nan], dtype=object)"
            ]
          },
          "metadata": {},
          "execution_count": 324
        }
      ]
    },
    {
      "cell_type": "code",
      "source": [
        "\n",
        "#Dropping duplicated rows\n",
        "#On play store, two apps may have same name, but all the size, installs, rating, reviews, price need not be same. so using these categories, we will drop the duplicates in the data\n",
        "df.drop_duplicates(['App','Size','Installs','Rating','Price','Android Ver'], inplace=True)"
      ],
      "metadata": {
        "id": "gU9fdZH1y7HS"
      },
      "execution_count": 325,
      "outputs": []
    },
    {
      "cell_type": "code",
      "source": [
        "df.shape"
      ],
      "metadata": {
        "colab": {
          "base_uri": "https://localhost:8080/"
        },
        "id": "OrgArURB1Hyf",
        "outputId": "5a0573a8-aed6-480a-ecb5-5278381f86ce"
      },
      "execution_count": 326,
      "outputs": [
        {
          "output_type": "execute_result",
          "data": {
            "text/plain": [
              "(10219, 15)"
            ]
          },
          "metadata": {},
          "execution_count": 326
        }
      ]
    },
    {
      "cell_type": "code",
      "source": [
        "#Now check new data frame\n",
        "df.info()"
      ],
      "metadata": {
        "colab": {
          "base_uri": "https://localhost:8080/"
        },
        "id": "7Hfui6uVzstF",
        "outputId": "e8136ce6-672b-4536-b5fa-098978f97a86"
      },
      "execution_count": 327,
      "outputs": [
        {
          "output_type": "stream",
          "name": "stdout",
          "text": [
            "<class 'pandas.core.frame.DataFrame'>\n",
            "Int64Index: 10219 entries, 0 to 10840\n",
            "Data columns (total 15 columns):\n",
            " #   Column          Non-Null Count  Dtype \n",
            "---  ------          --------------  ----- \n",
            " 0   id              10219 non-null  int64 \n",
            " 1   Reviews_x       10219 non-null  object\n",
            " 2   Price           10219 non-null  object\n",
            " 3   Content Rating  10218 non-null  object\n",
            " 4   Genres          7351 non-null   object\n",
            " 5   Last Updated    10219 non-null  object\n",
            " 6   Current Ver     10211 non-null  object\n",
            " 7   Android Ver     10216 non-null  object\n",
            " 8   App             10219 non-null  object\n",
            " 9   Category        10219 non-null  object\n",
            " 10  Rating          8834 non-null   object\n",
            " 11  Reviews_y       10219 non-null  object\n",
            " 12  Size            5266 non-null   object\n",
            " 13  Installs        10219 non-null  object\n",
            " 14  Type            8299 non-null   object\n",
            "dtypes: int64(1), object(14)\n",
            "memory usage: 1.2+ MB\n"
          ]
        }
      ]
    },
    {
      "cell_type": "code",
      "source": [
        "#Checking each column in the data for null values\n",
        "df.isnull().sum()"
      ],
      "metadata": {
        "colab": {
          "base_uri": "https://localhost:8080/"
        },
        "id": "Iee3Zkhq0sol",
        "outputId": "07d7af74-162d-4163-9ab4-70a8be9bf371"
      },
      "execution_count": 328,
      "outputs": [
        {
          "output_type": "execute_result",
          "data": {
            "text/plain": [
              "id                   0\n",
              "Reviews_x            0\n",
              "Price                0\n",
              "Content Rating       1\n",
              "Genres            2868\n",
              "Last Updated         0\n",
              "Current Ver          8\n",
              "Android Ver          3\n",
              "App                  0\n",
              "Category             0\n",
              "Rating            1385\n",
              "Reviews_y            0\n",
              "Size              4953\n",
              "Installs             0\n",
              "Type              1920\n",
              "dtype: int64"
            ]
          },
          "metadata": {},
          "execution_count": 328
        }
      ]
    },
    {
      "cell_type": "code",
      "source": [
        "## checking the percentage of nan values present in each feature\n",
        "\n",
        "features_with_na=[features for features in df.columns if df[features].isnull().sum()>1]\n",
        "\n",
        "for feature in features_with_na:\n",
        "    print(feature, np.round(df[feature].isnull().mean(), 4),  ' % missing values')\n",
        "    "
      ],
      "metadata": {
        "colab": {
          "base_uri": "https://localhost:8080/"
        },
        "id": "MVUhlVWQtLpu",
        "outputId": "6b6d637b-7a2e-4455-f337-cee3c208aa4b"
      },
      "execution_count": 329,
      "outputs": [
        {
          "output_type": "stream",
          "name": "stdout",
          "text": [
            "Genres 0.2807  % missing values\n",
            "Current Ver 0.0008  % missing values\n",
            "Android Ver 0.0003  % missing values\n",
            "Rating 0.1355  % missing values\n",
            "Size 0.4847  % missing values\n",
            "Type 0.1879  % missing values\n"
          ]
        }
      ]
    },
    {
      "cell_type": "code",
      "source": [
        "df['Genres'].value_counts()"
      ],
      "metadata": {
        "colab": {
          "base_uri": "https://localhost:8080/"
        },
        "id": "77oo2DyVkvid",
        "outputId": "898381c0-dc13-4a19-8113-49b1046b7c51"
      },
      "execution_count": 330,
      "outputs": [
        {
          "output_type": "execute_result",
          "data": {
            "text/plain": [
              "Tools                                 606\n",
              "Entertainment                         447\n",
              "Education                             372\n",
              "Medical                               322\n",
              "Business                              319\n",
              "                                     ... \n",
              "Music & Audio;Music & Video             1\n",
              "Health & Fitness;Education              1\n",
              "Adventure;Education                     1\n",
              "Video Players & Editors;Creativity      1\n",
              "Strategy;Creativity                     1\n",
              "Name: Genres, Length: 115, dtype: int64"
            ]
          },
          "metadata": {},
          "execution_count": 330
        }
      ]
    },
    {
      "cell_type": "code",
      "source": [
        "mode_val = df['Genres'].mode()[0]\n",
        "\n",
        "df['Genres'].fillna(mode_val, inplace=True)"
      ],
      "metadata": {
        "id": "soJ8SAcKk3h_"
      },
      "execution_count": 331,
      "outputs": []
    },
    {
      "cell_type": "code",
      "source": [
        "df['Current Ver'].value_counts()"
      ],
      "metadata": {
        "colab": {
          "base_uri": "https://localhost:8080/"
        },
        "id": "SfSEoh42k9wn",
        "outputId": "b3c3e6e7-3a3b-4f68-cb92-6c74cd23d9a6"
      },
      "execution_count": 332,
      "outputs": [
        {
          "output_type": "execute_result",
          "data": {
            "text/plain": [
              "Varies with device          1241\n",
              "1.0                          804\n",
              "1.1                          262\n",
              "1.2                          177\n",
              "2.0                          150\n",
              "                            ... \n",
              "v7.0.02.3.0516.1_06_0713       1\n",
              "12.2.6.3660                    1\n",
              "1.11.93                        1\n",
              "8.1.2                          1\n",
              "2.0.148.0                      1\n",
              "Name: Current Ver, Length: 2828, dtype: int64"
            ]
          },
          "metadata": {},
          "execution_count": 332
        }
      ]
    },
    {
      "cell_type": "code",
      "source": [
        "mode_val = df['Current Ver'].mode()[0]\n",
        "\n",
        "df['Current Ver'].fillna(mode_val, inplace=True)"
      ],
      "metadata": {
        "id": "2IGNW3X_lGNr"
      },
      "execution_count": 333,
      "outputs": []
    },
    {
      "cell_type": "code",
      "source": [
        "df['Android Ver'].value_counts()"
      ],
      "metadata": {
        "colab": {
          "base_uri": "https://localhost:8080/"
        },
        "id": "wCU60WROlONj",
        "outputId": "1a8923ea-1116-4b26-d170-eb3c0415e8ff"
      },
      "execution_count": 334,
      "outputs": [
        {
          "output_type": "execute_result",
          "data": {
            "text/plain": [
              "4.1 and up            2313\n",
              "4.0.3 and up          1443\n",
              "4.0 and up            1336\n",
              "Varies with device    1170\n",
              "4.4 and up             885\n",
              "2.3 and up             633\n",
              "5.0 and up             549\n",
              "4.2 and up             385\n",
              "2.3.3 and up           278\n",
              "2.2 and up             243\n",
              "3.0 and up             238\n",
              "4.3 and up             234\n",
              "2.1 and up             134\n",
              "1.6 and up             116\n",
              "6.0 and up              57\n",
              "7.0 and up              42\n",
              "3.2 and up              36\n",
              "2.0 and up              32\n",
              "5.1 and up              23\n",
              "1.5 and up              20\n",
              "4.4W and up             12\n",
              "3.1 and up              10\n",
              "2.0.1 and up             7\n",
              "8.0 and up               6\n",
              "7.1 and up               3\n",
              "4.0.3 - 7.1.1            2\n",
              "5.0 - 8.0                2\n",
              "1.0 and up               2\n",
              "7.0 - 7.1.1              1\n",
              "4.1 - 7.1.1              1\n",
              "5.0 - 6.0                1\n",
              "2.2 - 7.1.1              1\n",
              "5.0 - 7.1.1              1\n",
              "Name: Android Ver, dtype: int64"
            ]
          },
          "metadata": {},
          "execution_count": 334
        }
      ]
    },
    {
      "cell_type": "code",
      "source": [
        "mode_val = df['Android Ver'].mode()[0]\n",
        "\n",
        "df['Android Ver'].fillna(mode_val, inplace=True)"
      ],
      "metadata": {
        "id": "KWLazDgDlXj5"
      },
      "execution_count": 335,
      "outputs": []
    },
    {
      "cell_type": "code",
      "source": [
        "df['Rating'].value_counts()"
      ],
      "metadata": {
        "colab": {
          "base_uri": "https://localhost:8080/"
        },
        "id": "oH5CoNr4leg4",
        "outputId": "5304b9c7-d66f-4fba-dcfa-ee3628d28295"
      },
      "execution_count": 336,
      "outputs": [
        {
          "output_type": "execute_result",
          "data": {
            "text/plain": [
              "4.3     927\n",
              "4.4     920\n",
              "4.5     875\n",
              "4.2     832\n",
              "4.6     713\n",
              "4.1     628\n",
              "?       587\n",
              "4.0     505\n",
              "4.7     446\n",
              "3.9     351\n",
              "3.8     281\n",
              "5.0     259\n",
              "3.7     218\n",
              "4.8     214\n",
              "3.6     161\n",
              "3.5     153\n",
              "3.4     121\n",
              "3.3      95\n",
              "4.9      80\n",
              "3.0      78\n",
              "3.1      66\n",
              "3.2      59\n",
              "2.8      40\n",
              "2.9      40\n",
              "2.6      22\n",
              "2.7      21\n",
              "2.5      20\n",
              "2.4      19\n",
              "2.3      18\n",
              "1.0      15\n",
              "2.0      12\n",
              "2.2      12\n",
              "1.9      11\n",
              "1.8       8\n",
              "1.7       8\n",
              "2.1       7\n",
              "1.6       4\n",
              "1.4       3\n",
              "1.5       3\n",
              "1.2       1\n",
              "19.0      1\n",
              "Name: Rating, dtype: int64"
            ]
          },
          "metadata": {},
          "execution_count": 336
        }
      ]
    },
    {
      "cell_type": "code",
      "source": [
        "mode_val = df['Rating'].mode()[0]\n",
        "\n",
        "df['Rating'].fillna(mode_val, inplace=True)"
      ],
      "metadata": {
        "id": "fXwBV_hYlkRh"
      },
      "execution_count": 337,
      "outputs": []
    },
    {
      "cell_type": "code",
      "source": [
        "df['Size'].value_counts()"
      ],
      "metadata": {
        "colab": {
          "base_uri": "https://localhost:8080/"
        },
        "id": "TsQwM-jBliDG",
        "outputId": "d8e7eed5-6223-498c-a297-6d7d4952724f"
      },
      "execution_count": 338,
      "outputs": [
        {
          "output_type": "execute_result",
          "data": {
            "text/plain": [
              "Varies with device    759\n",
              "11M                    96\n",
              "14M                    94\n",
              "15M                    91\n",
              "13M                    90\n",
              "                     ... \n",
              "976k                    1\n",
              "322k                    1\n",
              "872k                    1\n",
              "714k                    1\n",
              "582k                    1\n",
              "Name: Size, Length: 325, dtype: int64"
            ]
          },
          "metadata": {},
          "execution_count": 338
        }
      ]
    },
    {
      "cell_type": "code",
      "source": [
        "mode_val = df['Size'].mode()[0]\n",
        "\n",
        "df['Size'].fillna(mode_val, inplace=True)"
      ],
      "metadata": {
        "id": "gDzNTDAwlk6P"
      },
      "execution_count": 339,
      "outputs": []
    },
    {
      "cell_type": "code",
      "source": [
        "df['Type'].value_counts()"
      ],
      "metadata": {
        "colab": {
          "base_uri": "https://localhost:8080/"
        },
        "id": "v12A_LoIl81b",
        "outputId": "88fde39d-ea44-4213-ad01-5231b4042c81"
      },
      "execution_count": 340,
      "outputs": [
        {
          "output_type": "execute_result",
          "data": {
            "text/plain": [
              "Free    7641\n",
              "Paid     657\n",
              "0          1\n",
              "Name: Type, dtype: int64"
            ]
          },
          "metadata": {},
          "execution_count": 340
        }
      ]
    },
    {
      "cell_type": "code",
      "source": [
        "mode_val = df['Type'].mode()[0]\n",
        "\n",
        "df['Type'].fillna(mode_val, inplace=True)"
      ],
      "metadata": {
        "id": "QsNdRJ6Yl90m"
      },
      "execution_count": 341,
      "outputs": []
    },
    {
      "cell_type": "code",
      "source": [
        "df.isnull().sum()"
      ],
      "metadata": {
        "colab": {
          "base_uri": "https://localhost:8080/"
        },
        "id": "zVLRHfYamD-W",
        "outputId": "0147eed4-aae8-4c4c-e22d-70e8f240c613"
      },
      "execution_count": 342,
      "outputs": [
        {
          "output_type": "execute_result",
          "data": {
            "text/plain": [
              "id                0\n",
              "Reviews_x         0\n",
              "Price             0\n",
              "Content Rating    1\n",
              "Genres            0\n",
              "Last Updated      0\n",
              "Current Ver       0\n",
              "Android Ver       0\n",
              "App               0\n",
              "Category          0\n",
              "Rating            0\n",
              "Reviews_y         0\n",
              "Size              0\n",
              "Installs          0\n",
              "Type              0\n",
              "dtype: int64"
            ]
          },
          "metadata": {},
          "execution_count": 342
        }
      ]
    },
    {
      "cell_type": "code",
      "source": [
        "# Import label encoder \n",
        "from sklearn import preprocessing \n",
        "  \n",
        "# label_encoder object knows how to understand word labels. \n",
        "label_encoder = preprocessing.LabelEncoder() \n",
        "\n",
        "df['Reviews_x']= label_encoder.fit_transform(df['Reviews_x'])\n",
        "df['Price']= label_encoder.fit_transform(df['Price'])\n",
        "df['Genres']= label_encoder.fit_transform(df['Genres'])\n",
        "df['Content Rating']= label_encoder.fit_transform(df['Content Rating'])\n",
        "df['Last Updated']= label_encoder.fit_transform(df['Last Updated'])\n",
        "df['Current Ver']= label_encoder.fit_transform(df['Current Ver'])\n",
        "df['Android Ver']= label_encoder.fit_transform(df['Android Ver'])\n",
        "df['App']= label_encoder.fit_transform(df['App'])\n",
        "df['Category']= label_encoder.fit_transform(df['Category'])\n",
        "df['Rating']= label_encoder.fit_transform(df['Rating'])\n",
        "df['Reviews_y']= label_encoder.fit_transform(df['Reviews_y'])\n",
        "df['Size']= label_encoder.fit_transform(df['Size'])\n",
        "df['Installs']= label_encoder.fit_transform(df['Installs'])\n",
        "df['Type']= label_encoder.fit_transform(df['Type'])"
      ],
      "metadata": {
        "id": "Wf2_v4R1ipKS"
      },
      "execution_count": 343,
      "outputs": []
    },
    {
      "cell_type": "code",
      "source": [
        "df.describe()"
      ],
      "metadata": {
        "colab": {
          "base_uri": "https://localhost:8080/",
          "height": 381
        },
        "id": "Fi9hDXo9tcAF",
        "outputId": "516fec90-3e8b-4db2-9300-f31fc2030797"
      },
      "execution_count": 344,
      "outputs": [
        {
          "output_type": "execute_result",
          "data": {
            "text/plain": [
              "                 id     Reviews_x         Price  Content Rating        Genres  \\\n",
              "count  10219.000000  10219.000000  10219.000000    10219.000000  10219.000000   \n",
              "mean    5540.381055   2559.434093     86.900186        1.449653     74.863881   \n",
              "std     3120.525508   1730.226053     16.337344        0.996709     32.674507   \n",
              "min        1.000000      0.000000      0.000000        0.000000      0.000000   \n",
              "25%     2869.500000   1046.500000     91.000000        1.000000     51.000000   \n",
              "50%     5626.000000   2566.000000     91.000000        1.000000     81.000000   \n",
              "75%     8223.500000   4040.500000     91.000000        1.000000    105.000000   \n",
              "max    10841.000000   5641.000000     92.000000        6.000000    114.000000   \n",
              "\n",
              "       Last Updated   Current Ver   Android Ver           App      Category  \\\n",
              "count  10219.000000  10219.000000  10219.000000  10219.000000  10219.000000   \n",
              "mean     637.148547   1247.765046     17.214502   4862.580389     17.732361   \n",
              "std      339.572543    938.776931      7.100017   2783.957893      8.388603   \n",
              "min        0.000000      0.000000      0.000000      0.000000      0.000000   \n",
              "25%      369.500000    361.000000     13.000000   2450.500000     12.000000   \n",
              "50%      652.000000   1070.000000     17.000000   4893.000000     15.000000   \n",
              "75%      855.000000   2067.000000     20.000000   7267.500000     26.000000   \n",
              "max     1377.000000   2827.000000     32.000000   9659.000000     33.000000   \n",
              "\n",
              "             Rating     Reviews_y          Size      Installs          Type  \n",
              "count  10219.000000  10219.000000  10219.000000  10219.000000  10219.000000  \n",
              "mean      31.503963   2559.434093    231.964184      9.431256      1.064194  \n",
              "std        5.203291   1730.226053    117.762321      4.850056      0.245509  \n",
              "min        0.000000      0.000000      0.000000      0.000000      0.000000  \n",
              "25%       30.000000   1046.500000    114.500000      6.000000      1.000000  \n",
              "50%       32.000000   2566.000000    324.000000      9.000000      1.000000  \n",
              "75%       34.000000   4040.500000    324.000000     13.000000      1.000000  \n",
              "max       40.000000   5641.000000    324.000000     21.000000      2.000000  "
            ],
            "text/html": [
              "\n",
              "  <div id=\"df-d19feb71-6299-4940-939a-21e06da22192\">\n",
              "    <div class=\"colab-df-container\">\n",
              "      <div>\n",
              "<style scoped>\n",
              "    .dataframe tbody tr th:only-of-type {\n",
              "        vertical-align: middle;\n",
              "    }\n",
              "\n",
              "    .dataframe tbody tr th {\n",
              "        vertical-align: top;\n",
              "    }\n",
              "\n",
              "    .dataframe thead th {\n",
              "        text-align: right;\n",
              "    }\n",
              "</style>\n",
              "<table border=\"1\" class=\"dataframe\">\n",
              "  <thead>\n",
              "    <tr style=\"text-align: right;\">\n",
              "      <th></th>\n",
              "      <th>id</th>\n",
              "      <th>Reviews_x</th>\n",
              "      <th>Price</th>\n",
              "      <th>Content Rating</th>\n",
              "      <th>Genres</th>\n",
              "      <th>Last Updated</th>\n",
              "      <th>Current Ver</th>\n",
              "      <th>Android Ver</th>\n",
              "      <th>App</th>\n",
              "      <th>Category</th>\n",
              "      <th>Rating</th>\n",
              "      <th>Reviews_y</th>\n",
              "      <th>Size</th>\n",
              "      <th>Installs</th>\n",
              "      <th>Type</th>\n",
              "    </tr>\n",
              "  </thead>\n",
              "  <tbody>\n",
              "    <tr>\n",
              "      <th>count</th>\n",
              "      <td>10219.000000</td>\n",
              "      <td>10219.000000</td>\n",
              "      <td>10219.000000</td>\n",
              "      <td>10219.000000</td>\n",
              "      <td>10219.000000</td>\n",
              "      <td>10219.000000</td>\n",
              "      <td>10219.000000</td>\n",
              "      <td>10219.000000</td>\n",
              "      <td>10219.000000</td>\n",
              "      <td>10219.000000</td>\n",
              "      <td>10219.000000</td>\n",
              "      <td>10219.000000</td>\n",
              "      <td>10219.000000</td>\n",
              "      <td>10219.000000</td>\n",
              "      <td>10219.000000</td>\n",
              "    </tr>\n",
              "    <tr>\n",
              "      <th>mean</th>\n",
              "      <td>5540.381055</td>\n",
              "      <td>2559.434093</td>\n",
              "      <td>86.900186</td>\n",
              "      <td>1.449653</td>\n",
              "      <td>74.863881</td>\n",
              "      <td>637.148547</td>\n",
              "      <td>1247.765046</td>\n",
              "      <td>17.214502</td>\n",
              "      <td>4862.580389</td>\n",
              "      <td>17.732361</td>\n",
              "      <td>31.503963</td>\n",
              "      <td>2559.434093</td>\n",
              "      <td>231.964184</td>\n",
              "      <td>9.431256</td>\n",
              "      <td>1.064194</td>\n",
              "    </tr>\n",
              "    <tr>\n",
              "      <th>std</th>\n",
              "      <td>3120.525508</td>\n",
              "      <td>1730.226053</td>\n",
              "      <td>16.337344</td>\n",
              "      <td>0.996709</td>\n",
              "      <td>32.674507</td>\n",
              "      <td>339.572543</td>\n",
              "      <td>938.776931</td>\n",
              "      <td>7.100017</td>\n",
              "      <td>2783.957893</td>\n",
              "      <td>8.388603</td>\n",
              "      <td>5.203291</td>\n",
              "      <td>1730.226053</td>\n",
              "      <td>117.762321</td>\n",
              "      <td>4.850056</td>\n",
              "      <td>0.245509</td>\n",
              "    </tr>\n",
              "    <tr>\n",
              "      <th>min</th>\n",
              "      <td>1.000000</td>\n",
              "      <td>0.000000</td>\n",
              "      <td>0.000000</td>\n",
              "      <td>0.000000</td>\n",
              "      <td>0.000000</td>\n",
              "      <td>0.000000</td>\n",
              "      <td>0.000000</td>\n",
              "      <td>0.000000</td>\n",
              "      <td>0.000000</td>\n",
              "      <td>0.000000</td>\n",
              "      <td>0.000000</td>\n",
              "      <td>0.000000</td>\n",
              "      <td>0.000000</td>\n",
              "      <td>0.000000</td>\n",
              "      <td>0.000000</td>\n",
              "    </tr>\n",
              "    <tr>\n",
              "      <th>25%</th>\n",
              "      <td>2869.500000</td>\n",
              "      <td>1046.500000</td>\n",
              "      <td>91.000000</td>\n",
              "      <td>1.000000</td>\n",
              "      <td>51.000000</td>\n",
              "      <td>369.500000</td>\n",
              "      <td>361.000000</td>\n",
              "      <td>13.000000</td>\n",
              "      <td>2450.500000</td>\n",
              "      <td>12.000000</td>\n",
              "      <td>30.000000</td>\n",
              "      <td>1046.500000</td>\n",
              "      <td>114.500000</td>\n",
              "      <td>6.000000</td>\n",
              "      <td>1.000000</td>\n",
              "    </tr>\n",
              "    <tr>\n",
              "      <th>50%</th>\n",
              "      <td>5626.000000</td>\n",
              "      <td>2566.000000</td>\n",
              "      <td>91.000000</td>\n",
              "      <td>1.000000</td>\n",
              "      <td>81.000000</td>\n",
              "      <td>652.000000</td>\n",
              "      <td>1070.000000</td>\n",
              "      <td>17.000000</td>\n",
              "      <td>4893.000000</td>\n",
              "      <td>15.000000</td>\n",
              "      <td>32.000000</td>\n",
              "      <td>2566.000000</td>\n",
              "      <td>324.000000</td>\n",
              "      <td>9.000000</td>\n",
              "      <td>1.000000</td>\n",
              "    </tr>\n",
              "    <tr>\n",
              "      <th>75%</th>\n",
              "      <td>8223.500000</td>\n",
              "      <td>4040.500000</td>\n",
              "      <td>91.000000</td>\n",
              "      <td>1.000000</td>\n",
              "      <td>105.000000</td>\n",
              "      <td>855.000000</td>\n",
              "      <td>2067.000000</td>\n",
              "      <td>20.000000</td>\n",
              "      <td>7267.500000</td>\n",
              "      <td>26.000000</td>\n",
              "      <td>34.000000</td>\n",
              "      <td>4040.500000</td>\n",
              "      <td>324.000000</td>\n",
              "      <td>13.000000</td>\n",
              "      <td>1.000000</td>\n",
              "    </tr>\n",
              "    <tr>\n",
              "      <th>max</th>\n",
              "      <td>10841.000000</td>\n",
              "      <td>5641.000000</td>\n",
              "      <td>92.000000</td>\n",
              "      <td>6.000000</td>\n",
              "      <td>114.000000</td>\n",
              "      <td>1377.000000</td>\n",
              "      <td>2827.000000</td>\n",
              "      <td>32.000000</td>\n",
              "      <td>9659.000000</td>\n",
              "      <td>33.000000</td>\n",
              "      <td>40.000000</td>\n",
              "      <td>5641.000000</td>\n",
              "      <td>324.000000</td>\n",
              "      <td>21.000000</td>\n",
              "      <td>2.000000</td>\n",
              "    </tr>\n",
              "  </tbody>\n",
              "</table>\n",
              "</div>\n",
              "      <button class=\"colab-df-convert\" onclick=\"convertToInteractive('df-d19feb71-6299-4940-939a-21e06da22192')\"\n",
              "              title=\"Convert this dataframe to an interactive table.\"\n",
              "              style=\"display:none;\">\n",
              "        \n",
              "  <svg xmlns=\"http://www.w3.org/2000/svg\" height=\"24px\"viewBox=\"0 0 24 24\"\n",
              "       width=\"24px\">\n",
              "    <path d=\"M0 0h24v24H0V0z\" fill=\"none\"/>\n",
              "    <path d=\"M18.56 5.44l.94 2.06.94-2.06 2.06-.94-2.06-.94-.94-2.06-.94 2.06-2.06.94zm-11 1L8.5 8.5l.94-2.06 2.06-.94-2.06-.94L8.5 2.5l-.94 2.06-2.06.94zm10 10l.94 2.06.94-2.06 2.06-.94-2.06-.94-.94-2.06-.94 2.06-2.06.94z\"/><path d=\"M17.41 7.96l-1.37-1.37c-.4-.4-.92-.59-1.43-.59-.52 0-1.04.2-1.43.59L10.3 9.45l-7.72 7.72c-.78.78-.78 2.05 0 2.83L4 21.41c.39.39.9.59 1.41.59.51 0 1.02-.2 1.41-.59l7.78-7.78 2.81-2.81c.8-.78.8-2.07 0-2.86zM5.41 20L4 18.59l7.72-7.72 1.47 1.35L5.41 20z\"/>\n",
              "  </svg>\n",
              "      </button>\n",
              "      \n",
              "  <style>\n",
              "    .colab-df-container {\n",
              "      display:flex;\n",
              "      flex-wrap:wrap;\n",
              "      gap: 12px;\n",
              "    }\n",
              "\n",
              "    .colab-df-convert {\n",
              "      background-color: #E8F0FE;\n",
              "      border: none;\n",
              "      border-radius: 50%;\n",
              "      cursor: pointer;\n",
              "      display: none;\n",
              "      fill: #1967D2;\n",
              "      height: 32px;\n",
              "      padding: 0 0 0 0;\n",
              "      width: 32px;\n",
              "    }\n",
              "\n",
              "    .colab-df-convert:hover {\n",
              "      background-color: #E2EBFA;\n",
              "      box-shadow: 0px 1px 2px rgba(60, 64, 67, 0.3), 0px 1px 3px 1px rgba(60, 64, 67, 0.15);\n",
              "      fill: #174EA6;\n",
              "    }\n",
              "\n",
              "    [theme=dark] .colab-df-convert {\n",
              "      background-color: #3B4455;\n",
              "      fill: #D2E3FC;\n",
              "    }\n",
              "\n",
              "    [theme=dark] .colab-df-convert:hover {\n",
              "      background-color: #434B5C;\n",
              "      box-shadow: 0px 1px 3px 1px rgba(0, 0, 0, 0.15);\n",
              "      filter: drop-shadow(0px 1px 2px rgba(0, 0, 0, 0.3));\n",
              "      fill: #FFFFFF;\n",
              "    }\n",
              "  </style>\n",
              "\n",
              "      <script>\n",
              "        const buttonEl =\n",
              "          document.querySelector('#df-d19feb71-6299-4940-939a-21e06da22192 button.colab-df-convert');\n",
              "        buttonEl.style.display =\n",
              "          google.colab.kernel.accessAllowed ? 'block' : 'none';\n",
              "\n",
              "        async function convertToInteractive(key) {\n",
              "          const element = document.querySelector('#df-d19feb71-6299-4940-939a-21e06da22192');\n",
              "          const dataTable =\n",
              "            await google.colab.kernel.invokeFunction('convertToInteractive',\n",
              "                                                     [key], {});\n",
              "          if (!dataTable) return;\n",
              "\n",
              "          const docLinkHtml = 'Like what you see? Visit the ' +\n",
              "            '<a target=\"_blank\" href=https://colab.research.google.com/notebooks/data_table.ipynb>data table notebook</a>'\n",
              "            + ' to learn more about interactive tables.';\n",
              "          element.innerHTML = '';\n",
              "          dataTable['output_type'] = 'display_data';\n",
              "          await google.colab.output.renderOutput(dataTable, element);\n",
              "          const docLink = document.createElement('div');\n",
              "          docLink.innerHTML = docLinkHtml;\n",
              "          element.appendChild(docLink);\n",
              "        }\n",
              "      </script>\n",
              "    </div>\n",
              "  </div>\n",
              "  "
            ]
          },
          "metadata": {},
          "execution_count": 344
        }
      ]
    },
    {
      "cell_type": "code",
      "source": [
        "df.corr() # the correlation between the columns\n"
      ],
      "metadata": {
        "id": "u1hkNDKNtqcv",
        "colab": {
          "base_uri": "https://localhost:8080/",
          "height": 670
        },
        "outputId": "9b99df76-a06a-4f3c-efda-45e10d41f0e9"
      },
      "execution_count": 345,
      "outputs": [
        {
          "output_type": "execute_result",
          "data": {
            "text/plain": [
              "                      id  Reviews_x     Price  Content Rating    Genres  \\\n",
              "id              1.000000  -0.075679 -0.051576       -0.034834  0.076077   \n",
              "Reviews_x      -0.075679   1.000000  0.041190        0.022452  0.023573   \n",
              "Price          -0.051576   0.041190  1.000000        0.045609 -0.012874   \n",
              "Content Rating -0.034834   0.022452  0.045609        1.000000 -0.100561   \n",
              "Genres          0.076077   0.023573 -0.012874       -0.100561  1.000000   \n",
              "Last Updated    0.082535  -0.015015 -0.008357       -0.032034 -0.026476   \n",
              "Current Ver    -0.267686   0.077174  0.076049        0.016579  0.066452   \n",
              "Android Ver    -0.230976   0.017660  0.091683        0.013032  0.064444   \n",
              "App            -0.121517   0.029770 -0.010812        0.052675  0.010478   \n",
              "Category        0.137416   0.030876 -0.027456       -0.094240  0.553301   \n",
              "Rating         -0.093708  -0.033202 -0.050493        0.012894 -0.020223   \n",
              "Reviews_y      -0.075679   1.000000  0.041190        0.022452  0.023573   \n",
              "Size           -0.048410   0.017413  0.026089        0.041098  0.001977   \n",
              "Installs       -0.037646   0.051288  0.044191        0.024828 -0.012958   \n",
              "Type            0.039007  -0.044534 -0.792637       -0.044782  0.010349   \n",
              "\n",
              "                Last Updated  Current Ver  Android Ver       App  Category  \\\n",
              "id                  0.082535    -0.267686    -0.230976 -0.121517  0.137416   \n",
              "Reviews_x          -0.015015     0.077174     0.017660  0.029770  0.030876   \n",
              "Price              -0.008357     0.076049     0.091683 -0.010812 -0.027456   \n",
              "Content Rating     -0.032034     0.016579     0.013032  0.052675 -0.094240   \n",
              "Genres             -0.026476     0.066452     0.064444  0.010478  0.553301   \n",
              "Last Updated        1.000000    -0.102457    -0.114361 -0.043167 -0.026730   \n",
              "Current Ver        -0.102457     1.000000     0.496213  0.075361  0.093247   \n",
              "Android Ver        -0.114361     0.496213     1.000000  0.087048  0.095077   \n",
              "App                -0.043167     0.075361     0.087048  1.000000  0.022903   \n",
              "Category           -0.026730     0.093247     0.095077  0.022903  1.000000   \n",
              "Rating             -0.047189     0.024102     0.051992  0.013642 -0.027275   \n",
              "Reviews_y          -0.015015     0.077174     0.017660  0.029770  0.030876   \n",
              "Size               -0.037981     0.179316     0.210998  0.029491  0.001587   \n",
              "Installs            0.009616     0.034983     0.025251  0.022384  0.000218   \n",
              "Type                0.012338    -0.052876    -0.091780  0.003990  0.020746   \n",
              "\n",
              "                  Rating  Reviews_y      Size  Installs      Type  \n",
              "id             -0.093708  -0.075679 -0.048410 -0.037646  0.039007  \n",
              "Reviews_x      -0.033202   1.000000  0.017413  0.051288 -0.044534  \n",
              "Price          -0.050493   0.041190  0.026089  0.044191 -0.792637  \n",
              "Content Rating  0.012894   0.022452  0.041098  0.024828 -0.044782  \n",
              "Genres         -0.020223   0.023573  0.001977 -0.012958  0.010349  \n",
              "Last Updated   -0.047189  -0.015015 -0.037981  0.009616  0.012338  \n",
              "Current Ver     0.024102   0.077174  0.179316  0.034983 -0.052876  \n",
              "Android Ver     0.051992   0.017660  0.210998  0.025251 -0.091780  \n",
              "App             0.013642   0.029770  0.029491  0.022384  0.003990  \n",
              "Category       -0.027275   0.030876  0.001587  0.000218  0.020746  \n",
              "Rating          1.000000  -0.033202  0.034941 -0.000857  0.045078  \n",
              "Reviews_y      -0.033202   1.000000  0.017413  0.051288 -0.044534  \n",
              "Size            0.034941   0.017413  1.000000  0.005983 -0.013860  \n",
              "Installs       -0.000857   0.051288  0.005983  1.000000 -0.049964  \n",
              "Type            0.045078  -0.044534 -0.013860 -0.049964  1.000000  "
            ],
            "text/html": [
              "\n",
              "  <div id=\"df-1941bea7-fa63-4e80-b458-ac8b62719162\">\n",
              "    <div class=\"colab-df-container\">\n",
              "      <div>\n",
              "<style scoped>\n",
              "    .dataframe tbody tr th:only-of-type {\n",
              "        vertical-align: middle;\n",
              "    }\n",
              "\n",
              "    .dataframe tbody tr th {\n",
              "        vertical-align: top;\n",
              "    }\n",
              "\n",
              "    .dataframe thead th {\n",
              "        text-align: right;\n",
              "    }\n",
              "</style>\n",
              "<table border=\"1\" class=\"dataframe\">\n",
              "  <thead>\n",
              "    <tr style=\"text-align: right;\">\n",
              "      <th></th>\n",
              "      <th>id</th>\n",
              "      <th>Reviews_x</th>\n",
              "      <th>Price</th>\n",
              "      <th>Content Rating</th>\n",
              "      <th>Genres</th>\n",
              "      <th>Last Updated</th>\n",
              "      <th>Current Ver</th>\n",
              "      <th>Android Ver</th>\n",
              "      <th>App</th>\n",
              "      <th>Category</th>\n",
              "      <th>Rating</th>\n",
              "      <th>Reviews_y</th>\n",
              "      <th>Size</th>\n",
              "      <th>Installs</th>\n",
              "      <th>Type</th>\n",
              "    </tr>\n",
              "  </thead>\n",
              "  <tbody>\n",
              "    <tr>\n",
              "      <th>id</th>\n",
              "      <td>1.000000</td>\n",
              "      <td>-0.075679</td>\n",
              "      <td>-0.051576</td>\n",
              "      <td>-0.034834</td>\n",
              "      <td>0.076077</td>\n",
              "      <td>0.082535</td>\n",
              "      <td>-0.267686</td>\n",
              "      <td>-0.230976</td>\n",
              "      <td>-0.121517</td>\n",
              "      <td>0.137416</td>\n",
              "      <td>-0.093708</td>\n",
              "      <td>-0.075679</td>\n",
              "      <td>-0.048410</td>\n",
              "      <td>-0.037646</td>\n",
              "      <td>0.039007</td>\n",
              "    </tr>\n",
              "    <tr>\n",
              "      <th>Reviews_x</th>\n",
              "      <td>-0.075679</td>\n",
              "      <td>1.000000</td>\n",
              "      <td>0.041190</td>\n",
              "      <td>0.022452</td>\n",
              "      <td>0.023573</td>\n",
              "      <td>-0.015015</td>\n",
              "      <td>0.077174</td>\n",
              "      <td>0.017660</td>\n",
              "      <td>0.029770</td>\n",
              "      <td>0.030876</td>\n",
              "      <td>-0.033202</td>\n",
              "      <td>1.000000</td>\n",
              "      <td>0.017413</td>\n",
              "      <td>0.051288</td>\n",
              "      <td>-0.044534</td>\n",
              "    </tr>\n",
              "    <tr>\n",
              "      <th>Price</th>\n",
              "      <td>-0.051576</td>\n",
              "      <td>0.041190</td>\n",
              "      <td>1.000000</td>\n",
              "      <td>0.045609</td>\n",
              "      <td>-0.012874</td>\n",
              "      <td>-0.008357</td>\n",
              "      <td>0.076049</td>\n",
              "      <td>0.091683</td>\n",
              "      <td>-0.010812</td>\n",
              "      <td>-0.027456</td>\n",
              "      <td>-0.050493</td>\n",
              "      <td>0.041190</td>\n",
              "      <td>0.026089</td>\n",
              "      <td>0.044191</td>\n",
              "      <td>-0.792637</td>\n",
              "    </tr>\n",
              "    <tr>\n",
              "      <th>Content Rating</th>\n",
              "      <td>-0.034834</td>\n",
              "      <td>0.022452</td>\n",
              "      <td>0.045609</td>\n",
              "      <td>1.000000</td>\n",
              "      <td>-0.100561</td>\n",
              "      <td>-0.032034</td>\n",
              "      <td>0.016579</td>\n",
              "      <td>0.013032</td>\n",
              "      <td>0.052675</td>\n",
              "      <td>-0.094240</td>\n",
              "      <td>0.012894</td>\n",
              "      <td>0.022452</td>\n",
              "      <td>0.041098</td>\n",
              "      <td>0.024828</td>\n",
              "      <td>-0.044782</td>\n",
              "    </tr>\n",
              "    <tr>\n",
              "      <th>Genres</th>\n",
              "      <td>0.076077</td>\n",
              "      <td>0.023573</td>\n",
              "      <td>-0.012874</td>\n",
              "      <td>-0.100561</td>\n",
              "      <td>1.000000</td>\n",
              "      <td>-0.026476</td>\n",
              "      <td>0.066452</td>\n",
              "      <td>0.064444</td>\n",
              "      <td>0.010478</td>\n",
              "      <td>0.553301</td>\n",
              "      <td>-0.020223</td>\n",
              "      <td>0.023573</td>\n",
              "      <td>0.001977</td>\n",
              "      <td>-0.012958</td>\n",
              "      <td>0.010349</td>\n",
              "    </tr>\n",
              "    <tr>\n",
              "      <th>Last Updated</th>\n",
              "      <td>0.082535</td>\n",
              "      <td>-0.015015</td>\n",
              "      <td>-0.008357</td>\n",
              "      <td>-0.032034</td>\n",
              "      <td>-0.026476</td>\n",
              "      <td>1.000000</td>\n",
              "      <td>-0.102457</td>\n",
              "      <td>-0.114361</td>\n",
              "      <td>-0.043167</td>\n",
              "      <td>-0.026730</td>\n",
              "      <td>-0.047189</td>\n",
              "      <td>-0.015015</td>\n",
              "      <td>-0.037981</td>\n",
              "      <td>0.009616</td>\n",
              "      <td>0.012338</td>\n",
              "    </tr>\n",
              "    <tr>\n",
              "      <th>Current Ver</th>\n",
              "      <td>-0.267686</td>\n",
              "      <td>0.077174</td>\n",
              "      <td>0.076049</td>\n",
              "      <td>0.016579</td>\n",
              "      <td>0.066452</td>\n",
              "      <td>-0.102457</td>\n",
              "      <td>1.000000</td>\n",
              "      <td>0.496213</td>\n",
              "      <td>0.075361</td>\n",
              "      <td>0.093247</td>\n",
              "      <td>0.024102</td>\n",
              "      <td>0.077174</td>\n",
              "      <td>0.179316</td>\n",
              "      <td>0.034983</td>\n",
              "      <td>-0.052876</td>\n",
              "    </tr>\n",
              "    <tr>\n",
              "      <th>Android Ver</th>\n",
              "      <td>-0.230976</td>\n",
              "      <td>0.017660</td>\n",
              "      <td>0.091683</td>\n",
              "      <td>0.013032</td>\n",
              "      <td>0.064444</td>\n",
              "      <td>-0.114361</td>\n",
              "      <td>0.496213</td>\n",
              "      <td>1.000000</td>\n",
              "      <td>0.087048</td>\n",
              "      <td>0.095077</td>\n",
              "      <td>0.051992</td>\n",
              "      <td>0.017660</td>\n",
              "      <td>0.210998</td>\n",
              "      <td>0.025251</td>\n",
              "      <td>-0.091780</td>\n",
              "    </tr>\n",
              "    <tr>\n",
              "      <th>App</th>\n",
              "      <td>-0.121517</td>\n",
              "      <td>0.029770</td>\n",
              "      <td>-0.010812</td>\n",
              "      <td>0.052675</td>\n",
              "      <td>0.010478</td>\n",
              "      <td>-0.043167</td>\n",
              "      <td>0.075361</td>\n",
              "      <td>0.087048</td>\n",
              "      <td>1.000000</td>\n",
              "      <td>0.022903</td>\n",
              "      <td>0.013642</td>\n",
              "      <td>0.029770</td>\n",
              "      <td>0.029491</td>\n",
              "      <td>0.022384</td>\n",
              "      <td>0.003990</td>\n",
              "    </tr>\n",
              "    <tr>\n",
              "      <th>Category</th>\n",
              "      <td>0.137416</td>\n",
              "      <td>0.030876</td>\n",
              "      <td>-0.027456</td>\n",
              "      <td>-0.094240</td>\n",
              "      <td>0.553301</td>\n",
              "      <td>-0.026730</td>\n",
              "      <td>0.093247</td>\n",
              "      <td>0.095077</td>\n",
              "      <td>0.022903</td>\n",
              "      <td>1.000000</td>\n",
              "      <td>-0.027275</td>\n",
              "      <td>0.030876</td>\n",
              "      <td>0.001587</td>\n",
              "      <td>0.000218</td>\n",
              "      <td>0.020746</td>\n",
              "    </tr>\n",
              "    <tr>\n",
              "      <th>Rating</th>\n",
              "      <td>-0.093708</td>\n",
              "      <td>-0.033202</td>\n",
              "      <td>-0.050493</td>\n",
              "      <td>0.012894</td>\n",
              "      <td>-0.020223</td>\n",
              "      <td>-0.047189</td>\n",
              "      <td>0.024102</td>\n",
              "      <td>0.051992</td>\n",
              "      <td>0.013642</td>\n",
              "      <td>-0.027275</td>\n",
              "      <td>1.000000</td>\n",
              "      <td>-0.033202</td>\n",
              "      <td>0.034941</td>\n",
              "      <td>-0.000857</td>\n",
              "      <td>0.045078</td>\n",
              "    </tr>\n",
              "    <tr>\n",
              "      <th>Reviews_y</th>\n",
              "      <td>-0.075679</td>\n",
              "      <td>1.000000</td>\n",
              "      <td>0.041190</td>\n",
              "      <td>0.022452</td>\n",
              "      <td>0.023573</td>\n",
              "      <td>-0.015015</td>\n",
              "      <td>0.077174</td>\n",
              "      <td>0.017660</td>\n",
              "      <td>0.029770</td>\n",
              "      <td>0.030876</td>\n",
              "      <td>-0.033202</td>\n",
              "      <td>1.000000</td>\n",
              "      <td>0.017413</td>\n",
              "      <td>0.051288</td>\n",
              "      <td>-0.044534</td>\n",
              "    </tr>\n",
              "    <tr>\n",
              "      <th>Size</th>\n",
              "      <td>-0.048410</td>\n",
              "      <td>0.017413</td>\n",
              "      <td>0.026089</td>\n",
              "      <td>0.041098</td>\n",
              "      <td>0.001977</td>\n",
              "      <td>-0.037981</td>\n",
              "      <td>0.179316</td>\n",
              "      <td>0.210998</td>\n",
              "      <td>0.029491</td>\n",
              "      <td>0.001587</td>\n",
              "      <td>0.034941</td>\n",
              "      <td>0.017413</td>\n",
              "      <td>1.000000</td>\n",
              "      <td>0.005983</td>\n",
              "      <td>-0.013860</td>\n",
              "    </tr>\n",
              "    <tr>\n",
              "      <th>Installs</th>\n",
              "      <td>-0.037646</td>\n",
              "      <td>0.051288</td>\n",
              "      <td>0.044191</td>\n",
              "      <td>0.024828</td>\n",
              "      <td>-0.012958</td>\n",
              "      <td>0.009616</td>\n",
              "      <td>0.034983</td>\n",
              "      <td>0.025251</td>\n",
              "      <td>0.022384</td>\n",
              "      <td>0.000218</td>\n",
              "      <td>-0.000857</td>\n",
              "      <td>0.051288</td>\n",
              "      <td>0.005983</td>\n",
              "      <td>1.000000</td>\n",
              "      <td>-0.049964</td>\n",
              "    </tr>\n",
              "    <tr>\n",
              "      <th>Type</th>\n",
              "      <td>0.039007</td>\n",
              "      <td>-0.044534</td>\n",
              "      <td>-0.792637</td>\n",
              "      <td>-0.044782</td>\n",
              "      <td>0.010349</td>\n",
              "      <td>0.012338</td>\n",
              "      <td>-0.052876</td>\n",
              "      <td>-0.091780</td>\n",
              "      <td>0.003990</td>\n",
              "      <td>0.020746</td>\n",
              "      <td>0.045078</td>\n",
              "      <td>-0.044534</td>\n",
              "      <td>-0.013860</td>\n",
              "      <td>-0.049964</td>\n",
              "      <td>1.000000</td>\n",
              "    </tr>\n",
              "  </tbody>\n",
              "</table>\n",
              "</div>\n",
              "      <button class=\"colab-df-convert\" onclick=\"convertToInteractive('df-1941bea7-fa63-4e80-b458-ac8b62719162')\"\n",
              "              title=\"Convert this dataframe to an interactive table.\"\n",
              "              style=\"display:none;\">\n",
              "        \n",
              "  <svg xmlns=\"http://www.w3.org/2000/svg\" height=\"24px\"viewBox=\"0 0 24 24\"\n",
              "       width=\"24px\">\n",
              "    <path d=\"M0 0h24v24H0V0z\" fill=\"none\"/>\n",
              "    <path d=\"M18.56 5.44l.94 2.06.94-2.06 2.06-.94-2.06-.94-.94-2.06-.94 2.06-2.06.94zm-11 1L8.5 8.5l.94-2.06 2.06-.94-2.06-.94L8.5 2.5l-.94 2.06-2.06.94zm10 10l.94 2.06.94-2.06 2.06-.94-2.06-.94-.94-2.06-.94 2.06-2.06.94z\"/><path d=\"M17.41 7.96l-1.37-1.37c-.4-.4-.92-.59-1.43-.59-.52 0-1.04.2-1.43.59L10.3 9.45l-7.72 7.72c-.78.78-.78 2.05 0 2.83L4 21.41c.39.39.9.59 1.41.59.51 0 1.02-.2 1.41-.59l7.78-7.78 2.81-2.81c.8-.78.8-2.07 0-2.86zM5.41 20L4 18.59l7.72-7.72 1.47 1.35L5.41 20z\"/>\n",
              "  </svg>\n",
              "      </button>\n",
              "      \n",
              "  <style>\n",
              "    .colab-df-container {\n",
              "      display:flex;\n",
              "      flex-wrap:wrap;\n",
              "      gap: 12px;\n",
              "    }\n",
              "\n",
              "    .colab-df-convert {\n",
              "      background-color: #E8F0FE;\n",
              "      border: none;\n",
              "      border-radius: 50%;\n",
              "      cursor: pointer;\n",
              "      display: none;\n",
              "      fill: #1967D2;\n",
              "      height: 32px;\n",
              "      padding: 0 0 0 0;\n",
              "      width: 32px;\n",
              "    }\n",
              "\n",
              "    .colab-df-convert:hover {\n",
              "      background-color: #E2EBFA;\n",
              "      box-shadow: 0px 1px 2px rgba(60, 64, 67, 0.3), 0px 1px 3px 1px rgba(60, 64, 67, 0.15);\n",
              "      fill: #174EA6;\n",
              "    }\n",
              "\n",
              "    [theme=dark] .colab-df-convert {\n",
              "      background-color: #3B4455;\n",
              "      fill: #D2E3FC;\n",
              "    }\n",
              "\n",
              "    [theme=dark] .colab-df-convert:hover {\n",
              "      background-color: #434B5C;\n",
              "      box-shadow: 0px 1px 3px 1px rgba(0, 0, 0, 0.15);\n",
              "      filter: drop-shadow(0px 1px 2px rgba(0, 0, 0, 0.3));\n",
              "      fill: #FFFFFF;\n",
              "    }\n",
              "  </style>\n",
              "\n",
              "      <script>\n",
              "        const buttonEl =\n",
              "          document.querySelector('#df-1941bea7-fa63-4e80-b458-ac8b62719162 button.colab-df-convert');\n",
              "        buttonEl.style.display =\n",
              "          google.colab.kernel.accessAllowed ? 'block' : 'none';\n",
              "\n",
              "        async function convertToInteractive(key) {\n",
              "          const element = document.querySelector('#df-1941bea7-fa63-4e80-b458-ac8b62719162');\n",
              "          const dataTable =\n",
              "            await google.colab.kernel.invokeFunction('convertToInteractive',\n",
              "                                                     [key], {});\n",
              "          if (!dataTable) return;\n",
              "\n",
              "          const docLinkHtml = 'Like what you see? Visit the ' +\n",
              "            '<a target=\"_blank\" href=https://colab.research.google.com/notebooks/data_table.ipynb>data table notebook</a>'\n",
              "            + ' to learn more about interactive tables.';\n",
              "          element.innerHTML = '';\n",
              "          dataTable['output_type'] = 'display_data';\n",
              "          await google.colab.output.renderOutput(dataTable, element);\n",
              "          const docLink = document.createElement('div');\n",
              "          docLink.innerHTML = docLinkHtml;\n",
              "          element.appendChild(docLink);\n",
              "        }\n",
              "      </script>\n",
              "    </div>\n",
              "  </div>\n",
              "  "
            ]
          },
          "metadata": {},
          "execution_count": 345
        }
      ]
    },
    {
      "cell_type": "code",
      "source": [
        "# Plotting the heatmap of correlation between features\n",
        "plt.figure(figsize=(15,15))\n",
        "sns.heatmap(df.corr(),annot=True);"
      ],
      "metadata": {
        "colab": {
          "base_uri": "https://localhost:8080/",
          "height": 932
        },
        "id": "P5uGGxzTmymD",
        "outputId": "216c8345-ebc1-40b1-dd82-30d2a21c1827"
      },
      "execution_count": 346,
      "outputs": [
        {
          "output_type": "display_data",
          "data": {
            "text/plain": [
              "<Figure size 1080x1080 with 2 Axes>"
            ],
            "image/png": "[encoded data removed]"
          },
          "metadata": {}
        }
      ]
    },
    {
      "cell_type": "code",
      "source": [
        "# list of numerical variables\n",
        "numerical_features = [feature for feature in df.columns if df[feature].dtypes != 'O']\n",
        "\n",
        "print('Number of numerical variables: ', len(numerical_features))\n",
        "\n",
        "# visualisizing the numerical variables\n",
        "df[numerical_features].head()"
      ],
      "metadata": {
        "colab": {
          "base_uri": "https://localhost:8080/",
          "height": 267
        },
        "id": "AnT3ci1nmZ7r",
        "outputId": "1a83b47c-8561-469c-b336-97822b8bc3f6"
      },
      "execution_count": 347,
      "outputs": [
        {
          "output_type": "stream",
          "name": "stdout",
          "text": [
            "Number of numerical variables:  15\n"
          ]
        },
        {
          "output_type": "execute_result",
          "data": {
            "text/plain": [
              "   id  Reviews_x  Price  Content Rating  Genres  Last Updated  Current Ver  \\\n",
              "0   1       1105     91               1       9           561          118   \n",
              "1   2       5571     91               1      12           481         1018   \n",
              "2   3       5339     91               1       9           116          464   \n",
              "3   4       1837     91               4     105           824         2761   \n",
              "4   5       5571     91               1     105           756          277   \n",
              "\n",
              "   Android Ver   App  Category  Rating  Reviews_y  Size  Installs  Type  \n",
              "0           15  6963         1      30       1105   324         7     1  \n",
              "1           15  2632         1      28       5571   324        19     1  \n",
              "2           15  8657         1      36       5339   262        14     1  \n",
              "3           18  7828         1      34       1837    73        17     1  \n",
              "4           20  7023         1      32       5571   324        10     1  "
            ],
            "text/html": [
              "\n",
              "  <div id=\"df-3e00f0c4-37ba-447c-bc6b-b8ece012d5d0\">\n",
              "    <div class=\"colab-df-container\">\n",
              "      <div>\n",
              "<style scoped>\n",
              "    .dataframe tbody tr th:only-of-type {\n",
              "        vertical-align: middle;\n",
              "    }\n",
              "\n",
              "    .dataframe tbody tr th {\n",
              "        vertical-align: top;\n",
              "    }\n",
              "\n",
              "    .dataframe thead th {\n",
              "        text-align: right;\n",
              "    }\n",
              "</style>\n",
              "<table border=\"1\" class=\"dataframe\">\n",
              "  <thead>\n",
              "    <tr style=\"text-align: right;\">\n",
              "      <th></th>\n",
              "      <th>id</th>\n",
              "      <th>Reviews_x</th>\n",
              "      <th>Price</th>\n",
              "      <th>Content Rating</th>\n",
              "      <th>Genres</th>\n",
              "      <th>Last Updated</th>\n",
              "      <th>Current Ver</th>\n",
              "      <th>Android Ver</th>\n",
              "      <th>App</th>\n",
              "      <th>Category</th>\n",
              "      <th>Rating</th>\n",
              "      <th>Reviews_y</th>\n",
              "      <th>Size</th>\n",
              "      <th>Installs</th>\n",
              "      <th>Type</th>\n",
              "    </tr>\n",
              "  </thead>\n",
              "  <tbody>\n",
              "    <tr>\n",
              "      <th>0</th>\n",
              "      <td>1</td>\n",
              "      <td>1105</td>\n",
              "      <td>91</td>\n",
              "      <td>1</td>\n",
              "      <td>9</td>\n",
              "      <td>561</td>\n",
              "      <td>118</td>\n",
              "      <td>15</td>\n",
              "      <td>6963</td>\n",
              "      <td>1</td>\n",
              "      <td>30</td>\n",
              "      <td>1105</td>\n",
              "      <td>324</td>\n",
              "      <td>7</td>\n",
              "      <td>1</td>\n",
              "    </tr>\n",
              "    <tr>\n",
              "      <th>1</th>\n",
              "      <td>2</td>\n",
              "      <td>5571</td>\n",
              "      <td>91</td>\n",
              "      <td>1</td>\n",
              "      <td>12</td>\n",
              "      <td>481</td>\n",
              "      <td>1018</td>\n",
              "      <td>15</td>\n",
              "      <td>2632</td>\n",
              "      <td>1</td>\n",
              "      <td>28</td>\n",
              "      <td>5571</td>\n",
              "      <td>324</td>\n",
              "      <td>19</td>\n",
              "      <td>1</td>\n",
              "    </tr>\n",
              "    <tr>\n",
              "      <th>2</th>\n",
              "      <td>3</td>\n",
              "      <td>5339</td>\n",
              "      <td>91</td>\n",
              "      <td>1</td>\n",
              "      <td>9</td>\n",
              "      <td>116</td>\n",
              "      <td>464</td>\n",
              "      <td>15</td>\n",
              "      <td>8657</td>\n",
              "      <td>1</td>\n",
              "      <td>36</td>\n",
              "      <td>5339</td>\n",
              "      <td>262</td>\n",
              "      <td>14</td>\n",
              "      <td>1</td>\n",
              "    </tr>\n",
              "    <tr>\n",
              "      <th>3</th>\n",
              "      <td>4</td>\n",
              "      <td>1837</td>\n",
              "      <td>91</td>\n",
              "      <td>4</td>\n",
              "      <td>105</td>\n",
              "      <td>824</td>\n",
              "      <td>2761</td>\n",
              "      <td>18</td>\n",
              "      <td>7828</td>\n",
              "      <td>1</td>\n",
              "      <td>34</td>\n",
              "      <td>1837</td>\n",
              "      <td>73</td>\n",
              "      <td>17</td>\n",
              "      <td>1</td>\n",
              "    </tr>\n",
              "    <tr>\n",
              "      <th>4</th>\n",
              "      <td>5</td>\n",
              "      <td>5571</td>\n",
              "      <td>91</td>\n",
              "      <td>1</td>\n",
              "      <td>105</td>\n",
              "      <td>756</td>\n",
              "      <td>277</td>\n",
              "      <td>20</td>\n",
              "      <td>7023</td>\n",
              "      <td>1</td>\n",
              "      <td>32</td>\n",
              "      <td>5571</td>\n",
              "      <td>324</td>\n",
              "      <td>10</td>\n",
              "      <td>1</td>\n",
              "    </tr>\n",
              "  </tbody>\n",
              "</table>\n",
              "</div>\n",
              "      <button class=\"colab-df-convert\" onclick=\"convertToInteractive('df-3e00f0c4-37ba-447c-bc6b-b8ece012d5d0')\"\n",
              "              title=\"Convert this dataframe to an interactive table.\"\n",
              "              style=\"display:none;\">\n",
              "        \n",
              "  <svg xmlns=\"http://www.w3.org/2000/svg\" height=\"24px\"viewBox=\"0 0 24 24\"\n",
              "       width=\"24px\">\n",
              "    <path d=\"M0 0h24v24H0V0z\" fill=\"none\"/>\n",
              "    <path d=\"M18.56 5.44l.94 2.06.94-2.06 2.06-.94-2.06-.94-.94-2.06-.94 2.06-2.06.94zm-11 1L8.5 8.5l.94-2.06 2.06-.94-2.06-.94L8.5 2.5l-.94 2.06-2.06.94zm10 10l.94 2.06.94-2.06 2.06-.94-2.06-.94-.94-2.06-.94 2.06-2.06.94z\"/><path d=\"M17.41 7.96l-1.37-1.37c-.4-.4-.92-.59-1.43-.59-.52 0-1.04.2-1.43.59L10.3 9.45l-7.72 7.72c-.78.78-.78 2.05 0 2.83L4 21.41c.39.39.9.59 1.41.59.51 0 1.02-.2 1.41-.59l7.78-7.78 2.81-2.81c.8-.78.8-2.07 0-2.86zM5.41 20L4 18.59l7.72-7.72 1.47 1.35L5.41 20z\"/>\n",
              "  </svg>\n",
              "      </button>\n",
              "      \n",
              "  <style>\n",
              "    .colab-df-container {\n",
              "      display:flex;\n",
              "      flex-wrap:wrap;\n",
              "      gap: 12px;\n",
              "    }\n",
              "\n",
              "    .colab-df-convert {\n",
              "      background-color: #E8F0FE;\n",
              "      border: none;\n",
              "      border-radius: 50%;\n",
              "      cursor: pointer;\n",
              "      display: none;\n",
              "      fill: #1967D2;\n",
              "      height: 32px;\n",
              "      padding: 0 0 0 0;\n",
              "      width: 32px;\n",
              "    }\n",
              "\n",
              "    .colab-df-convert:hover {\n",
              "      background-color: #E2EBFA;\n",
              "      box-shadow: 0px 1px 2px rgba(60, 64, 67, 0.3), 0px 1px 3px 1px rgba(60, 64, 67, 0.15);\n",
              "      fill: #174EA6;\n",
              "    }\n",
              "\n",
              "    [theme=dark] .colab-df-convert {\n",
              "      background-color: #3B4455;\n",
              "      fill: #D2E3FC;\n",
              "    }\n",
              "\n",
              "    [theme=dark] .colab-df-convert:hover {\n",
              "      background-color: #434B5C;\n",
              "      box-shadow: 0px 1px 3px 1px rgba(0, 0, 0, 0.15);\n",
              "      filter: drop-shadow(0px 1px 2px rgba(0, 0, 0, 0.3));\n",
              "      fill: #FFFFFF;\n",
              "    }\n",
              "  </style>\n",
              "\n",
              "      <script>\n",
              "        const buttonEl =\n",
              "          document.querySelector('#df-3e00f0c4-37ba-447c-bc6b-b8ece012d5d0 button.colab-df-convert');\n",
              "        buttonEl.style.display =\n",
              "          google.colab.kernel.accessAllowed ? 'block' : 'none';\n",
              "\n",
              "        async function convertToInteractive(key) {\n",
              "          const element = document.querySelector('#df-3e00f0c4-37ba-447c-bc6b-b8ece012d5d0');\n",
              "          const dataTable =\n",
              "            await google.colab.kernel.invokeFunction('convertToInteractive',\n",
              "                                                     [key], {});\n",
              "          if (!dataTable) return;\n",
              "\n",
              "          const docLinkHtml = 'Like what you see? Visit the ' +\n",
              "            '<a target=\"_blank\" href=https://colab.research.google.com/notebooks/data_table.ipynb>data table notebook</a>'\n",
              "            + ' to learn more about interactive tables.';\n",
              "          element.innerHTML = '';\n",
              "          dataTable['output_type'] = 'display_data';\n",
              "          await google.colab.output.renderOutput(dataTable, element);\n",
              "          const docLink = document.createElement('div');\n",
              "          docLink.innerHTML = docLinkHtml;\n",
              "          element.appendChild(docLink);\n",
              "        }\n",
              "      </script>\n",
              "    </div>\n",
              "  </div>\n",
              "  "
            ]
          },
          "metadata": {},
          "execution_count": 347
        }
      ]
    },
    {
      "cell_type": "code",
      "source": [
        "discrete_feature=[feature for feature in numerical_features if len(df[feature].unique())<25]\n",
        "print(\"Discrete Variables Count: {}\".format(len(discrete_feature)))\n",
        "\n",
        "discrete_feature"
      ],
      "metadata": {
        "colab": {
          "base_uri": "https://localhost:8080/"
        },
        "id": "uGhzZ0WBmeUN",
        "outputId": "4a0aaa61-47d3-41c6-ab04-9e577f747631"
      },
      "execution_count": 348,
      "outputs": [
        {
          "output_type": "stream",
          "name": "stdout",
          "text": [
            "Discrete Variables Count: 3\n"
          ]
        },
        {
          "output_type": "execute_result",
          "data": {
            "text/plain": [
              "['Content Rating', 'Installs', 'Type']"
            ]
          },
          "metadata": {},
          "execution_count": 348
        }
      ]
    },
    {
      "cell_type": "code",
      "source": [
        "continuous_feature=[feature for feature in numerical_features if feature not in discrete_feature]\n",
        "print(\"Continuous feature Count {}\".format(len(continuous_feature)))\n",
        "\n",
        "continuous_feature"
      ],
      "metadata": {
        "colab": {
          "base_uri": "https://localhost:8080/"
        },
        "id": "vDttU30imheZ",
        "outputId": "b667b88e-d876-4711-fd5c-bbdc20d707c3"
      },
      "execution_count": 349,
      "outputs": [
        {
          "output_type": "stream",
          "name": "stdout",
          "text": [
            "Continuous feature Count 12\n"
          ]
        },
        {
          "output_type": "execute_result",
          "data": {
            "text/plain": [
              "['id',\n",
              " 'Reviews_x',\n",
              " 'Price',\n",
              " 'Genres',\n",
              " 'Last Updated',\n",
              " 'Current Ver',\n",
              " 'Android Ver',\n",
              " 'App',\n",
              " 'Category',\n",
              " 'Rating',\n",
              " 'Reviews_y',\n",
              " 'Size']"
            ]
          },
          "metadata": {},
          "execution_count": 349
        }
      ]
    },
    {
      "cell_type": "code",
      "source": [
        "df = df.drop('id', axis=1)"
      ],
      "metadata": {
        "id": "Xt-nxgehmmay"
      },
      "execution_count": 350,
      "outputs": []
    },
    {
      "cell_type": "code",
      "source": [
        "fig, ax = plt.subplots(figsize=(25, 15))\n",
        "sns.set_style('whitegrid')\n",
        "sns.countplot(x='Installs',data=df,ax=ax)"
      ],
      "metadata": {
        "colab": {
          "base_uri": "https://localhost:8080/",
          "height": 692
        },
        "id": "dzWq9JdeIReM",
        "outputId": "1f7d99de-d819-4294-dc08-21277faa9981"
      },
      "execution_count": 351,
      "outputs": [
        {
          "output_type": "execute_result",
          "data": {
            "text/plain": [
              "<AxesSubplot:xlabel='Installs', ylabel='count'>"
            ]
          },
          "metadata": {},
          "execution_count": 351
        },
        {
          "output_type": "display_data",
          "data": {
            "text/plain": [
              "<Figure size 1800x1080 with 1 Axes>"
            ],
            "image/png": "[encoded data removed]"
          },
          "metadata": {}
        }
      ]
    },
    {
      "cell_type": "code",
      "source": [
        "fig, ax = plt.subplots(figsize=(10, 10))\n",
        "sns.set_style('whitegrid')\n",
        "sns.countplot(x='Price',data=df,ax=ax)"
      ],
      "metadata": {
        "colab": {
          "base_uri": "https://localhost:8080/",
          "height": 623
        },
        "id": "H0NkKEwmJqUd",
        "outputId": "adbdb35b-497e-4be5-f0cd-4ee4f5f25c0b"
      },
      "execution_count": 352,
      "outputs": [
        {
          "output_type": "execute_result",
          "data": {
            "text/plain": [
              "<AxesSubplot:xlabel='Price', ylabel='count'>"
            ]
          },
          "metadata": {},
          "execution_count": 352
        },
        {
          "output_type": "display_data",
          "data": {
            "text/plain": [
              "<Figure size 720x720 with 1 Axes>"
            ],
            "image/png": "[encoded data removed]"
          },
          "metadata": {}
        }
      ]
    },
    {
      "cell_type": "code",
      "source": [
        "# Histograms of each feature\n",
        "for feature in df.columns:\n",
        "    sns.displot(df[feature], kde=True)\n",
        "    plt.title(feature)\n",
        "    plt.show()"
      ],
      "metadata": {
        "colab": {
          "base_uri": "https://localhost:8080/",
          "height": 1000
        },
        "id": "b-Ivm5r4mpxn",
        "outputId": "57bf72f7-9064-4a50-dce8-b097f2ecd708"
      },
      "execution_count": 353,
      "outputs": [
        {
          "output_type": "display_data",
          "data": {
            "text/plain": [
              "<Figure size 360x360 with 1 Axes>"
            ],
            "image/png": "[encoded data removed]"
          },
          "metadata": {}
        },
        {
          "output_type": "display_data",
          "data": {
            "text/plain": [
              "<Figure size 360x360 with 1 Axes>"
            ],
            "image/png": "[encoded data removed]"
          },
          "metadata": {}
        },
        {
          "output_type": "display_data",
          "data": {
            "text/plain": [
              "<Figure size 360x360 with 1 Axes>"
            ],
            "image/png": "[encoded data removed]"
          },
          "metadata": {}
        },
        {
          "output_type": "display_data",
          "data": {
            "text/plain": [
              "<Figure size 360x360 with 1 Axes>"
            ],
            "image/png": "[encoded data removed]"
          },
          "metadata": {}
        },
        {
          "output_type": "display_data",
          "data": {
            "text/plain": [
              "<Figure size 360x360 with 1 Axes>"
            ],
            "image/png": "[encoded data removed]"
          },
          "metadata": {}
        },
        {
          "output_type": "display_data",
          "data": {
            "text/plain": [
              "<Figure size 360x360 with 1 Axes>"
            ],
            "image/png": "[encoded data removed]"
          },
          "metadata": {}
        },
        {
          "output_type": "display_data",
          "data": {
            "text/plain": [
              "<Figure size 360x360 with 1 Axes>"
            ],
            "image/png": "[encoded data removed]"
          },
          "metadata": {}
        },
        {
          "output_type": "display_data",
          "data": {
            "text/plain": [
              "<Figure size 360x360 with 1 Axes>"
            ],
            "image/png": "[encoded data removed]"
          },
          "metadata": {}
        },
        {
          "output_type": "display_data",
          "data": {
            "text/plain": [
              "<Figure size 360x360 with 1 Axes>"
            ],
            "image/png": "[encoded data removed]"
          },
          "metadata": {}
        },
        {
          "output_type": "display_data",
          "data": {
            "text/plain": [
              "<Figure size 360x360 with 1 Axes>"
            ],
            "image/png": "[encoded data removed]"
          },
          "metadata": {}
        },
        {
          "output_type": "display_data",
          "data": {
            "text/plain": [
              "<Figure size 360x360 with 1 Axes>"
            ],
            "image/png": "[encoded data removed]"
          },
          "metadata": {}
        },
        {
          "output_type": "display_data",
          "data": {
            "text/plain": [
              "<Figure size 360x360 with 1 Axes>"
            ],
            "image/png": "[encoded data removed]"
          },
          "metadata": {}
        },
        {
          "output_type": "display_data",
          "data": {
            "text/plain": [
              "<Figure size 360x360 with 1 Axes>"
            ],
            "image/png": "[encoded data removed]"
          },
          "metadata": {}
        },
        {
          "output_type": "display_data",
          "data": {
            "text/plain": [
              "<Figure size 360x360 with 1 Axes>"
            ],
            "image/png": "[encoded data removed]"
          },
          "metadata": {}
        }
      ]
    },
    {
      "cell_type": "code",
      "source": [
        "df['Price'].value_counts()"
      ],
      "metadata": {
        "colab": {
          "base_uri": "https://localhost:8080/"
        },
        "id": "Gn0S7O3Gokbh",
        "outputId": "2e1a1e46-3674-487d-9a42-ba4829edd9b7"
      },
      "execution_count": 354,
      "outputs": [
        {
          "output_type": "execute_result",
          "data": {
            "text/plain": [
              "91    9432\n",
              "0      147\n",
              "41     129\n",
              "15      73\n",
              "74      72\n",
              "      ... \n",
              "31       1\n",
              "11       1\n",
              "22       1\n",
              "73       1\n",
              "2        1\n",
              "Name: Price, Length: 93, dtype: int64"
            ]
          },
          "metadata": {},
          "execution_count": 354
        }
      ]
    },
    {
      "cell_type": "code",
      "source": [
        "df.dtypes"
      ],
      "metadata": {
        "colab": {
          "base_uri": "https://localhost:8080/"
        },
        "id": "hfOiRYX6sNFZ",
        "outputId": "e37ab450-3ebf-4e86-98af-e079046cf86b"
      },
      "execution_count": 355,
      "outputs": [
        {
          "output_type": "execute_result",
          "data": {
            "text/plain": [
              "Reviews_x         int64\n",
              "Price             int64\n",
              "Content Rating    int64\n",
              "Genres            int64\n",
              "Last Updated      int64\n",
              "Current Ver       int64\n",
              "Android Ver       int64\n",
              "App               int64\n",
              "Category          int64\n",
              "Rating            int64\n",
              "Reviews_y         int64\n",
              "Size              int64\n",
              "Installs          int64\n",
              "Type              int64\n",
              "dtype: object"
            ]
          },
          "metadata": {},
          "execution_count": 355
        }
      ]
    },
    {
      "cell_type": "code",
      "source": [
        "# Boxplots of each feature\n",
        "for feature in df.columns:\n",
        "  sns.boxplot(df[feature])\n",
        "  plt.title(feature)\n",
        "  plt.show()"
      ],
      "metadata": {
        "colab": {
          "base_uri": "https://localhost:8080/",
          "height": 1000
        },
        "id": "iynBnXnao2wE",
        "outputId": "fe827bfa-e90a-4ce1-c848-d303fa464316"
      },
      "execution_count": 356,
      "outputs": [
        {
          "output_type": "stream",
          "name": "stderr",
          "text": [
            "/usr/local/lib/python3.9/dist-packages/seaborn/_decorators.py:36: FutureWarning: Pass the following variable as a keyword arg: x. From version 0.12, the only valid positional argument will be `data`, and passing other arguments without an explicit keyword will result in an error or misinterpretation.\n",
            "  warnings.warn(\n"
          ]
        },
        {
          "output_type": "display_data",
          "data": {
            "text/plain": [
              "<Figure size 432x288 with 1 Axes>"
            ],
            "image/png": "[encoded data removed]"
          },
          "metadata": {}
        },
        {
          "output_type": "stream",
          "name": "stderr",
          "text": [
            "/usr/local/lib/python3.9/dist-packages/seaborn/_decorators.py:36: FutureWarning: Pass the following variable as a keyword arg: x. From version 0.12, the only valid positional argument will be `data`, and passing other arguments without an explicit keyword will result in an error or misinterpretation.\n",
            "  warnings.warn(\n"
          ]
        },
        {
          "output_type": "display_data",
          "data": {
            "text/plain": [
              "<Figure size 432x288 with 1 Axes>"
            ],
            "image/png": "[encoded data removed]"
          },
          "metadata": {}
        },
        {
          "output_type": "stream",
          "name": "stderr",
          "text": [
            "/usr/local/lib/python3.9/dist-packages/seaborn/_decorators.py:36: FutureWarning: Pass the following variable as a keyword arg: x. From version 0.12, the only valid positional argument will be `data`, and passing other arguments without an explicit keyword will result in an error or misinterpretation.\n",
            "  warnings.warn(\n"
          ]
        },
        {
          "output_type": "display_data",
          "data": {
            "text/plain": [
              "<Figure size 432x288 with 1 Axes>"
            ],
            "image/png": "[encoded data removed]"
          },
          "metadata": {}
        },
        {
          "output_type": "stream",
          "name": "stderr",
          "text": [
            "/usr/local/lib/python3.9/dist-packages/seaborn/_decorators.py:36: FutureWarning: Pass the following variable as a keyword arg: x. From version 0.12, the only valid positional argument will be `data`, and passing other arguments without an explicit keyword will result in an error or misinterpretation.\n",
            "  warnings.warn(\n"
          ]
        },
        {
          "output_type": "display_data",
          "data": {
            "text/plain": [
              "<Figure size 432x288 with 1 Axes>"
            ],
            "image/png": "[encoded data removed]"
          },
          "metadata": {}
        },
        {
          "output_type": "stream",
          "name": "stderr",
          "text": [
            "/usr/local/lib/python3.9/dist-packages/seaborn/_decorators.py:36: FutureWarning: Pass the following variable as a keyword arg: x. From version 0.12, the only valid positional argument will be `data`, and passing other arguments without an explicit keyword will result in an error or misinterpretation.\n",
            "  warnings.warn(\n"
          ]
        },
        {
          "output_type": "display_data",
          "data": {
            "text/plain": [
              "<Figure size 432x288 with 1 Axes>"
            ],
            "image/png": "[encoded data removed]"
          },
          "metadata": {}
        },
        {
          "output_type": "stream",
          "name": "stderr",
          "text": [
            "/usr/local/lib/python3.9/dist-packages/seaborn/_decorators.py:36: FutureWarning: Pass the following variable as a keyword arg: x. From version 0.12, the only valid positional argument will be `data`, and passing other arguments without an explicit keyword will result in an error or misinterpretation.\n",
            "  warnings.warn(\n"
          ]
        },
        {
          "output_type": "display_data",
          "data": {
            "text/plain": [
              "<Figure size 432x288 with 1 Axes>"
            ],
            "image/png": "[encoded data removed]"
          },
          "metadata": {}
        },
        {
          "output_type": "stream",
          "name": "stderr",
          "text": [
            "/usr/local/lib/python3.9/dist-packages/seaborn/_decorators.py:36: FutureWarning: Pass the following variable as a keyword arg: x. From version 0.12, the only valid positional argument will be `data`, and passing other arguments without an explicit keyword will result in an error or misinterpretation.\n",
            "  warnings.warn(\n"
          ]
        },
        {
          "output_type": "display_data",
          "data": {
            "text/plain": [
              "<Figure size 432x288 with 1 Axes>"
            ],
            "image/png": "[encoded data removed]"
          },
          "metadata": {}
        },
        {
          "output_type": "stream",
          "name": "stderr",
          "text": [
            "/usr/local/lib/python3.9/dist-packages/seaborn/_decorators.py:36: FutureWarning: Pass the following variable as a keyword arg: x. From version 0.12, the only valid positional argument will be `data`, and passing other arguments without an explicit keyword will result in an error or misinterpretation.\n",
            "  warnings.warn(\n"
          ]
        },
        {
          "output_type": "display_data",
          "data": {
            "text/plain": [
              "<Figure size 432x288 with 1 Axes>"
            ],
            "image/png": "[encoded data removed]"
          },
          "metadata": {}
        },
        {
          "output_type": "stream",
          "name": "stderr",
          "text": [
            "/usr/local/lib/python3.9/dist-packages/seaborn/_decorators.py:36: FutureWarning: Pass the following variable as a keyword arg: x. From version 0.12, the only valid positional argument will be `data`, and passing other arguments without an explicit keyword will result in an error or misinterpretation.\n",
            "  warnings.warn(\n"
          ]
        },
        {
          "output_type": "display_data",
          "data": {
            "text/plain": [
              "<Figure size 432x288 with 1 Axes>"
            ],
            "image/png": "[encoded data removed]"
          },
          "metadata": {}
        },
        {
          "output_type": "stream",
          "name": "stderr",
          "text": [
            "/usr/local/lib/python3.9/dist-packages/seaborn/_decorators.py:36: FutureWarning: Pass the following variable as a keyword arg: x. From version 0.12, the only valid positional argument will be `data`, and passing other arguments without an explicit keyword will result in an error or misinterpretation.\n",
            "  warnings.warn(\n"
          ]
        },
        {
          "output_type": "display_data",
          "data": {
            "text/plain": [
              "<Figure size 432x288 with 1 Axes>"
            ],
            "image/png": "[encoded data removed]"
          },
          "metadata": {}
        },
        {
          "output_type": "stream",
          "name": "stderr",
          "text": [
            "/usr/local/lib/python3.9/dist-packages/seaborn/_decorators.py:36: FutureWarning: Pass the following variable as a keyword arg: x. From version 0.12, the only valid positional argument will be `data`, and passing other arguments without an explicit keyword will result in an error or misinterpretation.\n",
            "  warnings.warn(\n"
          ]
        },
        {
          "output_type": "display_data",
          "data": {
            "text/plain": [
              "<Figure size 432x288 with 1 Axes>"
            ],
            "image/png": "[encoded data removed]"
          },
          "metadata": {}
        },
        {
          "output_type": "stream",
          "name": "stderr",
          "text": [
            "/usr/local/lib/python3.9/dist-packages/seaborn/_decorators.py:36: FutureWarning: Pass the following variable as a keyword arg: x. From version 0.12, the only valid positional argument will be `data`, and passing other arguments without an explicit keyword will result in an error or misinterpretation.\n",
            "  warnings.warn(\n"
          ]
        },
        {
          "output_type": "display_data",
          "data": {
            "text/plain": [
              "<Figure size 432x288 with 1 Axes>"
            ],
            "image/png": "[encoded data removed]"
          },
          "metadata": {}
        },
        {
          "output_type": "stream",
          "name": "stderr",
          "text": [
            "/usr/local/lib/python3.9/dist-packages/seaborn/_decorators.py:36: FutureWarning: Pass the following variable as a keyword arg: x. From version 0.12, the only valid positional argument will be `data`, and passing other arguments without an explicit keyword will result in an error or misinterpretation.\n",
            "  warnings.warn(\n"
          ]
        },
        {
          "output_type": "display_data",
          "data": {
            "text/plain": [
              "<Figure size 432x288 with 1 Axes>"
            ],
            "image/png": "[encoded data removed]"
          },
          "metadata": {}
        },
        {
          "output_type": "stream",
          "name": "stderr",
          "text": [
            "/usr/local/lib/python3.9/dist-packages/seaborn/_decorators.py:36: FutureWarning: Pass the following variable as a keyword arg: x. From version 0.12, the only valid positional argument will be `data`, and passing other arguments without an explicit keyword will result in an error or misinterpretation.\n",
            "  warnings.warn(\n"
          ]
        },
        {
          "output_type": "display_data",
          "data": {
            "text/plain": [
              "<Figure size 432x288 with 1 Axes>"
            ],
            "image/png": "[encoded data removed]"
          },
          "metadata": {}
        }
      ]
    },
    {
      "cell_type": "code",
      "source": [
        "\n",
        "# Identify the columns with potential outliers\n",
        "outlier_cols = ['Type','Rating','Android Ver','Content Rating','Price']\n",
        "\n",
        "# Replace outliers with the upper and lower bounds\n",
        "for col in outlier_cols:\n",
        "    q1 = df[col].quantile(0.25)\n",
        "    q3 = df[col].quantile(0.75)\n",
        "    iqr = q3 - q1\n",
        "    upper_bound = q3 + 1.5*iqr\n",
        "    lower_bound = q1 - 1.5*iqr\n",
        "    df[col] = np.where(df[col] > upper_bound, upper_bound, df[col])\n",
        "    df[col] = np.where(df[col] < lower_bound, lower_bound, df[col])"
      ],
      "metadata": {
        "id": "vekDl3SVpHYi"
      },
      "execution_count": 357,
      "outputs": []
    },
    {
      "cell_type": "code",
      "source": [
        "# Boxplots of each feature\n",
        "for feature in df.columns:\n",
        "  sns.boxplot(df[feature])\n",
        "  plt.title(feature)\n",
        "  plt.show()"
      ],
      "metadata": {
        "colab": {
          "base_uri": "https://localhost:8080/",
          "height": 1000
        },
        "id": "p7mvZUHUs5hB",
        "outputId": "e1b0dd8a-8982-4381-86dd-a5f24de983c1"
      },
      "execution_count": 358,
      "outputs": [
        {
          "output_type": "stream",
          "name": "stderr",
          "text": [
            "/usr/local/lib/python3.9/dist-packages/seaborn/_decorators.py:36: FutureWarning: Pass the following variable as a keyword arg: x. From version 0.12, the only valid positional argument will be `data`, and passing other arguments without an explicit keyword will result in an error or misinterpretation.\n",
            "  warnings.warn(\n"
          ]
        },
        {
          "output_type": "display_data",
          "data": {
            "text/plain": [
              "<Figure size 432x288 with 1 Axes>"
            ],
            "image/png": "[encoded data removed]"
          },
          "metadata": {}
        },
        {
          "output_type": "stream",
          "name": "stderr",
          "text": [
            "/usr/local/lib/python3.9/dist-packages/seaborn/_decorators.py:36: FutureWarning: Pass the following variable as a keyword arg: x. From version 0.12, the only valid positional argument will be `data`, and passing other arguments without an explicit keyword will result in an error or misinterpretation.\n",
            "  warnings.warn(\n"
          ]
        },
        {
          "output_type": "display_data",
          "data": {
            "text/plain": [
              "<Figure size 432x288 with 1 Axes>"
            ],
            "image/png": "[encoded data removed]"
          },
          "metadata": {}
        },
        {
          "output_type": "stream",
          "name": "stderr",
          "text": [
            "/usr/local/lib/python3.9/dist-packages/seaborn/_decorators.py:36: FutureWarning: Pass the following variable as a keyword arg: x. From version 0.12, the only valid positional argument will be `data`, and passing other arguments without an explicit keyword will result in an error or misinterpretation.\n",
            "  warnings.warn(\n"
          ]
        },
        {
          "output_type": "display_data",
          "data": {
            "text/plain": [
              "<Figure size 432x288 with 1 Axes>"
            ],
            "image/png": "[encoded data removed]"
          },
          "metadata": {}
        },
        {
          "output_type": "stream",
          "name": "stderr",
          "text": [
            "/usr/local/lib/python3.9/dist-packages/seaborn/_decorators.py:36: FutureWarning: Pass the following variable as a keyword arg: x. From version 0.12, the only valid positional argument will be `data`, and passing other arguments without an explicit keyword will result in an error or misinterpretation.\n",
            "  warnings.warn(\n"
          ]
        },
        {
          "output_type": "display_data",
          "data": {
            "text/plain": [
              "<Figure size 432x288 with 1 Axes>"
            ],
            "image/png": "[encoded data removed]"
          },
          "metadata": {}
        },
        {
          "output_type": "stream",
          "name": "stderr",
          "text": [
            "/usr/local/lib/python3.9/dist-packages/seaborn/_decorators.py:36: FutureWarning: Pass the following variable as a keyword arg: x. From version 0.12, the only valid positional argument will be `data`, and passing other arguments without an explicit keyword will result in an error or misinterpretation.\n",
            "  warnings.warn(\n"
          ]
        },
        {
          "output_type": "display_data",
          "data": {
            "text/plain": [
              "<Figure size 432x288 with 1 Axes>"
            ],
            "image/png": "[encoded data removed]"
          },
          "metadata": {}
        },
        {
          "output_type": "stream",
          "name": "stderr",
          "text": [
            "/usr/local/lib/python3.9/dist-packages/seaborn/_decorators.py:36: FutureWarning: Pass the following variable as a keyword arg: x. From version 0.12, the only valid positional argument will be `data`, and passing other arguments without an explicit keyword will result in an error or misinterpretation.\n",
            "  warnings.warn(\n"
          ]
        },
        {
          "output_type": "display_data",
          "data": {
            "text/plain": [
              "<Figure size 432x288 with 1 Axes>"
            ],
            "image/png": "[encoded data removed]"
          },
          "metadata": {}
        },
        {
          "output_type": "stream",
          "name": "stderr",
          "text": [
            "/usr/local/lib/python3.9/dist-packages/seaborn/_decorators.py:36: FutureWarning: Pass the following variable as a keyword arg: x. From version 0.12, the only valid positional argument will be `data`, and passing other arguments without an explicit keyword will result in an error or misinterpretation.\n",
            "  warnings.warn(\n"
          ]
        },
        {
          "output_type": "display_data",
          "data": {
            "text/plain": [
              "<Figure size 432x288 with 1 Axes>"
            ],
            "image/png": "[encoded data removed]"
          },
          "metadata": {}
        },
        {
          "output_type": "stream",
          "name": "stderr",
          "text": [
            "/usr/local/lib/python3.9/dist-packages/seaborn/_decorators.py:36: FutureWarning: Pass the following variable as a keyword arg: x. From version 0.12, the only valid positional argument will be `data`, and passing other arguments without an explicit keyword will result in an error or misinterpretation.\n",
            "  warnings.warn(\n"
          ]
        },
        {
          "output_type": "display_data",
          "data": {
            "text/plain": [
              "<Figure size 432x288 with 1 Axes>"
            ],
            "image/png": "[encoded data removed]"
          },
          "metadata": {}
        },
        {
          "output_type": "stream",
          "name": "stderr",
          "text": [
            "/usr/local/lib/python3.9/dist-packages/seaborn/_decorators.py:36: FutureWarning: Pass the following variable as a keyword arg: x. From version 0.12, the only valid positional argument will be `data`, and passing other arguments without an explicit keyword will result in an error or misinterpretation.\n",
            "  warnings.warn(\n"
          ]
        },
        {
          "output_type": "display_data",
          "data": {
            "text/plain": [
              "<Figure size 432x288 with 1 Axes>"
            ],
            "image/png": "[encoded data removed]"
          },
          "metadata": {}
        },
        {
          "output_type": "stream",
          "name": "stderr",
          "text": [
            "/usr/local/lib/python3.9/dist-packages/seaborn/_decorators.py:36: FutureWarning: Pass the following variable as a keyword arg: x. From version 0.12, the only valid positional argument will be `data`, and passing other arguments without an explicit keyword will result in an error or misinterpretation.\n",
            "  warnings.warn(\n"
          ]
        },
        {
          "output_type": "display_data",
          "data": {
            "text/plain": [
              "<Figure size 432x288 with 1 Axes>"
            ],
            "image/png": "[encoded data removed]"
          },
          "metadata": {}
        },
        {
          "output_type": "stream",
          "name": "stderr",
          "text": [
            "/usr/local/lib/python3.9/dist-packages/seaborn/_decorators.py:36: FutureWarning: Pass the following variable as a keyword arg: x. From version 0.12, the only valid positional argument will be `data`, and passing other arguments without an explicit keyword will result in an error or misinterpretation.\n",
            "  warnings.warn(\n"
          ]
        },
        {
          "output_type": "display_data",
          "data": {
            "text/plain": [
              "<Figure size 432x288 with 1 Axes>"
            ],
            "image/png": "[encoded data removed]"
          },
          "metadata": {}
        },
        {
          "output_type": "stream",
          "name": "stderr",
          "text": [
            "/usr/local/lib/python3.9/dist-packages/seaborn/_decorators.py:36: FutureWarning: Pass the following variable as a keyword arg: x. From version 0.12, the only valid positional argument will be `data`, and passing other arguments without an explicit keyword will result in an error or misinterpretation.\n",
            "  warnings.warn(\n"
          ]
        },
        {
          "output_type": "display_data",
          "data": {
            "text/plain": [
              "<Figure size 432x288 with 1 Axes>"
            ],
            "image/png": "[encoded data removed]"
          },
          "metadata": {}
        },
        {
          "output_type": "stream",
          "name": "stderr",
          "text": [
            "/usr/local/lib/python3.9/dist-packages/seaborn/_decorators.py:36: FutureWarning: Pass the following variable as a keyword arg: x. From version 0.12, the only valid positional argument will be `data`, and passing other arguments without an explicit keyword will result in an error or misinterpretation.\n",
            "  warnings.warn(\n"
          ]
        },
        {
          "output_type": "display_data",
          "data": {
            "text/plain": [
              "<Figure size 432x288 with 1 Axes>"
            ],
            "image/png": "[encoded data removed]"
          },
          "metadata": {}
        },
        {
          "output_type": "stream",
          "name": "stderr",
          "text": [
            "/usr/local/lib/python3.9/dist-packages/seaborn/_decorators.py:36: FutureWarning: Pass the following variable as a keyword arg: x. From version 0.12, the only valid positional argument will be `data`, and passing other arguments without an explicit keyword will result in an error or misinterpretation.\n",
            "  warnings.warn(\n"
          ]
        },
        {
          "output_type": "display_data",
          "data": {
            "text/plain": [
              "<Figure size 432x288 with 1 Axes>"
            ],
            "image/png": "[encoded data removed]"
          },
          "metadata": {}
        }
      ]
    },
    {
      "cell_type": "code",
      "source": [
        "column_s = ['Reviews_x' 'Price', 'Content Rating', 'Genres', 'Last Updated',\n",
        "       'Current Ver', 'Android Ver', 'App', 'Category', 'Rating',\n",
        "       'Size', 'Installs']\n",
        "\n",
        "# normalize numerical features\n",
        "from sklearn.preprocessing import MinMaxScaler\n",
        "\n",
        "scaler = MinMaxScaler()\n",
        "df[[\"Price\", \"Installs\", \"App\", \"Genres\", \"Category\", \"Rating\",\"Reviews_x\"]] = scaler.fit_transform(df[[\"Price\", \"Installs\", \"App\", \"Genres\", \"Category\", \"Rating\",\"Reviews_x\"]])\n",
        "\n",
        "X = df.iloc[:, :-1].values\n",
        "y = df.iloc[:, -1].values.reshape(-1,1)\n"
      ],
      "metadata": {
        "id": "cVpw8DvsvK5Z"
      },
      "execution_count": 359,
      "outputs": []
    },
    {
      "cell_type": "code",
      "source": [
        "from sklearn.model_selection import train_test_split\n",
        "\n",
        "X_train,X_test,y_train,y_test=train_test_split(X,y,test_size=.30,random_state=42)"
      ],
      "metadata": {
        "id": "CT31ubXOTOBy"
      },
      "execution_count": 360,
      "outputs": []
    },
    {
      "cell_type": "code",
      "source": [
        "import numpy as np\n",
        "\n",
        "class DecisionTreeRegressor:\n",
        "    def __init__(self, max_depth=None, min_samples_split=2):\n",
        "        self.max_depth = max_depth\n",
        "        self.min_samples_split = min_samples_split\n",
        "        self.tree = None\n",
        "\n",
        "    def mean_squared_error(self, y):\n",
        "        return np.mean((y - np.mean(y)) ** 2)\n",
        "\n",
        "    def split_data(self, X, y, feature_idx, threshold):\n",
        "        left_mask = X[:, feature_idx] <= threshold\n",
        "        right_mask = X[:, feature_idx] > threshold\n",
        "        X_left, y_left = X[left_mask], y[left_mask]\n",
        "        X_right, y_right = X[right_mask], y[right_mask]\n",
        "        return X_left, y_left, X_right, y_right\n",
        "\n",
        "    def find_best_split(self, X, y):\n",
        "        best_feature_idx, best_threshold, best_mse = None, None, np.inf\n",
        "        for feature_idx in range(X.shape[1]):\n",
        "            for threshold in np.unique(X[:, feature_idx]):\n",
        "                X_left, y_left, X_right, y_right = self.split_data(X, y, feature_idx, threshold)\n",
        "                if len(y_left) < self.min_samples_split or len(y_right) < self.min_samples_split:\n",
        "                    continue\n",
        "                mse_left, mse_right = self.mean_squared_error(y_left), self.mean_squared_error(y_right)\n",
        "                mse = mse_left + mse_right\n",
        "                if mse < best_mse:\n",
        "                    best_feature_idx, best_threshold, best_mse = feature_idx, threshold, mse\n",
        "        return best_feature_idx, best_threshold, best_mse\n",
        "\n",
        "    def build_tree(self, X, y, depth):\n",
        "        if depth == self.max_depth or len(y) < self.min_samples_split:\n",
        "            return np.mean(y)\n",
        "        feature_idx, threshold, mse = self.find_best_split(X, y)\n",
        "        if mse == np.inf:\n",
        "            return np.mean(y)\n",
        "        X_left, y_left, X_right, y_right = self.split_data(X, y, feature_idx, threshold)\n",
        "        left_node = self.build_tree(X_left, y_left, depth + 1)\n",
        "        right_node = self.build_tree(X_right, y_right, depth + 1)\n",
        "        return {\"feature_idx\": feature_idx, \"threshold\": threshold, \"left_node\": left_node, \"right_node\": right_node}\n",
        "\n",
        "    def fit(self, X, y):\n",
        "        self.tree = self.build_tree(X, y, 0)\n",
        "\n",
        "    def predict(self, X):\n",
        "        def predict_row(row, node):\n",
        "            if isinstance(node, float):\n",
        "                return node\n",
        "            if row[node[\"feature_idx\"]] <= node[\"threshold\"]:\n",
        "                return predict_row(row, node[\"left_node\"])\n",
        "            else:\n",
        "                return predict_row(row, node[\"right_node\"])\n",
        "        return np.array([predict_row(row, self.tree) for row in X])\n",
        "    def mean_squared_errorr(self,y_true, y_pred):\n",
        "   \n",
        "      # Check if the lengths of both arrays are equal\n",
        "      if len(y_true) != len(y_pred):\n",
        "          raise ValueError(\"Length of y_true and y_pred should be the same.\")\n",
        "      \n",
        "      # Calculate the squared differences between the true and predicted values\n",
        "      squared_differences = [(y_true[i] - y_pred[i])**2 for i in range(len(y_true))]\n",
        "      \n",
        "      # Calculate the mean of the squared differences\n",
        "      mse = sum(squared_differences) / len(squared_differences)\n",
        "      \n",
        "      return mse"
      ],
      "metadata": {
        "id": "-pdhlDSQEURb"
      },
      "execution_count": 361,
      "outputs": []
    },
    {
      "cell_type": "code",
      "source": [
        "class Node():\n",
        "    def __init__(self, feature_index=None, threshold=None, left=None, right=None, var_red=None, value=None):\n",
        "        ''' constructor ''' \n",
        "        \n",
        "        # for decision node\n",
        "        self.feature_index = feature_index\n",
        "        self.threshold = threshold\n",
        "        self.left = left\n",
        "        self.right = right\n",
        "        self.var_red = var_red\n",
        "        \n",
        "        # for leaf node\n",
        "        self.value = value"
      ],
      "metadata": {
        "id": "ueE2EXy7EYv3"
      },
      "execution_count": 362,
      "outputs": []
    },
    {
      "cell_type": "code",
      "source": [
        "import numpy as np\n",
        "\n",
        "class RandomForestRegressor:\n",
        "    def __init__(self, n_estimators=100, max_depth=None, min_samples_split=2):\n",
        "        self.n_estimators = n_estimators\n",
        "        self.max_depth = max_depth\n",
        "        self.min_samples_split = min_samples_split\n",
        "      \n",
        "       \n",
        "        self.trees = []\n",
        "\n",
        "    def fit(self, X, y):\n",
        "     \n",
        "          for i in range(self.n_estimators):\n",
        "            \n",
        "                indices = np.random.choice(X.shape[0], size=X.shape[0], replace=True)\n",
        "                X_subset = X[indices]\n",
        "                y_subset = y[indices]\n",
        "                tree = DecisionTreeRegressor(max_depth=self.max_depth, \n",
        "                                              min_samples_split=self.min_samples_split\n",
        "                                             \n",
        "                                              )\n",
        "                tree.fit(X_subset, y_subset)\n",
        "                self.trees.append(tree)\n",
        "    def predict(self, X):\n",
        "        y_preds = np.zeros((X.shape[0], len(self.trees)))\n",
        "        for i, tree in enumerate(self.trees):\n",
        "            y_preds[:, i] = tree.predict(X)\n",
        "        return np.mean(y_preds, axis=1)            \n",
        "    def mean_squared_error(self,y_true, y_pred):\n",
        "   \n",
        "      # Check if the lengths of both arrays are equal\n",
        "      if len(y_true) != len(y_pred):\n",
        "          raise ValueError(\"Length of y_true and y_pred should be the same.\")\n",
        "      \n",
        "      # Calculate the squared differences between the true and predicted values\n",
        "      squared_differences = [(y_true[i] - y_pred[i])**2 for i in range(len(y_true))]\n",
        "      \n",
        "      # Calculate the mean of the squared differences\n",
        "      mse = sum(squared_differences) / len(squared_differences)\n",
        "      \n",
        "      return mse\n",
        "    \n",
        "    \n",
        "  \n"
      ],
      "metadata": {
        "id": "AAF0q6kHEbof"
      },
      "execution_count": 363,
      "outputs": []
    },
    {
      "cell_type": "code",
      "source": [
        "regressor = RandomForestRegressor(n_estimators=10, max_depth=4, min_samples_split=2)\n",
        "regressor.fit(X_train,y_train)"
      ],
      "metadata": {
        "id": "zlu3GIRotrZx"
      },
      "execution_count": 364,
      "outputs": []
    },
    {
      "cell_type": "code",
      "source": [
        "y_pred = regressor.predict(X_test)"
      ],
      "metadata": {
        "id": "lxIn0tlW6eL5"
      },
      "execution_count": 365,
      "outputs": []
    },
    {
      "cell_type": "code",
      "source": [
        "y_pred"
      ],
      "metadata": {
        "colab": {
          "base_uri": "https://localhost:8080/"
        },
        "id": "clmAPjfqB5NO",
        "outputId": "c8443a3e-c0f1-4116-a6a7-caffc2da1555"
      },
      "execution_count": 366,
      "outputs": [
        {
          "output_type": "execute_result",
          "data": {
            "text/plain": [
              "array([1., 1., 1., ..., 1., 1., 1.])"
            ]
          },
          "metadata": {},
          "execution_count": 366
        }
      ]
    },
    {
      "cell_type": "code",
      "source": [
        "import numpy as np\n",
        "def mean_squared_error(y_true, y_pred):\n",
        "    \"\"\"\n",
        "    Calculates the mean squared error between y_true and y_pred.\n",
        "    :param y_true: A list or array of true values\n",
        "    :param y_pred: A list or array of predicted values\n",
        "    :return: The mean squared error between y_true and y_pred\n",
        "    \"\"\"\n",
        "    # Get the length of the arrays\n",
        "    n = len(y_true)\n",
        "    \n",
        "    # Calculate the sum of squared differences\n",
        "    sum_squared_diff = sum((y_true[i] - y_pred[i])**2 for i in range(n))\n",
        "    \n",
        "    # Calculate the mean squared error\n",
        "    mse = sum_squared_diff / n\n",
        "    \n",
        "    return mse"
      ],
      "metadata": {
        "id": "ko03xrfTB97j"
      },
      "execution_count": 367,
      "outputs": []
    },
    {
      "cell_type": "code",
      "source": [
        "mse = mean_squared_error(y_test, y_pred)\n",
        "\n",
        "mse"
      ],
      "metadata": {
        "colab": {
          "base_uri": "https://localhost:8080/"
        },
        "id": "WqtapsN4ExC_",
        "outputId": "1df8e167-aeb4-42dd-bb4a-341934716dd3"
      },
      "execution_count": 368,
      "outputs": [
        {
          "output_type": "execute_result",
          "data": {
            "text/plain": [
              "array([0.])"
            ]
          },
          "metadata": {},
          "execution_count": 368
        }
      ]
    },
    {
      "cell_type": "code",
      "source": [
        "from sklearn.metrics import r2_score\n",
        "\n",
        "test_set_r2 = r2_score(y_test, y_pred)\n",
        "\n",
        "print(test_set_r2)"
      ],
      "metadata": {
        "colab": {
          "base_uri": "https://localhost:8080/"
        },
        "id": "GV_B8V6GCI19",
        "outputId": "3ce0d0ca-a603-45b8-93e8-8e2bc7ad1b3a"
      },
      "execution_count": 369,
      "outputs": [
        {
          "output_type": "stream",
          "name": "stdout",
          "text": [
            "1.0\n"
          ]
        }
      ]
    },
    {
      "cell_type": "code",
      "source": [],
      "metadata": {
        "id": "CagCt8q8XD7E"
      },
      "execution_count": 372,
      "outputs": []
    }
  ]
}